{
 "cells": [
  {
   "cell_type": "markdown",
   "id": "daa114ef",
   "metadata": {},
   "source": [
    "## Import Data"
   ]
  },
  {
   "cell_type": "code",
   "execution_count": 1,
   "id": "4b9a1e87",
   "metadata": {
    "id": "4b9a1e87"
   },
   "outputs": [],
   "source": [
    "import pandas as pd\n",
    "import numpy as np\n",
    "import tensorflow as tf\n",
    "import random"
   ]
  },
  {
   "cell_type": "code",
   "execution_count": 54,
   "id": "23fa6559",
   "metadata": {},
   "outputs": [],
   "source": [
    "train.to_csv(\"clean_banget.csv\", index=False)"
   ]
  },
  {
   "cell_type": "code",
   "execution_count": null,
   "id": "0c439f63",
   "metadata": {},
   "outputs": [],
   "source": [
    "# data2 = pd.read_csv(\"data2.csv\", sep= \";\")\n",
    "# data2.groupby(by='label').count()\n",
    "# data2"
   ]
  },
  {
   "cell_type": "code",
   "execution_count": null,
   "id": "6557a356",
   "metadata": {},
   "outputs": [],
   "source": [
    "# filtered = ['joy', 'sadness']"
   ]
  },
  {
   "cell_type": "code",
   "execution_count": null,
   "id": "6f5b8ad3",
   "metadata": {},
   "outputs": [],
   "source": [
    "# data2 = data2[data2['label'].isin(filtered)].reset_index(drop=True)\n",
    "# data2.groupby(by='label').count()"
   ]
  },
  {
   "cell_type": "code",
   "execution_count": null,
   "id": "c63441fd",
   "metadata": {
    "id": "c63441fd",
    "outputId": "79bfdb5d-6d67-40e2-9024-9a021c46f1aa"
   },
   "outputs": [],
   "source": [
    "# train = pd.read_csv('Data_deleted.csv')\n",
    "# train = train.sample(frac=1).reset_index(drop=True)\n",
    "# train = train[[\"label\", \"tweet\"]]\n",
    "\n",
    "# train"
   ]
  },
  {
   "cell_type": "code",
   "execution_count": null,
   "id": "f2e9ba99",
   "metadata": {},
   "outputs": [],
   "source": [
    "# train1 = train[train['label'].isin(['fear', 'anger'])].reset_index(drop=True)\n",
    "# train1.groupby(by='label').count()"
   ]
  },
  {
   "cell_type": "code",
   "execution_count": null,
   "id": "4f94a51e",
   "metadata": {},
   "outputs": [],
   "source": [
    "# train_fix = pd.concat([data2, train1], axis=0).reset_index(drop=True)\n",
    "# train_fix.groupby(by='label').count()"
   ]
  },
  {
   "cell_type": "code",
   "execution_count": null,
   "id": "3f9a097f",
   "metadata": {},
   "outputs": [],
   "source": [
    "# train = train_fix\n",
    "# train = train.sample(frac=1).reset_index(drop=True)\n",
    "# train"
   ]
  },
  {
   "cell_type": "code",
   "execution_count": null,
   "id": "39680c89",
   "metadata": {
    "id": "39680c89",
    "outputId": "939b4955-0adc-4e73-d39d-2c3392cdb20f"
   },
   "outputs": [],
   "source": [
    "# train.describe()"
   ]
  },
  {
   "cell_type": "code",
   "execution_count": null,
   "id": "a96f1627",
   "metadata": {},
   "outputs": [],
   "source": [
    "# # Filter the DataFrame to include only rows where the 'label' column is in the list of specified emotions\n",
    "# filtered_emotions = ['anger', 'fear', 'joy', 'sadness']\n",
    "# filtered_train = train[train['label'].isin(filtered_emotions)]\n",
    "\n",
    "# # Display the resulting DataFrame\n",
    "# filtered_train\n"
   ]
  },
  {
   "cell_type": "code",
   "execution_count": null,
   "id": "aa687ed2",
   "metadata": {
    "id": "aa687ed2",
    "outputId": "08c66a6b-f8ca-4503-8199-5fc7072283bf"
   },
   "outputs": [],
   "source": [
    "# train.info()"
   ]
  },
  {
   "cell_type": "code",
   "execution_count": 2,
   "id": "833f5d80",
   "metadata": {},
   "outputs": [
    {
     "data": {
      "text/html": [
       "<div>\n",
       "<style scoped>\n",
       "    .dataframe tbody tr th:only-of-type {\n",
       "        vertical-align: middle;\n",
       "    }\n",
       "\n",
       "    .dataframe tbody tr th {\n",
       "        vertical-align: top;\n",
       "    }\n",
       "\n",
       "    .dataframe thead th {\n",
       "        text-align: right;\n",
       "    }\n",
       "</style>\n",
       "<table border=\"1\" class=\"dataframe\">\n",
       "  <thead>\n",
       "    <tr style=\"text-align: right;\">\n",
       "      <th></th>\n",
       "      <th>label</th>\n",
       "      <th>tweet</th>\n",
       "    </tr>\n",
       "  </thead>\n",
       "  <tbody>\n",
       "    <tr>\n",
       "      <th>0</th>\n",
       "      <td>sadness</td>\n",
       "      <td>Saya merasa cukup kuat bahwa siswa harus dihuk...</td>\n",
       "    </tr>\n",
       "    <tr>\n",
       "      <th>1</th>\n",
       "      <td>sadness</td>\n",
       "      <td>Saya memiliki untuk diri saya sendiri bahkan k...</td>\n",
       "    </tr>\n",
       "    <tr>\n",
       "      <th>2</th>\n",
       "      <td>joy</td>\n",
       "      <td>Saya secara resmi merasa meriah</td>\n",
       "    </tr>\n",
       "    <tr>\n",
       "      <th>3</th>\n",
       "      <td>joy</td>\n",
       "      <td>Saya merasa beruntung bahwa mereka menemukanny...</td>\n",
       "    </tr>\n",
       "    <tr>\n",
       "      <th>4</th>\n",
       "      <td>fear</td>\n",
       "      <td>sabtu pagi bukannya dapat kabar gembira malah ...</td>\n",
       "    </tr>\n",
       "    <tr>\n",
       "      <th>...</th>\n",
       "      <td>...</td>\n",
       "      <td>...</td>\n",
       "    </tr>\n",
       "    <tr>\n",
       "      <th>19695</th>\n",
       "      <td>fear</td>\n",
       "      <td>Aku gak salah bila mohon pd [USERNAME], segera...</td>\n",
       "    </tr>\n",
       "    <tr>\n",
       "      <th>19696</th>\n",
       "      <td>joy</td>\n",
       "      <td>Saya memberi mereka sedikit sesuatu dari simpa...</td>\n",
       "    </tr>\n",
       "    <tr>\n",
       "      <th>19697</th>\n",
       "      <td>joy</td>\n",
       "      <td>Baca buku ini diawal senyum, ditengah-tengah s...</td>\n",
       "    </tr>\n",
       "    <tr>\n",
       "      <th>19698</th>\n",
       "      <td>fear</td>\n",
       "      <td>aku lebih takut liat bird japan ketemu bam</td>\n",
       "    </tr>\n",
       "    <tr>\n",
       "      <th>19699</th>\n",
       "      <td>love</td>\n",
       "      <td>Sesederhana ini aku mencintaimu, serumit itu k...</td>\n",
       "    </tr>\n",
       "  </tbody>\n",
       "</table>\n",
       "<p>19700 rows × 2 columns</p>\n",
       "</div>"
      ],
      "text/plain": [
       "         label                                              tweet\n",
       "0      sadness  Saya merasa cukup kuat bahwa siswa harus dihuk...\n",
       "1      sadness  Saya memiliki untuk diri saya sendiri bahkan k...\n",
       "2          joy                    Saya secara resmi merasa meriah\n",
       "3          joy  Saya merasa beruntung bahwa mereka menemukanny...\n",
       "4         fear  sabtu pagi bukannya dapat kabar gembira malah ...\n",
       "...        ...                                                ...\n",
       "19695     fear  Aku gak salah bila mohon pd [USERNAME], segera...\n",
       "19696      joy  Saya memberi mereka sedikit sesuatu dari simpa...\n",
       "19697      joy  Baca buku ini diawal senyum, ditengah-tengah s...\n",
       "19698     fear         aku lebih takut liat bird japan ketemu bam\n",
       "19699     love  Sesederhana ini aku mencintaimu, serumit itu k...\n",
       "\n",
       "[19700 rows x 2 columns]"
      ]
     },
     "execution_count": 2,
     "metadata": {},
     "output_type": "execute_result"
    }
   ],
   "source": [
    "train = pd.read_csv('Data_deleted.csv')\n",
    "train = train.sample(frac=1).reset_index(drop=True)\n",
    "train = train[[\"label\", \"tweet\"]]\n",
    "\n",
    "train"
   ]
  },
  {
   "cell_type": "code",
   "execution_count": 3,
   "id": "6bec2209",
   "metadata": {
    "id": "6bec2209",
    "outputId": "beb28976-c8cd-41b7-8ada-0f439bae9b73"
   },
   "outputs": [
    {
     "data": {
      "text/html": [
       "<div>\n",
       "<style scoped>\n",
       "    .dataframe tbody tr th:only-of-type {\n",
       "        vertical-align: middle;\n",
       "    }\n",
       "\n",
       "    .dataframe tbody tr th {\n",
       "        vertical-align: top;\n",
       "    }\n",
       "\n",
       "    .dataframe thead th {\n",
       "        text-align: right;\n",
       "    }\n",
       "</style>\n",
       "<table border=\"1\" class=\"dataframe\">\n",
       "  <thead>\n",
       "    <tr style=\"text-align: right;\">\n",
       "      <th></th>\n",
       "      <th>label</th>\n",
       "      <th>tweet</th>\n",
       "      <th>num_label</th>\n",
       "    </tr>\n",
       "  </thead>\n",
       "  <tbody>\n",
       "    <tr>\n",
       "      <th>0</th>\n",
       "      <td>sadness</td>\n",
       "      <td>Saya merasa cukup kuat bahwa siswa harus dihuk...</td>\n",
       "      <td>3</td>\n",
       "    </tr>\n",
       "    <tr>\n",
       "      <th>1</th>\n",
       "      <td>sadness</td>\n",
       "      <td>Saya memiliki untuk diri saya sendiri bahkan k...</td>\n",
       "      <td>3</td>\n",
       "    </tr>\n",
       "    <tr>\n",
       "      <th>2</th>\n",
       "      <td>joy</td>\n",
       "      <td>Saya secara resmi merasa meriah</td>\n",
       "      <td>2</td>\n",
       "    </tr>\n",
       "    <tr>\n",
       "      <th>3</th>\n",
       "      <td>joy</td>\n",
       "      <td>Saya merasa beruntung bahwa mereka menemukanny...</td>\n",
       "      <td>2</td>\n",
       "    </tr>\n",
       "    <tr>\n",
       "      <th>4</th>\n",
       "      <td>fear</td>\n",
       "      <td>sabtu pagi bukannya dapat kabar gembira malah ...</td>\n",
       "      <td>1</td>\n",
       "    </tr>\n",
       "  </tbody>\n",
       "</table>\n",
       "</div>"
      ],
      "text/plain": [
       "     label                                              tweet  num_label\n",
       "0  sadness  Saya merasa cukup kuat bahwa siswa harus dihuk...          3\n",
       "1  sadness  Saya memiliki untuk diri saya sendiri bahkan k...          3\n",
       "2      joy                    Saya secara resmi merasa meriah          2\n",
       "3      joy  Saya merasa beruntung bahwa mereka menemukanny...          2\n",
       "4     fear  sabtu pagi bukannya dapat kabar gembira malah ...          1"
      ]
     },
     "execution_count": 3,
     "metadata": {},
     "output_type": "execute_result"
    }
   ],
   "source": [
    "train['num_label'] = train['label'].map({'anger':0, 'fear':1, 'joy':2, 'love':2, 'sadness':3})\n",
    "train.head()"
   ]
  },
  {
   "cell_type": "code",
   "execution_count": 4,
   "id": "f5361cf7",
   "metadata": {
    "scrolled": true
   },
   "outputs": [
    {
     "data": {
      "text/html": [
       "<div>\n",
       "<style scoped>\n",
       "    .dataframe tbody tr th:only-of-type {\n",
       "        vertical-align: middle;\n",
       "    }\n",
       "\n",
       "    .dataframe tbody tr th {\n",
       "        vertical-align: top;\n",
       "    }\n",
       "\n",
       "    .dataframe thead th {\n",
       "        text-align: right;\n",
       "    }\n",
       "</style>\n",
       "<table border=\"1\" class=\"dataframe\">\n",
       "  <thead>\n",
       "    <tr style=\"text-align: right;\">\n",
       "      <th></th>\n",
       "      <th>label</th>\n",
       "      <th>tweet</th>\n",
       "    </tr>\n",
       "    <tr>\n",
       "      <th>num_label</th>\n",
       "      <th></th>\n",
       "      <th></th>\n",
       "    </tr>\n",
       "  </thead>\n",
       "  <tbody>\n",
       "    <tr>\n",
       "      <th>0</th>\n",
       "      <td>3974</td>\n",
       "      <td>3974</td>\n",
       "    </tr>\n",
       "    <tr>\n",
       "      <th>1</th>\n",
       "      <td>3415</td>\n",
       "      <td>3415</td>\n",
       "    </tr>\n",
       "    <tr>\n",
       "      <th>2</th>\n",
       "      <td>7521</td>\n",
       "      <td>7521</td>\n",
       "    </tr>\n",
       "    <tr>\n",
       "      <th>3</th>\n",
       "      <td>4790</td>\n",
       "      <td>4790</td>\n",
       "    </tr>\n",
       "  </tbody>\n",
       "</table>\n",
       "</div>"
      ],
      "text/plain": [
       "           label  tweet\n",
       "num_label              \n",
       "0           3974   3974\n",
       "1           3415   3415\n",
       "2           7521   7521\n",
       "3           4790   4790"
      ]
     },
     "execution_count": 4,
     "metadata": {},
     "output_type": "execute_result"
    }
   ],
   "source": [
    "train.groupby(by=\"num_label\").count()"
   ]
  },
  {
   "cell_type": "code",
   "execution_count": 5,
   "id": "9eba0c2a",
   "metadata": {},
   "outputs": [],
   "source": [
    "# # inbalance class\n",
    "# -nambah data\n",
    "# -samain\n",
    "# -balancing smote/oversampling\n",
    "# ilt 1/2\n",
    "# cari data\n",
    "# feature eng\n",
    "# data mentok :\n",
    "#     mencari count masing-masing kata\n",
    "#     membuat kolom baru\n",
    "#     sedih\n",
    "#     kata mana yang paling sering keluar\n",
    "#     dicount\n",
    "#     ini jadi feature baru jadi label lain\n",
    "    \n",
    "#     panjang kata\n",
    "#     kecenderungan kata lebih panjang --> sedih/seneng dll\n",
    "    \n",
    "#     Pahami datanya\n",
    "\n",
    "\n",
    "\n",
    "# analisis persebaran data/data baru tentuin metodenya\n",
    "# liat format\n",
    "# formal/informal \n",
    "# stopword --> disesuaikan dgn formal/informal\n",
    "\n",
    "\n",
    "# dataoversamppling <10% (biasanaya) (nambahnya jangna kebanyakan)\n",
    "\n",
    "\n"
   ]
  },
  {
   "cell_type": "markdown",
   "id": "04265c9f",
   "metadata": {
    "id": "04265c9f"
   },
   "source": [
    "## Data Preprocessing"
   ]
  },
  {
   "cell_type": "code",
   "execution_count": 11,
   "id": "06bc63c2",
   "metadata": {},
   "outputs": [
    {
     "name": "stdout",
     "output_type": "stream",
     "text": [
      "Collecting Sastrawi\n",
      "  Using cached Sastrawi-1.0.1-py2.py3-none-any.whl.metadata (909 bytes)\n",
      "Using cached Sastrawi-1.0.1-py2.py3-none-any.whl (209 kB)\n",
      "Installing collected packages: Sastrawi\n",
      "Successfully installed Sastrawi-1.0.1\n"
     ]
    }
   ],
   "source": [
    "# !pip install emoji\n",
    "# !pip install python-crfsuite\n",
    "!pip install Sastrawi"
   ]
  },
  {
   "cell_type": "code",
   "execution_count": null,
   "id": "0854d675",
   "metadata": {},
   "outputs": [],
   "source": []
  },
  {
   "cell_type": "code",
   "execution_count": 12,
   "id": "391f6847",
   "metadata": {
    "id": "391f6847"
   },
   "outputs": [],
   "source": [
    "import re\n",
    "import emoji\n",
    "import nltk\n",
    "from nltk.tokenize import word_tokenize\n",
    "from nltk.corpus import stopwords\n",
    "from nltk.tag import CRFTagger\n",
    "excelstopwords = pd.read_excel('stopwords.xlsx')\n",
    "kamusalay= pd.read_csv(\"kamusalay.csv\")\n",
    "import re\n",
    "import Sastrawi\n",
    "from Sastrawi.StopWordRemover.StopWordRemoverFactory import StopWordRemoverFactory\n",
    "from Sastrawi.Stemmer.StemmerFactory import StemmerFactory"
   ]
  },
  {
   "cell_type": "code",
   "execution_count": 13,
   "id": "692e950b",
   "metadata": {},
   "outputs": [],
   "source": [
    "def lowercase(review):\n",
    "    return review.lower() #dari python langsung, bkn dari external library\n",
    "\n",
    "# hapus URL\n",
    "def remove_url(review):\n",
    "    return re.sub(r'http\\S+', '', review)\n",
    "\n",
    "def remove_hashtags(review):\n",
    "    # Pola regex untuk mendeteksi hashtag\n",
    "    pattern = r'#\\w+'\n",
    "    return re.sub(pattern, '', review)\n",
    "\n",
    "\n",
    "#KAMUS ALAY\n",
    "def alay(review):\n",
    "    alay_dic = kamusalay.to_dict()\n",
    "    alay_dic = dict(zip(kamusalay.iloc[:,0], kamusalay.iloc[:,1]))\n",
    "    words = review.split()\n",
    "    for i in range(len(words)):\n",
    "        word = words[i]\n",
    "        if word in alay_dic.keys():\n",
    "            words[i] = alay_dic[word]\n",
    "    sentence = \" \".join(words)\n",
    "    return sentence\n",
    "\n",
    "def remove_square_brackets(review):\n",
    "    # Menghapus teks di dalam kurung siku beserta kurungnya\n",
    "    return re.sub(r'\\[.*?\\]', '', review)\n",
    "\n",
    "# hapus irrelevant char(angka, simbol, tanda baca)\n",
    "def remove_irrelevant(review):\n",
    "    return re.sub('[^a-zA-Z\\s]', ' ', review)\n",
    "\n",
    "# hapus spasi lebih dari 1\n",
    "def remove_space(review):\n",
    "    review= re.sub(r'\\s+', ' ', review)\n",
    "    review= review.replace('\\n', ' ')\n",
    "    review= review.replace('\\\\n', ' ')\n",
    "    review= review.replace('\\t', ' ')\n",
    "    review= review.replace('\\\\t', ' ')\n",
    "    review= review.replace('\\\\u', ' ')\n",
    "    review= review.replace('\\\\', ' ')\n",
    "    return review\n",
    "\n",
    "# hapus emoji\n",
    "def remove_emoji(review):\n",
    "    emoji_pattern= re.compile(\"[\"\n",
    "                           u\"\\U0001F600-\\U0001F64F\"  # emoticon\n",
    "                           u\"\\U0001F300-\\U0001F5FF\"  # simbol & dingbat\n",
    "                           u\"\\U0001F680-\\U0001F6FF\"  # transportasi & simbol map\n",
    "                           u\"\\U0001F700-\\U0001F77F\"  # simbol kuno\n",
    "                           u\"\\U0001F780-\\U0001F7FF\"  # simbol kuno tambahan\n",
    "                           u\"\\U0001F800-\\U0001F8FF\"  # simbol tanda batas\n",
    "                           u\"\\U0001F900-\\U0001F9FF\"  # emoticon tambahan\n",
    "                           u\"\\U0001FA00-\\U0001FA6F\"  # simbol musik\n",
    "                           u\"\\U0001FA70-\\U0001FAFF\"  # simbol musik tambahan\n",
    "                           u\"\\U00002702-\\U000027B0\"  # simbol karakter\n",
    "                           u\"\\U000024C2-\\U0001F251\"  # simbol katakter tambahan\n",
    "                           \"]+\", flags= re.UNICODE)\n",
    "    return emoji_pattern.sub(r'', review)\n",
    "\n",
    "\n",
    "#REMOVING REPEAT CHARACTER\n",
    "def repeat_char(review):\n",
    "    review= re.sub('([A-Za-z])\\\\1{2,}','\\\\1', review)\n",
    "    return review\n",
    "\n",
    "\n",
    "#Remove Stopword Indo\n",
    "def remove_stopwords(sentence):\n",
    "    stopwords_list = [\n",
    "    \"ada\", \"adalah\", \"akan\", \"aku\", \"anda\", \"apa\", \"apakah\", \"atas\", \"atau\",\n",
    "    \"bagaimana\", \"banyak\", \"bahwa\", \"bagi\", \"baru\", \"beberapa\", \"belum\", \"bisa\",\n",
    "    \"bukan\", \"dalam\", \"dan\", \"dengan\", \"di\", \"dari\", \"demi\", \"dia\", \"hingga\",\n",
    "    \"itu\", \"ini\", \"jadi\", \"jika\", \"juga\", \"karena\", \"ke\", \"kita\", \"lagi\",\n",
    "    \"maka\", \"mereka\", \"oleh\", \"pada\", \"saat\", \"saya\", \"sejak\", \"sebagai\", \n",
    "    \"sedang\", \"sekarang\", \"setiap\", \"setelah\", \"tetapi\", \"tidak\", \"untuk\", \n",
    "    \"yang\"\n",
    "    ]\n",
    "    \n",
    "    #sasatrawi -stemming\n",
    "    \n",
    "#     stopwords_list = list(excelstopwords['stopwords'])\n",
    "    words = sentence.split()\n",
    "    no_words = [w for w in words if w not in stopwords_list]\n",
    "    sentence = \" \".join(no_words)\n",
    "    return sentence\n",
    "\n",
    "\n",
    "from Sastrawi.Stemmer.StemmerFactory import StemmerFactory\n",
    "\n",
    "# Create stemmer\n",
    "stemmer_factory = StemmerFactory()\n",
    "stemmer = stemmer_factory.create_stemmer()\n",
    "\n",
    "# Stemming function\n",
    "def stemmed(review):\n",
    "    return stemmer.stem(review)\n",
    "\n"
   ]
  },
  {
   "cell_type": "code",
   "execution_count": 14,
   "id": "050fb938",
   "metadata": {
    "id": "050fb938",
    "outputId": "14bedcbd-6f36-4a14-8ab5-36633ab30be6"
   },
   "outputs": [],
   "source": [
    "def df_prep(train):\n",
    "    train['filtering']= train['tweet'].apply(lowercase)\n",
    "    train['filtering']= train['filtering'].apply(remove_hashtags)\n",
    "    train['filtering']= train['filtering'].apply(remove_url)\n",
    "   # train['filtering']= train['filtering'].apply(alay)\n",
    "    train['filtering']= train['filtering'].apply(remove_square_brackets)\n",
    "    train['filtering']= train['filtering'].apply(remove_irrelevant)\n",
    "    train['filtering']= train['filtering'].apply(remove_space)\n",
    "    train['filtering']= train['filtering'].apply(remove_emoji)\n",
    "    train['filtering']= train['filtering'].apply(repeat_char)\n",
    "    train[\"filtering\"]= train[\"filtering\"].apply(remove_stopwords)\n",
    "    train['filtering']= train['filtering'].apply(stemmed)\n",
    "    return train"
   ]
  },
  {
   "cell_type": "code",
   "execution_count": 15,
   "id": "3ebf5df5",
   "metadata": {},
   "outputs": [
    {
     "data": {
      "text/html": [
       "<div>\n",
       "<style scoped>\n",
       "    .dataframe tbody tr th:only-of-type {\n",
       "        vertical-align: middle;\n",
       "    }\n",
       "\n",
       "    .dataframe tbody tr th {\n",
       "        vertical-align: top;\n",
       "    }\n",
       "\n",
       "    .dataframe thead th {\n",
       "        text-align: right;\n",
       "    }\n",
       "</style>\n",
       "<table border=\"1\" class=\"dataframe\">\n",
       "  <thead>\n",
       "    <tr style=\"text-align: right;\">\n",
       "      <th></th>\n",
       "      <th>label</th>\n",
       "      <th>tweet</th>\n",
       "      <th>num_label</th>\n",
       "      <th>filtering</th>\n",
       "      <th>length</th>\n",
       "    </tr>\n",
       "  </thead>\n",
       "  <tbody>\n",
       "    <tr>\n",
       "      <th>0</th>\n",
       "      <td>sadness</td>\n",
       "      <td>Saya merasa cukup kuat bahwa siswa harus dihuk...</td>\n",
       "      <td>3</td>\n",
       "      <td>rasa cukup kuat siswa harus hukum berapa baik ...</td>\n",
       "      <td>102</td>\n",
       "    </tr>\n",
       "    <tr>\n",
       "      <th>1</th>\n",
       "      <td>sadness</td>\n",
       "      <td>Saya memiliki untuk diri saya sendiri bahkan k...</td>\n",
       "      <td>3</td>\n",
       "      <td>milik diri sendiri bahkan ketika rasa jelek</td>\n",
       "      <td>43</td>\n",
       "    </tr>\n",
       "    <tr>\n",
       "      <th>2</th>\n",
       "      <td>joy</td>\n",
       "      <td>Saya secara resmi merasa meriah</td>\n",
       "      <td>2</td>\n",
       "      <td>cara resmi rasa riah</td>\n",
       "      <td>20</td>\n",
       "    </tr>\n",
       "    <tr>\n",
       "      <th>3</th>\n",
       "      <td>joy</td>\n",
       "      <td>Saya merasa beruntung bahwa mereka menemukanny...</td>\n",
       "      <td>2</td>\n",
       "      <td>rasa untung temu rasa untung milik orang orang...</td>\n",
       "      <td>61</td>\n",
       "    </tr>\n",
       "    <tr>\n",
       "      <th>4</th>\n",
       "      <td>fear</td>\n",
       "      <td>sabtu pagi bukannya dapat kabar gembira malah ...</td>\n",
       "      <td>1</td>\n",
       "      <td>sabtu pagi bukan dapat kabar gembira malah dap...</td>\n",
       "      <td>120</td>\n",
       "    </tr>\n",
       "    <tr>\n",
       "      <th>...</th>\n",
       "      <td>...</td>\n",
       "      <td>...</td>\n",
       "      <td>...</td>\n",
       "      <td>...</td>\n",
       "      <td>...</td>\n",
       "    </tr>\n",
       "    <tr>\n",
       "      <th>19694</th>\n",
       "      <td>fear</td>\n",
       "      <td>Aku gak salah bila mohon pd [USERNAME], segera...</td>\n",
       "      <td>1</td>\n",
       "      <td>gak salah bila mohon pd segera perintah menkes...</td>\n",
       "      <td>207</td>\n",
       "    </tr>\n",
       "    <tr>\n",
       "      <th>19695</th>\n",
       "      <td>joy</td>\n",
       "      <td>Saya memberi mereka sedikit sesuatu dari simpa...</td>\n",
       "      <td>2</td>\n",
       "      <td>beri sedikit sesuatu simpan paypal orang luar ...</td>\n",
       "      <td>95</td>\n",
       "    </tr>\n",
       "    <tr>\n",
       "      <th>19696</th>\n",
       "      <td>joy</td>\n",
       "      <td>Baca buku ini diawal senyum, ditengah-tengah s...</td>\n",
       "      <td>2</td>\n",
       "      <td>baca buku awal senyum tengah tengah senyum mir...</td>\n",
       "      <td>79</td>\n",
       "    </tr>\n",
       "    <tr>\n",
       "      <th>19697</th>\n",
       "      <td>fear</td>\n",
       "      <td>aku lebih takut liat bird japan ketemu bam</td>\n",
       "      <td>1</td>\n",
       "      <td>lebih takut liat bird japan ketemu bam</td>\n",
       "      <td>38</td>\n",
       "    </tr>\n",
       "    <tr>\n",
       "      <th>19698</th>\n",
       "      <td>love</td>\n",
       "      <td>Sesederhana ini aku mencintaimu, serumit itu k...</td>\n",
       "      <td>2</td>\n",
       "      <td>sederhana cinta rumit kau cinta hehe tak yakin...</td>\n",
       "      <td>89</td>\n",
       "    </tr>\n",
       "  </tbody>\n",
       "</table>\n",
       "<p>19699 rows × 5 columns</p>\n",
       "</div>"
      ],
      "text/plain": [
       "         label                                              tweet  num_label  \\\n",
       "0      sadness  Saya merasa cukup kuat bahwa siswa harus dihuk...          3   \n",
       "1      sadness  Saya memiliki untuk diri saya sendiri bahkan k...          3   \n",
       "2          joy                    Saya secara resmi merasa meriah          2   \n",
       "3          joy  Saya merasa beruntung bahwa mereka menemukanny...          2   \n",
       "4         fear  sabtu pagi bukannya dapat kabar gembira malah ...          1   \n",
       "...        ...                                                ...        ...   \n",
       "19694     fear  Aku gak salah bila mohon pd [USERNAME], segera...          1   \n",
       "19695      joy  Saya memberi mereka sedikit sesuatu dari simpa...          2   \n",
       "19696      joy  Baca buku ini diawal senyum, ditengah-tengah s...          2   \n",
       "19697     fear         aku lebih takut liat bird japan ketemu bam          1   \n",
       "19698     love  Sesederhana ini aku mencintaimu, serumit itu k...          2   \n",
       "\n",
       "                                               filtering  length  \n",
       "0      rasa cukup kuat siswa harus hukum berapa baik ...     102  \n",
       "1            milik diri sendiri bahkan ketika rasa jelek      43  \n",
       "2                                   cara resmi rasa riah      20  \n",
       "3      rasa untung temu rasa untung milik orang orang...      61  \n",
       "4      sabtu pagi bukan dapat kabar gembira malah dap...     120  \n",
       "...                                                  ...     ...  \n",
       "19694  gak salah bila mohon pd segera perintah menkes...     207  \n",
       "19695  beri sedikit sesuatu simpan paypal orang luar ...      95  \n",
       "19696  baca buku awal senyum tengah tengah senyum mir...      79  \n",
       "19697             lebih takut liat bird japan ketemu bam      38  \n",
       "19698  sederhana cinta rumit kau cinta hehe tak yakin...      89  \n",
       "\n",
       "[19699 rows x 5 columns]"
      ]
     },
     "execution_count": 15,
     "metadata": {},
     "output_type": "execute_result"
    }
   ],
   "source": [
    "train = df_prep(train)\n",
    "train = train[train['filtering'] != \"\"].reset_index(drop=True)\n",
    "train['length'] = train['filtering'].apply(len)\n",
    "train"
   ]
  },
  {
   "cell_type": "code",
   "execution_count": 16,
   "id": "7b4f2035",
   "metadata": {
    "id": "7b4f2035",
    "outputId": "8ac4b771-c032-44c2-ebba-99704fecd046"
   },
   "outputs": [
    {
     "data": {
      "text/plain": [
       "17729"
      ]
     },
     "execution_count": 16,
     "metadata": {},
     "output_type": "execute_result"
    }
   ],
   "source": [
    "train_split = 0.9\n",
    "train_size = int(len(train['filtering'])*train_split)\n",
    "train_size"
   ]
  },
  {
   "cell_type": "code",
   "execution_count": 17,
   "id": "4b24cd7f",
   "metadata": {
    "id": "4b24cd7f"
   },
   "outputs": [],
   "source": [
    "traindata = train[0:train_size]\n",
    "valdata = train[train_size:]"
   ]
  },
  {
   "cell_type": "code",
   "execution_count": 18,
   "id": "4c88fbf3",
   "metadata": {
    "id": "4c88fbf3"
   },
   "outputs": [],
   "source": [
    "import numpy as np\n",
    "from tensorflow.keras.preprocessing.text import Tokenizer\n",
    "from tensorflow.keras.preprocessing.sequence import pad_sequences\n",
    "from tensorflow.keras.optimizers import Adam\n",
    "\n",
    "\n",
    "# Parameters for padding and OOV tokens\n",
    "trunc_type='post'\n",
    "padding_type='post'\n",
    "oov_tok = \"<OOV>\"\n",
    "max_length = 200 \n",
    "#train['length'].max()\n",
    "vocab_size = 5000 #coba dikecilkan biar ga overfit len(unique())\n",
    "embedding_dim = 32 \n",
    "\n",
    "# Initialize the Tokenizer class\n",
    "tokenizer = Tokenizer(num_words=5000, oov_token='<OOV>')\n",
    "\n",
    "# Generate the word index dictionary\n",
    "tokenizer.fit_on_texts(traindata['filtering'])\n",
    "word_index = tokenizer.word_index\n",
    "\n",
    "# Generate and pad the training sequences\n",
    "training_sequences = tokenizer.texts_to_sequences(traindata['filtering'])\n",
    "training_padded = pad_sequences(training_sequences, maxlen=max_length, padding=padding_type, truncating=trunc_type)\n",
    "\n",
    "# Generate and pad the validation sequences\n",
    "validation_sequences = tokenizer.texts_to_sequences(valdata['filtering'])\n",
    "validation_padded = pad_sequences(validation_sequences, maxlen=max_length, padding=padding_type, truncating=trunc_type)\n",
    "\n",
    "\n",
    "#pre trained model (embedding vector trained) last choice\n"
   ]
  },
  {
   "cell_type": "code",
   "execution_count": null,
   "id": "3cd8f512",
   "metadata": {},
   "outputs": [],
   "source": []
  },
  {
   "cell_type": "markdown",
   "id": "5682de61",
   "metadata": {},
   "source": [
    "## Build Model"
   ]
  },
  {
   "cell_type": "code",
   "execution_count": 19,
   "id": "4e1fb0ed",
   "metadata": {
    "id": "4e1fb0ed"
   },
   "outputs": [],
   "source": [
    "# model = tf.keras.Sequential([\n",
    "#     tf.keras.layers.Embedding(5000, 16, input_length=max_length),\n",
    "#     tf.keras.layers.GlobalAveragePooling1D(),\n",
    "#     tf.keras.layers.Dense(24, activation='relu'),\n",
    "#     tf.keras.layers.Dense(4, activation='softmax')\n",
    "# ])\n",
    "\n",
    "# learning_rate = 0.001\n",
    "# model.compile(loss=tf.keras.losses.SparseCategoricalCrossentropy(from_logits=False),\n",
    "#               optimizer=tf.keras.optimizers.Adam(learning_rate), metrics=['accuracy'])"
   ]
  },
  {
   "cell_type": "code",
   "execution_count": 20,
   "id": "4f341131",
   "metadata": {},
   "outputs": [],
   "source": [
    "model = tf.keras.Sequential([\n",
    "        tf.keras.layers.Embedding(vocab_size, embedding_dim, input_length=max_length),\n",
    "        tf.keras.layers.Dropout(0.2),\n",
    "        tf.keras.layers.GlobalMaxPooling1D(),\n",
    "        tf.keras.layers.Dense(16, activation = 'relu'),\n",
    "        tf.keras.layers.Dropout(0.2),\n",
    "        tf.keras.layers.Dense(4, activation='softmax')\n",
    "])\n",
    "\n",
    "#learning_rate = 0.001\n",
    "model.compile(loss=tf.keras.losses.SparseCategoricalCrossentropy(from_logits=False),\n",
    "              optimizer=tf.keras.optimizers.Adam(), metrics=['accuracy'])\n",
    "\n",
    "#implementasi momentum --> untuk mencegah stuck local minima --> goal global minima\n"
   ]
  },
  {
   "cell_type": "code",
   "execution_count": 24,
   "id": "9f26626d",
   "metadata": {},
   "outputs": [
    {
     "name": "stdout",
     "output_type": "stream",
     "text": [
      "Model: \"sequential_2\"\n",
      "_________________________________________________________________\n",
      "Layer (type)                 Output Shape              Param #   \n",
      "=================================================================\n",
      "embedding_2 (Embedding)      (None, 200, 32)           160000    \n",
      "_________________________________________________________________\n",
      "conv1d_1 (Conv1D)            (None, 198, 32)           3104      \n",
      "_________________________________________________________________\n",
      "global_average_pooling1d_1 ( (None, 32)                0         \n",
      "_________________________________________________________________\n",
      "dropout_4 (Dropout)          (None, 32)                0         \n",
      "_________________________________________________________________\n",
      "dense_4 (Dense)              (None, 16)                528       \n",
      "_________________________________________________________________\n",
      "dropout_5 (Dropout)          (None, 16)                0         \n",
      "_________________________________________________________________\n",
      "dense_5 (Dense)              (None, 4)                 68        \n",
      "=================================================================\n",
      "Total params: 163,700\n",
      "Trainable params: 163,700\n",
      "Non-trainable params: 0\n",
      "_________________________________________________________________\n"
     ]
    }
   ],
   "source": [
    "import tensorflow as tf\n",
    "\n",
    "# Define the model architecture with an added Conv1D layer\n",
    "model = tf.keras.Sequential([\n",
    "    tf.keras.layers.Embedding(vocab_size, embedding_dim, input_length=max_length),\n",
    "    tf.keras.layers.Conv1D(32, 3, activation='relu'),  # Add Conv1D layer with 32 filters and a kernel size of 3\n",
    "    tf.keras.layers.GlobalAveragePooling1D(),\n",
    "    tf.keras.layers.Dropout(0.2),\n",
    "    tf.keras.layers.Dense(16, activation='relu'),\n",
    "    tf.keras.layers.Dropout(0.2),\n",
    "    tf.keras.layers.Dense(4, activation='softmax')\n",
    "])\n",
    "\n",
    "# Compile the model\n",
    "model.compile(\n",
    "    loss=tf.keras.losses.SparseCategoricalCrossentropy(from_logits=False),\n",
    "    optimizer=tf.keras.optimizers.Adam(),\n",
    "    metrics=['accuracy']\n",
    ")\n",
    "\n",
    "# Summary of the model\n",
    "model.summary()\n"
   ]
  },
  {
   "cell_type": "code",
   "execution_count": 25,
   "id": "668a97ac",
   "metadata": {
    "id": "668a97ac",
    "outputId": "0bcbe5b0-ac30-4650-b469-47fbe5cee9f4"
   },
   "outputs": [
    {
     "name": "stdout",
     "output_type": "stream",
     "text": [
      "Epoch 1/20\n",
      "139/139 - 5s - loss: 1.3481 - accuracy: 0.3762 - val_loss: 1.3276 - val_accuracy: 0.3959\n",
      "Epoch 2/20\n",
      "139/139 - 5s - loss: 1.2829 - accuracy: 0.3966 - val_loss: 1.1687 - val_accuracy: 0.4736\n",
      "Epoch 3/20\n",
      "139/139 - 5s - loss: 1.0692 - accuracy: 0.5025 - val_loss: 0.9700 - val_accuracy: 0.5848\n",
      "Epoch 4/20\n",
      "139/139 - 5s - loss: 0.9287 - accuracy: 0.5932 - val_loss: 0.8852 - val_accuracy: 0.6223\n",
      "Epoch 5/20\n",
      "139/139 - 5s - loss: 0.8553 - accuracy: 0.6333 - val_loss: 0.8578 - val_accuracy: 0.6371\n",
      "Epoch 6/20\n",
      "139/139 - 5s - loss: 0.8080 - accuracy: 0.6643 - val_loss: 0.8288 - val_accuracy: 0.6655\n",
      "Epoch 7/20\n",
      "139/139 - 5s - loss: 0.7580 - accuracy: 0.6888 - val_loss: 0.8151 - val_accuracy: 0.6731\n",
      "Epoch 8/20\n",
      "139/139 - 5s - loss: 0.7232 - accuracy: 0.7092 - val_loss: 0.7967 - val_accuracy: 0.6822\n",
      "Epoch 9/20\n",
      "139/139 - 5s - loss: 0.6862 - accuracy: 0.7275 - val_loss: 0.7748 - val_accuracy: 0.6980\n",
      "Epoch 10/20\n",
      "139/139 - 5s - loss: 0.6487 - accuracy: 0.7452 - val_loss: 0.7569 - val_accuracy: 0.7076\n",
      "Epoch 11/20\n",
      "139/139 - 5s - loss: 0.6123 - accuracy: 0.7656 - val_loss: 0.7255 - val_accuracy: 0.7305\n",
      "Epoch 12/20\n",
      "139/139 - 5s - loss: 0.5730 - accuracy: 0.7861 - val_loss: 0.7067 - val_accuracy: 0.7401\n",
      "Epoch 13/20\n",
      "139/139 - 5s - loss: 0.5263 - accuracy: 0.8100 - val_loss: 0.6830 - val_accuracy: 0.7655\n",
      "Epoch 14/20\n",
      "139/139 - 5s - loss: 0.4881 - accuracy: 0.8344 - val_loss: 0.6640 - val_accuracy: 0.7802\n",
      "Epoch 15/20\n",
      "139/139 - 5s - loss: 0.4488 - accuracy: 0.8523 - val_loss: 0.6537 - val_accuracy: 0.7904\n",
      "Epoch 16/20\n",
      "139/139 - 5s - loss: 0.4308 - accuracy: 0.8611 - val_loss: 0.6536 - val_accuracy: 0.7904\n",
      "Epoch 17/20\n",
      "139/139 - 5s - loss: 0.4107 - accuracy: 0.8654 - val_loss: 0.6554 - val_accuracy: 0.7954\n",
      "Epoch 18/20\n",
      "139/139 - 5s - loss: 0.3879 - accuracy: 0.8762 - val_loss: 0.6606 - val_accuracy: 0.7883\n",
      "Epoch 19/20\n",
      "139/139 - 5s - loss: 0.3739 - accuracy: 0.8819 - val_loss: 0.6665 - val_accuracy: 0.7924\n",
      "Epoch 20/20\n",
      "139/139 - 5s - loss: 0.3612 - accuracy: 0.8874 - val_loss: 0.6709 - val_accuracy: 0.7919\n"
     ]
    }
   ],
   "source": [
    "num_epochs = 20\n",
    "BATCH_SIZE = 128\n",
    "history = model.fit(training_padded, traindata['num_label'], batch_size = BATCH_SIZE, epochs=num_epochs,\n",
    "                    validation_data=(validation_padded, valdata['num_label']), verbose=2)"
   ]
  },
  {
   "cell_type": "code",
   "execution_count": 26,
   "id": "0e02400e",
   "metadata": {
    "id": "0e02400e",
    "outputId": "0f4a4d5e-0f3a-4262-c4dd-9f3fa692b7ed"
   },
   "outputs": [
    {
     "data": {
      "image/png": "[encoded data removed]",
      "text/plain": [
       "<Figure size 640x480 with 1 Axes>"
      ]
     },
     "metadata": {},
     "output_type": "display_data"
    },
    {
     "data": {
      "image/png": "[encoded data removed]",
      "text/plain": [
       "<Figure size 640x480 with 1 Axes>"
      ]
     },
     "metadata": {},
     "output_type": "display_data"
    }
   ],
   "source": [
    "import matplotlib.pyplot as plt\n",
    "\n",
    "# Plot utility\n",
    "def plot_graphs(history, string):\n",
    "  plt.plot(history.history[string])\n",
    "  plt.plot(history.history['val_'+string])\n",
    "  plt.xlabel(\"Epochs\")\n",
    "  plt.ylabel(string)\n",
    "  plt.legend([string, 'val_'+string])\n",
    "  plt.show()\n",
    "\n",
    "# Plot the accuracy and loss\n",
    "plot_graphs(history, \"accuracy\")\n",
    "plot_graphs(history, \"loss\")"
   ]
  },
  {
   "cell_type": "code",
   "execution_count": null,
   "id": "50ba2eb0",
   "metadata": {},
   "outputs": [],
   "source": []
  },
  {
   "cell_type": "markdown",
   "id": "cb8e3af7",
   "metadata": {},
   "source": [
    "## Predicting"
   ]
  },
  {
   "cell_type": "code",
   "execution_count": 27,
   "id": "07015ad9",
   "metadata": {},
   "outputs": [
    {
     "data": {
      "text/plain": [
       "'Brosis, hari ini gue lagi on the way ke kampus bareng pacar, tiba-tiba ada anjing yang ngejar-ngejar gue, bikin deg-degan banget, ya Allah! Trus pas nyampe kampus, parkiran full banget, sampe gue sama pacar muter-muter gak dapet-dapet tempat parkir. Akhirnya, kita berdua telat masuk kelas deh! Pas udah masuk, dosen langsung nyerocos ngomel-ngomel gara-gara telat. Capek banget hari ini, apalagi sama pacar.'"
      ]
     },
     "execution_count": 27,
     "metadata": {},
     "output_type": "execute_result"
    }
   ],
   "source": [
    "text = ''\"Brosis, hari ini gue lagi on the way ke kampus bareng pacar, tiba-tiba ada anjing yang ngejar-ngejar gue, bikin deg-degan banget, ya Allah! Trus pas nyampe kampus, parkiran full banget, sampe gue sama pacar muter-muter gak dapet-dapet tempat parkir. Akhirnya, kita berdua telat masuk kelas deh! Pas udah masuk, dosen langsung nyerocos ngomel-ngomel gara-gara telat. Capek banget hari ini, apalagi sama pacar.\"\n",
    "text"
   ]
  },
  {
   "cell_type": "code",
   "execution_count": 28,
   "id": "db1fdeb2",
   "metadata": {},
   "outputs": [],
   "source": [
    "#data test preprocessing\n",
    "\n",
    "def prep_test(review):\n",
    "    review = lowercase(review)\n",
    "    review = remove_url(review)\n",
    "    review = remove_irrelevant(review)\n",
    "    review = remove_space(review)\n",
    "    review = remove_emoji(review)\n",
    "    review = repeat_char(review)\n",
    "    review = remove_stopwords(review)\n",
    "    text = [review]\n",
    "    inference_sequences = tokenizer.texts_to_sequences(text)\n",
    "    inference_padded = pad_sequences(inference_sequences, padding=padding_type, maxlen=max_length)\n",
    "    return inference_padded"
   ]
  },
  {
   "cell_type": "code",
   "execution_count": 29,
   "id": "849f0473",
   "metadata": {},
   "outputs": [
    {
     "data": {
      "text/plain": [
       "array([[   1,   14,   39, 1045,  398, 2761, 1062,  679,  395,  230,  230,\n",
       "         571, 2929, 2929,   39,  130,  878, 1754,   52,   29,  220,  400,\n",
       "         151, 1495, 1062,    1, 2430,   52,  200,   39,   10,  395, 1869,\n",
       "        1869,   66,  635,  635,   84, 1109,    1,    1, 1396,  158,  262,\n",
       "         322,  151,   62,  158, 1942,  268,    1, 2149, 2149,  656,  656,\n",
       "        1396, 1179,   52,   14,  384,   10,  395,    0,    0,    0,    0,\n",
       "           0,    0,    0,    0,    0,    0,    0,    0,    0,    0,    0,\n",
       "           0,    0,    0,    0,    0,    0,    0,    0,    0,    0,    0,\n",
       "           0,    0,    0,    0,    0,    0,    0,    0,    0,    0,    0,\n",
       "           0,    0,    0,    0,    0,    0,    0,    0,    0,    0,    0,\n",
       "           0,    0,    0,    0,    0,    0,    0,    0,    0,    0,    0,\n",
       "           0,    0,    0,    0,    0,    0,    0,    0,    0,    0,    0,\n",
       "           0,    0,    0,    0,    0,    0,    0,    0,    0,    0,    0,\n",
       "           0,    0,    0,    0,    0,    0,    0,    0,    0,    0,    0,\n",
       "           0,    0,    0,    0,    0,    0,    0,    0,    0,    0,    0,\n",
       "           0,    0,    0,    0,    0,    0,    0,    0,    0,    0,    0,\n",
       "           0,    0,    0,    0,    0,    0,    0,    0,    0,    0,    0,\n",
       "           0,    0,    0,    0,    0,    0,    0,    0,    0,    0,    0,\n",
       "           0,    0]])"
      ]
     },
     "execution_count": 29,
     "metadata": {},
     "output_type": "execute_result"
    }
   ],
   "source": [
    "test_padded = prep_test(text)\n",
    "test_padded"
   ]
  },
  {
   "cell_type": "code",
   "execution_count": 30,
   "id": "055fafab",
   "metadata": {},
   "outputs": [],
   "source": [
    "def prediction(test):\n",
    "    label = [\"anger\", \"fear\", \"joy\", \"sadness\"]\n",
    "    result = model.predict(test)\n",
    "    index = np.argmax(result)\n",
    "    hasil = label[index]\n",
    "    return hasil"
   ]
  },
  {
   "cell_type": "code",
   "execution_count": 31,
   "id": "39335f5e",
   "metadata": {},
   "outputs": [
    {
     "data": {
      "text/plain": [
       "'fear'"
      ]
     },
     "execution_count": 31,
     "metadata": {},
     "output_type": "execute_result"
    }
   ],
   "source": [
    "prediction(test_padded)"
   ]
  },
  {
   "cell_type": "code",
   "execution_count": 32,
   "id": "723cf74e",
   "metadata": {},
   "outputs": [
    {
     "data": {
      "text/plain": [
       "array([[3.3827680e-01, 6.5931594e-01, 2.8071113e-04, 2.1265114e-03]],\n",
       "      dtype=float32)"
      ]
     },
     "execution_count": 32,
     "metadata": {},
     "output_type": "execute_result"
    }
   ],
   "source": [
    "model.predict(test_padded)"
   ]
  },
  {
   "cell_type": "code",
   "execution_count": 33,
   "id": "15230aac",
   "metadata": {},
   "outputs": [],
   "source": [
    "validation_sequences = tokenizer.texts_to_sequences(valdata['filtering'])\n",
    "validation_padded = pad_sequences(validation_sequences, maxlen=max_length, padding=padding_type, truncating=trunc_type)"
   ]
  },
  {
   "cell_type": "code",
   "execution_count": 34,
   "id": "0f289e5d",
   "metadata": {},
   "outputs": [
    {
     "data": {
      "text/plain": [
       "array([[  90,    2,  420, ...,    0,    0,    0],\n",
       "       [  28, 3092,  561, ...,    0,    0,    0],\n",
       "       [  25,  177,  159, ...,    0,    0,    0],\n",
       "       ...,\n",
       "       [ 107,  285,  291, ...,    0,    0,    0],\n",
       "       [   9,   12,  203, ...,    0,    0,    0],\n",
       "       [ 889,   24, 1903, ...,    0,    0,    0]])"
      ]
     },
     "execution_count": 34,
     "metadata": {},
     "output_type": "execute_result"
    }
   ],
   "source": [
    "validation_padded"
   ]
  },
  {
   "cell_type": "code",
   "execution_count": 35,
   "id": "5a9659d9",
   "metadata": {},
   "outputs": [],
   "source": [
    "result = model.predict(validation_padded)"
   ]
  },
  {
   "cell_type": "code",
   "execution_count": 36,
   "id": "c77938b1",
   "metadata": {},
   "outputs": [
    {
     "data": {
      "text/plain": [
       "array([[9.5551395e-01, 2.9797306e-02, 1.1784223e-02, 2.9044750e-03],\n",
       "       [1.0900823e-01, 7.9535979e-01, 2.2772122e-03, 9.3354702e-02],\n",
       "       [2.2927218e-03, 5.1537412e-03, 2.2629213e-01, 7.6626146e-01],\n",
       "       ...,\n",
       "       [4.7986709e-05, 1.8382612e-04, 8.8829041e-01, 1.1147779e-01],\n",
       "       [1.2235183e-01, 8.2633018e-01, 1.8879408e-03, 4.9430054e-02],\n",
       "       [1.4926326e-05, 3.0133851e-06, 9.9995589e-01, 2.6255719e-05]],\n",
       "      dtype=float32)"
      ]
     },
     "execution_count": 36,
     "metadata": {},
     "output_type": "execute_result"
    }
   ],
   "source": [
    "result"
   ]
  },
  {
   "cell_type": "code",
   "execution_count": 37,
   "id": "35467706",
   "metadata": {},
   "outputs": [
    {
     "data": {
      "text/plain": [
       "array([0, 1, 3, ..., 2, 1, 2], dtype=int64)"
      ]
     },
     "execution_count": 37,
     "metadata": {},
     "output_type": "execute_result"
    }
   ],
   "source": [
    "# Get the index of the maximum probability for each row\n",
    "predicted_labels = np.argmax(result, axis=1)\n",
    "predicted_labels"
   ]
  },
  {
   "cell_type": "code",
   "execution_count": 38,
   "id": "1a2b64ac",
   "metadata": {},
   "outputs": [
    {
     "data": {
      "image/png": "[encoded data removed]",
      "text/plain": [
       "<Figure size 640x480 with 2 Axes>"
      ]
     },
     "metadata": {},
     "output_type": "display_data"
    }
   ],
   "source": [
    "from sklearn.metrics import confusion_matrix\n",
    "import matplotlib.pyplot as plt\n",
    "import seaborn as sns\n",
    "\n",
    "# Replace y_true and y_pred with your actual data\n",
    "y_true = np.array(valdata['num_label']) # True labels\n",
    "y_pred = predicted_labels  # Predicted labels\n",
    "\n",
    "# Create the confusion matrix\n",
    "label = [\"anger\", \"fear\", \"joy\", \"sadness\"]\n",
    "conf_matrix = confusion_matrix(y_true, y_pred)\n",
    "sns.heatmap(conf_matrix, cmap=\"Blues\", annot = True, fmt='d', xticklabels=label, yticklabels=label)\n",
    "plt.xlabel('Predicted labels')\n",
    "plt.ylabel('True labels')\n",
    "plt.title('Confusion Matrix')\n",
    "plt.show()\n"
   ]
  },
  {
   "cell_type": "code",
   "execution_count": 39,
   "id": "ba083ee5",
   "metadata": {},
   "outputs": [
    {
     "name": "stdout",
     "output_type": "stream",
     "text": [
      "[0 1 2 3]\n"
     ]
    }
   ],
   "source": [
    "import numpy as np\n",
    "\n",
    "# Assuming labels_array is your numpy array containing labels\n",
    "unique_labels = np.unique(y_true)\n",
    "print(unique_labels)\n"
   ]
  },
  {
   "cell_type": "code",
   "execution_count": 40,
   "id": "e695bff4",
   "metadata": {},
   "outputs": [
    {
     "name": "stdout",
     "output_type": "stream",
     "text": [
      "Accuracy: 0.7918781725888325\n"
     ]
    }
   ],
   "source": [
    "# Calculate accuracy\n",
    "from sklearn.metrics import accuracy_score\n",
    "accuracy = accuracy_score(y_true, y_pred)\n",
    "print(\"Accuracy:\", accuracy)"
   ]
  },
  {
   "cell_type": "code",
   "execution_count": null,
   "id": "159bc1ee",
   "metadata": {},
   "outputs": [],
   "source": []
  },
  {
   "cell_type": "code",
   "execution_count": 41,
   "id": "860cb765",
   "metadata": {},
   "outputs": [
    {
     "data": {
      "text/html": [
       "<div>\n",
       "<style scoped>\n",
       "    .dataframe tbody tr th:only-of-type {\n",
       "        vertical-align: middle;\n",
       "    }\n",
       "\n",
       "    .dataframe tbody tr th {\n",
       "        vertical-align: top;\n",
       "    }\n",
       "\n",
       "    .dataframe thead th {\n",
       "        text-align: right;\n",
       "    }\n",
       "</style>\n",
       "<table border=\"1\" class=\"dataframe\">\n",
       "  <thead>\n",
       "    <tr style=\"text-align: right;\">\n",
       "      <th></th>\n",
       "      <th>tweet</th>\n",
       "      <th>label</th>\n",
       "    </tr>\n",
       "  </thead>\n",
       "  <tbody>\n",
       "    <tr>\n",
       "      <th>0</th>\n",
       "      <td>Aduh, pagi-pagi udah kena macet parah di jalan...</td>\n",
       "      <td>anger</td>\n",
       "    </tr>\n",
       "    <tr>\n",
       "      <th>1</th>\n",
       "      <td>Tadi pagi waktu gue jalan ke sekolah, tiba-tib...</td>\n",
       "      <td>fear</td>\n",
       "    </tr>\n",
       "    <tr>\n",
       "      <th>2</th>\n",
       "      <td>Hari ini gue dapet kabar kalau temen deket gue...</td>\n",
       "      <td>sadness</td>\n",
       "    </tr>\n",
       "    <tr>\n",
       "      <th>3</th>\n",
       "      <td>Pagi tadi gue bangun dan liat cuaca cerah bang...</td>\n",
       "      <td>happy</td>\n",
       "    </tr>\n",
       "    <tr>\n",
       "      <th>4</th>\n",
       "      <td>Baru aja dapet kabar kalau proyek yang gue ker...</td>\n",
       "      <td>sadness</td>\n",
       "    </tr>\n",
       "  </tbody>\n",
       "</table>\n",
       "</div>"
      ],
      "text/plain": [
       "                                               tweet    label\n",
       "0  Aduh, pagi-pagi udah kena macet parah di jalan...    anger\n",
       "1  Tadi pagi waktu gue jalan ke sekolah, tiba-tib...     fear\n",
       "2  Hari ini gue dapet kabar kalau temen deket gue...  sadness\n",
       "3  Pagi tadi gue bangun dan liat cuaca cerah bang...    happy\n",
       "4  Baru aja dapet kabar kalau proyek yang gue ker...  sadness"
      ]
     },
     "execution_count": 41,
     "metadata": {},
     "output_type": "execute_result"
    }
   ],
   "source": [
    "test = pd.read_excel(\"data_test.xlsx\")\n",
    "test.head()"
   ]
  },
  {
   "cell_type": "code",
   "execution_count": 42,
   "id": "caaf0dfd",
   "metadata": {},
   "outputs": [
    {
     "data": {
      "text/html": [
       "<div>\n",
       "<style scoped>\n",
       "    .dataframe tbody tr th:only-of-type {\n",
       "        vertical-align: middle;\n",
       "    }\n",
       "\n",
       "    .dataframe tbody tr th {\n",
       "        vertical-align: top;\n",
       "    }\n",
       "\n",
       "    .dataframe thead th {\n",
       "        text-align: right;\n",
       "    }\n",
       "</style>\n",
       "<table border=\"1\" class=\"dataframe\">\n",
       "  <thead>\n",
       "    <tr style=\"text-align: right;\">\n",
       "      <th></th>\n",
       "      <th>tweet</th>\n",
       "      <th>label</th>\n",
       "      <th>num_label</th>\n",
       "    </tr>\n",
       "  </thead>\n",
       "  <tbody>\n",
       "    <tr>\n",
       "      <th>0</th>\n",
       "      <td>Aduh, pagi-pagi udah kena macet parah di jalan...</td>\n",
       "      <td>anger</td>\n",
       "      <td>0</td>\n",
       "    </tr>\n",
       "    <tr>\n",
       "      <th>1</th>\n",
       "      <td>Tadi pagi waktu gue jalan ke sekolah, tiba-tib...</td>\n",
       "      <td>fear</td>\n",
       "      <td>1</td>\n",
       "    </tr>\n",
       "    <tr>\n",
       "      <th>2</th>\n",
       "      <td>Hari ini gue dapet kabar kalau temen deket gue...</td>\n",
       "      <td>sadness</td>\n",
       "      <td>3</td>\n",
       "    </tr>\n",
       "    <tr>\n",
       "      <th>3</th>\n",
       "      <td>Pagi tadi gue bangun dan liat cuaca cerah bang...</td>\n",
       "      <td>happy</td>\n",
       "      <td>2</td>\n",
       "    </tr>\n",
       "    <tr>\n",
       "      <th>4</th>\n",
       "      <td>Baru aja dapet kabar kalau proyek yang gue ker...</td>\n",
       "      <td>sadness</td>\n",
       "      <td>3</td>\n",
       "    </tr>\n",
       "  </tbody>\n",
       "</table>\n",
       "</div>"
      ],
      "text/plain": [
       "                                               tweet    label  num_label\n",
       "0  Aduh, pagi-pagi udah kena macet parah di jalan...    anger          0\n",
       "1  Tadi pagi waktu gue jalan ke sekolah, tiba-tib...     fear          1\n",
       "2  Hari ini gue dapet kabar kalau temen deket gue...  sadness          3\n",
       "3  Pagi tadi gue bangun dan liat cuaca cerah bang...    happy          2\n",
       "4  Baru aja dapet kabar kalau proyek yang gue ker...  sadness          3"
      ]
     },
     "execution_count": 42,
     "metadata": {},
     "output_type": "execute_result"
    }
   ],
   "source": [
    "test['num_label'] = test['label'].map({'anger':0, 'fear':1, 'happy':2, 'love':2, 'sadness':3})\n",
    "test.head()"
   ]
  },
  {
   "cell_type": "code",
   "execution_count": 43,
   "id": "741d7cf9",
   "metadata": {},
   "outputs": [
    {
     "data": {
      "text/html": [
       "<div>\n",
       "<style scoped>\n",
       "    .dataframe tbody tr th:only-of-type {\n",
       "        vertical-align: middle;\n",
       "    }\n",
       "\n",
       "    .dataframe tbody tr th {\n",
       "        vertical-align: top;\n",
       "    }\n",
       "\n",
       "    .dataframe thead th {\n",
       "        text-align: right;\n",
       "    }\n",
       "</style>\n",
       "<table border=\"1\" class=\"dataframe\">\n",
       "  <thead>\n",
       "    <tr style=\"text-align: right;\">\n",
       "      <th></th>\n",
       "      <th>tweet</th>\n",
       "      <th>label</th>\n",
       "      <th>num_label</th>\n",
       "      <th>filtering</th>\n",
       "    </tr>\n",
       "  </thead>\n",
       "  <tbody>\n",
       "    <tr>\n",
       "      <th>0</th>\n",
       "      <td>Aduh, pagi-pagi udah kena macet parah di jalan...</td>\n",
       "      <td>anger</td>\n",
       "      <td>0</td>\n",
       "      <td>aduh pagi pagi udah kena macet parah jalan pas...</td>\n",
       "    </tr>\n",
       "    <tr>\n",
       "      <th>1</th>\n",
       "      <td>Tadi pagi waktu gue jalan ke sekolah, tiba-tib...</td>\n",
       "      <td>fear</td>\n",
       "      <td>1</td>\n",
       "      <td>tadi pagi waktu gue jalan sekolah tiba tiba mo...</td>\n",
       "    </tr>\n",
       "    <tr>\n",
       "      <th>2</th>\n",
       "      <td>Hari ini gue dapet kabar kalau temen deket gue...</td>\n",
       "      <td>sadness</td>\n",
       "      <td>3</td>\n",
       "      <td>hari gue dapet kabar kalau temen deket gue pin...</td>\n",
       "    </tr>\n",
       "    <tr>\n",
       "      <th>3</th>\n",
       "      <td>Pagi tadi gue bangun dan liat cuaca cerah bang...</td>\n",
       "      <td>happy</td>\n",
       "      <td>2</td>\n",
       "      <td>pagi tadi gue bangun liat cuaca cerah banget b...</td>\n",
       "    </tr>\n",
       "    <tr>\n",
       "      <th>4</th>\n",
       "      <td>Baru aja dapet kabar kalau proyek yang gue ker...</td>\n",
       "      <td>sadness</td>\n",
       "      <td>3</td>\n",
       "      <td>aja dapet kabar kalau proyek gue kerjain bulan...</td>\n",
       "    </tr>\n",
       "    <tr>\n",
       "      <th>5</th>\n",
       "      <td>Tadi siang pas di mall, ada orang yang tiba-ti...</td>\n",
       "      <td>anger</td>\n",
       "      <td>0</td>\n",
       "      <td>tadi siang pas mall orang tiba tiba nabrak gue...</td>\n",
       "    </tr>\n",
       "    <tr>\n",
       "      <th>6</th>\n",
       "      <td>Siang tadi gue denger ada suara keras dari dap...</td>\n",
       "      <td>fear</td>\n",
       "      <td>1</td>\n",
       "      <td>siang tadi gue denger suara keras dapur nyata ...</td>\n",
       "    </tr>\n",
       "    <tr>\n",
       "      <th>7</th>\n",
       "      <td>Seneng banget pas liat pengumuman di kampus ka...</td>\n",
       "      <td>happy</td>\n",
       "      <td>2</td>\n",
       "      <td>neng banget pas liat umum kampus kalau skripsi...</td>\n",
       "    </tr>\n",
       "    <tr>\n",
       "      <th>8</th>\n",
       "      <td>Pagi ini gue telat bangun karena alarm gak bun...</td>\n",
       "      <td>anger</td>\n",
       "      <td>0</td>\n",
       "      <td>pagi gue telat bangun alarm gak bunyi terus pa...</td>\n",
       "    </tr>\n",
       "    <tr>\n",
       "      <th>9</th>\n",
       "      <td>Tadi sore ada suara petir gede banget, gue lan...</td>\n",
       "      <td>fear</td>\n",
       "      <td>1</td>\n",
       "      <td>tadi sore suara petir gede banget gue langsung...</td>\n",
       "    </tr>\n",
       "    <tr>\n",
       "      <th>10</th>\n",
       "      <td>Aduh, hari ini HP gue jatuh dan layarnya pecah...</td>\n",
       "      <td>anger</td>\n",
       "      <td>0</td>\n",
       "      <td>aduh hari hp gue jatuh layar pecah rasa kesel ...</td>\n",
       "    </tr>\n",
       "    <tr>\n",
       "      <th>11</th>\n",
       "      <td>Tadi malam gue denger suara aneh di atap rumah...</td>\n",
       "      <td>fear</td>\n",
       "      <td>1</td>\n",
       "      <td>tadi malam gue denger suara aneh atap rumah ka...</td>\n",
       "    </tr>\n",
       "    <tr>\n",
       "      <th>12</th>\n",
       "      <td>Tadi siang temen gue cerita kalau dia bakal pi...</td>\n",
       "      <td>sadness</td>\n",
       "      <td>3</td>\n",
       "      <td>tadi siang temen gue cerita kalau bakal pindah...</td>\n",
       "    </tr>\n",
       "    <tr>\n",
       "      <th>13</th>\n",
       "      <td>Hari ini gue ketemu sama teman lama di kafe. S...</td>\n",
       "      <td>happy</td>\n",
       "      <td>2</td>\n",
       "      <td>hari gue ketemu sama teman lama kafe neng bang...</td>\n",
       "    </tr>\n",
       "    <tr>\n",
       "      <th>14</th>\n",
       "      <td>Gue baru aja dapet email kalau gue ditolak ker...</td>\n",
       "      <td>sadness</td>\n",
       "      <td>3</td>\n",
       "      <td>gue aja dapet email kalau gue tolak kerja usah...</td>\n",
       "    </tr>\n",
       "    <tr>\n",
       "      <th>15</th>\n",
       "      <td>Pagi tadi tetangga sebelah berantem keras bang...</td>\n",
       "      <td>anger</td>\n",
       "      <td>0</td>\n",
       "      <td>pagi tadi tetangga belah antem keras banget sa...</td>\n",
       "    </tr>\n",
       "    <tr>\n",
       "      <th>16</th>\n",
       "      <td>Pas gue pulang malem, tiba-tiba ada orang gak ...</td>\n",
       "      <td>fear</td>\n",
       "      <td>1</td>\n",
       "      <td>pas gue pulang malem tiba tiba orang gak kenal...</td>\n",
       "    </tr>\n",
       "    <tr>\n",
       "      <th>17</th>\n",
       "      <td>Hari ini gue merasa hampa banget, gak ada sema...</td>\n",
       "      <td>sadness</td>\n",
       "      <td>3</td>\n",
       "      <td>hari gue rasa hampa banget gak semangat buat n...</td>\n",
       "    </tr>\n",
       "    <tr>\n",
       "      <th>18</th>\n",
       "      <td>Akhirnya gue bisa ajak keluarga makan di resto...</td>\n",
       "      <td>happy</td>\n",
       "      <td>2</td>\n",
       "      <td>akhir gue ajak keluarga makan restoran favorit...</td>\n",
       "    </tr>\n",
       "    <tr>\n",
       "      <th>19</th>\n",
       "      <td>Laptop gue mati total pas lagi presentasi pent...</td>\n",
       "      <td>anger</td>\n",
       "      <td>0</td>\n",
       "      <td>laptop gue mati total pas presentasi penting d...</td>\n",
       "    </tr>\n",
       "    <tr>\n",
       "      <th>20</th>\n",
       "      <td>Semalem gue mimpi buruk tentang kecelakaan, sa...</td>\n",
       "      <td>fear</td>\n",
       "      <td>1</td>\n",
       "      <td>semalem gue mimpi buruk tentang celaka sampai ...</td>\n",
       "    </tr>\n",
       "    <tr>\n",
       "      <th>21</th>\n",
       "      <td>Hari ini gue dapet kabar kalau anjing pelihara...</td>\n",
       "      <td>sadness</td>\n",
       "      <td>3</td>\n",
       "      <td>hari gue dapet kabar kalau anjing pelihara gue...</td>\n",
       "    </tr>\n",
       "    <tr>\n",
       "      <th>22</th>\n",
       "      <td>Pas lagi belanja di supermarket, gue ketemu ar...</td>\n",
       "      <td>happy</td>\n",
       "      <td>2</td>\n",
       "      <td>pas belanja supermarket gue ketemu artis favor...</td>\n",
       "    </tr>\n",
       "    <tr>\n",
       "      <th>23</th>\n",
       "      <td>Tadi pagi gue berantem sama adik gara-gara dia...</td>\n",
       "      <td>anger</td>\n",
       "      <td>0</td>\n",
       "      <td>tadi pagi gue antem sama adik gara gara gak ma...</td>\n",
       "    </tr>\n",
       "    <tr>\n",
       "      <th>24</th>\n",
       "      <td>Pas lagi nyetir malem-malem, tiba-tiba ada mob...</td>\n",
       "      <td>fear</td>\n",
       "      <td>1</td>\n",
       "      <td>pas nyetir malem malem tiba tiba mobil hampir ...</td>\n",
       "    </tr>\n",
       "    <tr>\n",
       "      <th>25</th>\n",
       "      <td>Temen gue lagi ngalamin masa-masa sulit, dan g...</td>\n",
       "      <td>sadness</td>\n",
       "      <td>3</td>\n",
       "      <td>temen gue ngalamin masa masa sulit gue gak tau...</td>\n",
       "    </tr>\n",
       "    <tr>\n",
       "      <th>26</th>\n",
       "      <td>Dapet kejutan dari pacar pas ulang tahun bener...</td>\n",
       "      <td>happy</td>\n",
       "      <td>2</td>\n",
       "      <td>dapet kejut pacar pas ulang tahun bener bener ...</td>\n",
       "    </tr>\n",
       "    <tr>\n",
       "      <th>27</th>\n",
       "      <td>Pagi ini hujan deras dan jalanan jadi banjir. ...</td>\n",
       "      <td>anger</td>\n",
       "      <td>0</td>\n",
       "      <td>pagi hujan deras jalan banjir pas sampai kanto...</td>\n",
       "    </tr>\n",
       "    <tr>\n",
       "      <th>28</th>\n",
       "      <td>Tadi malam gue denger ada suara gemuruh aneh d...</td>\n",
       "      <td>fear</td>\n",
       "      <td>1</td>\n",
       "      <td>tadi malam gue denger suara gemuruh aneh luar ...</td>\n",
       "    </tr>\n",
       "    <tr>\n",
       "      <th>29</th>\n",
       "      <td>Baru aja dapat kabar kalau proyek gue dipindah...</td>\n",
       "      <td>sadness</td>\n",
       "      <td>3</td>\n",
       "      <td>aja dapat kabar kalau proyek gue pindah tangan...</td>\n",
       "    </tr>\n",
       "    <tr>\n",
       "      <th>30</th>\n",
       "      <td>Hari ini gue menang undian di toko elektronik....</td>\n",
       "      <td>happy</td>\n",
       "      <td>2</td>\n",
       "      <td>hari gue menang undi toko elektronik gak nyang...</td>\n",
       "    </tr>\n",
       "    <tr>\n",
       "      <th>31</th>\n",
       "      <td>Pas lagi ngantri di kasir, tiba-tiba ada orang...</td>\n",
       "      <td>anger</td>\n",
       "      <td>0</td>\n",
       "      <td>pas ngantri kasir tiba tiba orang nyerobot ant...</td>\n",
       "    </tr>\n",
       "    <tr>\n",
       "      <th>32</th>\n",
       "      <td>Siang tadi ada berita tentang kebakaran di kom...</td>\n",
       "      <td>fear</td>\n",
       "      <td>1</td>\n",
       "      <td>siang tadi berita tentang bakar komplek belah ...</td>\n",
       "    </tr>\n",
       "    <tr>\n",
       "      <th>33</th>\n",
       "      <td>Tadi siang ketemu teman lama yang ternyata uda...</td>\n",
       "      <td>happy</td>\n",
       "      <td>2</td>\n",
       "      <td>tadi siang ketemu teman lama nyata udah nikah ...</td>\n",
       "    </tr>\n",
       "    <tr>\n",
       "      <th>34</th>\n",
       "      <td>Baru aja dapet nilai ujian dan ternyata jauh d...</td>\n",
       "      <td>sadness</td>\n",
       "      <td>3</td>\n",
       "      <td>aja dapet nilai uji nyata jauh bawah ekspektas...</td>\n",
       "    </tr>\n",
       "    <tr>\n",
       "      <th>35</th>\n",
       "      <td>Lagi enak-enak kerja, tiba-tiba listrik mati d...</td>\n",
       "      <td>anger</td>\n",
       "      <td>0</td>\n",
       "      <td>enak enak kerja tiba tiba listrik mati seluruh...</td>\n",
       "    </tr>\n",
       "    <tr>\n",
       "      <th>36</th>\n",
       "      <td>Sore tadi pas pulang kerja, ada mobil yang nge...</td>\n",
       "      <td>fear</td>\n",
       "      <td>1</td>\n",
       "      <td>sore tadi pas pulang kerja mobil nge rem dadak...</td>\n",
       "    </tr>\n",
       "    <tr>\n",
       "      <th>37</th>\n",
       "      <td>Kemarin malam lihat film sedih di bioskop, cer...</td>\n",
       "      <td>sadness</td>\n",
       "      <td>3</td>\n",
       "      <td>kemarin malam lihat film sedih bioskop cerita ...</td>\n",
       "    </tr>\n",
       "    <tr>\n",
       "      <th>38</th>\n",
       "      <td>Pagi ini dapet kiriman paket dari sahabat jauh...</td>\n",
       "      <td>happy</td>\n",
       "      <td>2</td>\n",
       "      <td>pagi dapet kirim paket sahabat jauh isi barang...</td>\n",
       "    </tr>\n",
       "    <tr>\n",
       "      <th>39</th>\n",
       "      <td>Lagi di kantor, tiba-tiba atasan gue marah-mar...</td>\n",
       "      <td>anger</td>\n",
       "      <td>0</td>\n",
       "      <td>kantor tiba tiba atas gue marah marah tanpa al...</td>\n",
       "    </tr>\n",
       "    <tr>\n",
       "      <th>40</th>\n",
       "      <td>Pas lagi di perjalanan, tiba-tiba ada kecelaka...</td>\n",
       "      <td>fear</td>\n",
       "      <td>1</td>\n",
       "      <td>pas jalan tiba tiba celaka depan mata gue bene...</td>\n",
       "    </tr>\n",
       "    <tr>\n",
       "      <th>41</th>\n",
       "      <td>Hari ini gue lihat anak-anak kecil main di tam...</td>\n",
       "      <td>happy</td>\n",
       "      <td>2</td>\n",
       "      <td>hari gue lihat anak anak kecil main taman liha...</td>\n",
       "    </tr>\n",
       "    <tr>\n",
       "      <th>42</th>\n",
       "      <td>Baru aja dapet telepon dari rumah kalau ada ke...</td>\n",
       "      <td>sadness</td>\n",
       "      <td>3</td>\n",
       "      <td>aja dapet telepon rumah kalau keluarga sakit g...</td>\n",
       "    </tr>\n",
       "    <tr>\n",
       "      <th>43</th>\n",
       "      <td>Siang tadi pas makan siang, makanan yang gue p...</td>\n",
       "      <td>anger</td>\n",
       "      <td>0</td>\n",
       "      <td>siang tadi pas makan siang makan gue pesan dat...</td>\n",
       "    </tr>\n",
       "    <tr>\n",
       "      <th>44</th>\n",
       "      <td>Malam ini mendengar suara langkah kaki di atap...</td>\n",
       "      <td>fear</td>\n",
       "      <td>1</td>\n",
       "      <td>malam dengar suara langkah kaki atap rumah lan...</td>\n",
       "    </tr>\n",
       "    <tr>\n",
       "      <th>45</th>\n",
       "      <td>Tadi sore dapet surat dari bank kalau aplikasi...</td>\n",
       "      <td>sadness</td>\n",
       "      <td>3</td>\n",
       "      <td>tadi sore dapet surat bank kalau aplikasi pinj...</td>\n",
       "    </tr>\n",
       "    <tr>\n",
       "      <th>46</th>\n",
       "      <td>Kemarin dapet kesempatan buat naik balon udara...</td>\n",
       "      <td>happy</td>\n",
       "      <td>2</td>\n",
       "      <td>kemarin dapet sempat buat naik balon udara ala...</td>\n",
       "    </tr>\n",
       "    <tr>\n",
       "      <th>47</th>\n",
       "      <td>Tadi pagi di jalan, ada pengendara motor yang ...</td>\n",
       "      <td>anger</td>\n",
       "      <td>0</td>\n",
       "      <td>tadi pagi jalan kendara motor hampir nyerempet...</td>\n",
       "    </tr>\n",
       "    <tr>\n",
       "      <th>48</th>\n",
       "      <td>Lagi di rumah sendirian, tiba-tiba ada suara p...</td>\n",
       "      <td>fear</td>\n",
       "      <td>1</td>\n",
       "      <td>rumah sendiri tiba tiba suara pintu buka sendi...</td>\n",
       "    </tr>\n",
       "    <tr>\n",
       "      <th>49</th>\n",
       "      <td>Siang tadi lihat postingan lama di media sosia...</td>\n",
       "      <td>sadness</td>\n",
       "      <td>3</td>\n",
       "      <td>siang tadi lihat postingan lama media sosial t...</td>\n",
       "    </tr>\n",
       "    <tr>\n",
       "      <th>50</th>\n",
       "      <td>Dapet kesempatan buat nyoba masakan baru di re...</td>\n",
       "      <td>happy</td>\n",
       "      <td>2</td>\n",
       "      <td>dapet sempat buat nyoba masakan restoran kenal...</td>\n",
       "    </tr>\n",
       "    <tr>\n",
       "      <th>51</th>\n",
       "      <td>Tadi pagi di kantor ada masalah besar yang mun...</td>\n",
       "      <td>anger</td>\n",
       "      <td>0</td>\n",
       "      <td>tadi pagi kantor masalah besar muncul tiba tib...</td>\n",
       "    </tr>\n",
       "    <tr>\n",
       "      <th>52</th>\n",
       "      <td>Pas lagi belanja di pasar, ada orang yang tiba...</td>\n",
       "      <td>fear</td>\n",
       "      <td>1</td>\n",
       "      <td>pas belanja pasar orang tiba tiba jatuh pingsa...</td>\n",
       "    </tr>\n",
       "    <tr>\n",
       "      <th>53</th>\n",
       "      <td>Baru aja dapet kabar kalau konser yang gue tun...</td>\n",
       "      <td>sadness</td>\n",
       "      <td>3</td>\n",
       "      <td>aja dapet kabar kalau konser gue tunggu tunggu...</td>\n",
       "    </tr>\n",
       "    <tr>\n",
       "      <th>54</th>\n",
       "      <td>Hari ini berhasil menyelesaikan proyek besar l...</td>\n",
       "      <td>happy</td>\n",
       "      <td>2</td>\n",
       "      <td>hari hasil selesai proyek besar lebih cepat de...</td>\n",
       "    </tr>\n",
       "  </tbody>\n",
       "</table>\n",
       "</div>"
      ],
      "text/plain": [
       "                                                tweet    label  num_label  \\\n",
       "0   Aduh, pagi-pagi udah kena macet parah di jalan...    anger          0   \n",
       "1   Tadi pagi waktu gue jalan ke sekolah, tiba-tib...     fear          1   \n",
       "2   Hari ini gue dapet kabar kalau temen deket gue...  sadness          3   \n",
       "3   Pagi tadi gue bangun dan liat cuaca cerah bang...    happy          2   \n",
       "4   Baru aja dapet kabar kalau proyek yang gue ker...  sadness          3   \n",
       "5   Tadi siang pas di mall, ada orang yang tiba-ti...    anger          0   \n",
       "6   Siang tadi gue denger ada suara keras dari dap...     fear          1   \n",
       "7   Seneng banget pas liat pengumuman di kampus ka...    happy          2   \n",
       "8   Pagi ini gue telat bangun karena alarm gak bun...    anger          0   \n",
       "9   Tadi sore ada suara petir gede banget, gue lan...     fear          1   \n",
       "10  Aduh, hari ini HP gue jatuh dan layarnya pecah...    anger          0   \n",
       "11  Tadi malam gue denger suara aneh di atap rumah...     fear          1   \n",
       "12  Tadi siang temen gue cerita kalau dia bakal pi...  sadness          3   \n",
       "13  Hari ini gue ketemu sama teman lama di kafe. S...    happy          2   \n",
       "14  Gue baru aja dapet email kalau gue ditolak ker...  sadness          3   \n",
       "15  Pagi tadi tetangga sebelah berantem keras bang...    anger          0   \n",
       "16  Pas gue pulang malem, tiba-tiba ada orang gak ...     fear          1   \n",
       "17  Hari ini gue merasa hampa banget, gak ada sema...  sadness          3   \n",
       "18  Akhirnya gue bisa ajak keluarga makan di resto...    happy          2   \n",
       "19  Laptop gue mati total pas lagi presentasi pent...    anger          0   \n",
       "20  Semalem gue mimpi buruk tentang kecelakaan, sa...     fear          1   \n",
       "21  Hari ini gue dapet kabar kalau anjing pelihara...  sadness          3   \n",
       "22  Pas lagi belanja di supermarket, gue ketemu ar...    happy          2   \n",
       "23  Tadi pagi gue berantem sama adik gara-gara dia...    anger          0   \n",
       "24  Pas lagi nyetir malem-malem, tiba-tiba ada mob...     fear          1   \n",
       "25  Temen gue lagi ngalamin masa-masa sulit, dan g...  sadness          3   \n",
       "26  Dapet kejutan dari pacar pas ulang tahun bener...    happy          2   \n",
       "27  Pagi ini hujan deras dan jalanan jadi banjir. ...    anger          0   \n",
       "28  Tadi malam gue denger ada suara gemuruh aneh d...     fear          1   \n",
       "29  Baru aja dapat kabar kalau proyek gue dipindah...  sadness          3   \n",
       "30  Hari ini gue menang undian di toko elektronik....    happy          2   \n",
       "31  Pas lagi ngantri di kasir, tiba-tiba ada orang...    anger          0   \n",
       "32  Siang tadi ada berita tentang kebakaran di kom...     fear          1   \n",
       "33  Tadi siang ketemu teman lama yang ternyata uda...    happy          2   \n",
       "34  Baru aja dapet nilai ujian dan ternyata jauh d...  sadness          3   \n",
       "35  Lagi enak-enak kerja, tiba-tiba listrik mati d...    anger          0   \n",
       "36  Sore tadi pas pulang kerja, ada mobil yang nge...     fear          1   \n",
       "37  Kemarin malam lihat film sedih di bioskop, cer...  sadness          3   \n",
       "38  Pagi ini dapet kiriman paket dari sahabat jauh...    happy          2   \n",
       "39  Lagi di kantor, tiba-tiba atasan gue marah-mar...    anger          0   \n",
       "40  Pas lagi di perjalanan, tiba-tiba ada kecelaka...     fear          1   \n",
       "41  Hari ini gue lihat anak-anak kecil main di tam...    happy          2   \n",
       "42  Baru aja dapet telepon dari rumah kalau ada ke...  sadness          3   \n",
       "43  Siang tadi pas makan siang, makanan yang gue p...    anger          0   \n",
       "44  Malam ini mendengar suara langkah kaki di atap...     fear          1   \n",
       "45  Tadi sore dapet surat dari bank kalau aplikasi...  sadness          3   \n",
       "46  Kemarin dapet kesempatan buat naik balon udara...    happy          2   \n",
       "47  Tadi pagi di jalan, ada pengendara motor yang ...    anger          0   \n",
       "48  Lagi di rumah sendirian, tiba-tiba ada suara p...     fear          1   \n",
       "49  Siang tadi lihat postingan lama di media sosia...  sadness          3   \n",
       "50  Dapet kesempatan buat nyoba masakan baru di re...    happy          2   \n",
       "51  Tadi pagi di kantor ada masalah besar yang mun...    anger          0   \n",
       "52  Pas lagi belanja di pasar, ada orang yang tiba...     fear          1   \n",
       "53  Baru aja dapet kabar kalau konser yang gue tun...  sadness          3   \n",
       "54  Hari ini berhasil menyelesaikan proyek besar l...    happy          2   \n",
       "\n",
       "                                            filtering  \n",
       "0   aduh pagi pagi udah kena macet parah jalan pas...  \n",
       "1   tadi pagi waktu gue jalan sekolah tiba tiba mo...  \n",
       "2   hari gue dapet kabar kalau temen deket gue pin...  \n",
       "3   pagi tadi gue bangun liat cuaca cerah banget b...  \n",
       "4   aja dapet kabar kalau proyek gue kerjain bulan...  \n",
       "5   tadi siang pas mall orang tiba tiba nabrak gue...  \n",
       "6   siang tadi gue denger suara keras dapur nyata ...  \n",
       "7   neng banget pas liat umum kampus kalau skripsi...  \n",
       "8   pagi gue telat bangun alarm gak bunyi terus pa...  \n",
       "9   tadi sore suara petir gede banget gue langsung...  \n",
       "10  aduh hari hp gue jatuh layar pecah rasa kesel ...  \n",
       "11  tadi malam gue denger suara aneh atap rumah ka...  \n",
       "12  tadi siang temen gue cerita kalau bakal pindah...  \n",
       "13  hari gue ketemu sama teman lama kafe neng bang...  \n",
       "14  gue aja dapet email kalau gue tolak kerja usah...  \n",
       "15  pagi tadi tetangga belah antem keras banget sa...  \n",
       "16  pas gue pulang malem tiba tiba orang gak kenal...  \n",
       "17  hari gue rasa hampa banget gak semangat buat n...  \n",
       "18  akhir gue ajak keluarga makan restoran favorit...  \n",
       "19  laptop gue mati total pas presentasi penting d...  \n",
       "20  semalem gue mimpi buruk tentang celaka sampai ...  \n",
       "21  hari gue dapet kabar kalau anjing pelihara gue...  \n",
       "22  pas belanja supermarket gue ketemu artis favor...  \n",
       "23  tadi pagi gue antem sama adik gara gara gak ma...  \n",
       "24  pas nyetir malem malem tiba tiba mobil hampir ...  \n",
       "25  temen gue ngalamin masa masa sulit gue gak tau...  \n",
       "26  dapet kejut pacar pas ulang tahun bener bener ...  \n",
       "27  pagi hujan deras jalan banjir pas sampai kanto...  \n",
       "28  tadi malam gue denger suara gemuruh aneh luar ...  \n",
       "29  aja dapat kabar kalau proyek gue pindah tangan...  \n",
       "30  hari gue menang undi toko elektronik gak nyang...  \n",
       "31  pas ngantri kasir tiba tiba orang nyerobot ant...  \n",
       "32  siang tadi berita tentang bakar komplek belah ...  \n",
       "33  tadi siang ketemu teman lama nyata udah nikah ...  \n",
       "34  aja dapet nilai uji nyata jauh bawah ekspektas...  \n",
       "35  enak enak kerja tiba tiba listrik mati seluruh...  \n",
       "36  sore tadi pas pulang kerja mobil nge rem dadak...  \n",
       "37  kemarin malam lihat film sedih bioskop cerita ...  \n",
       "38  pagi dapet kirim paket sahabat jauh isi barang...  \n",
       "39  kantor tiba tiba atas gue marah marah tanpa al...  \n",
       "40  pas jalan tiba tiba celaka depan mata gue bene...  \n",
       "41  hari gue lihat anak anak kecil main taman liha...  \n",
       "42  aja dapet telepon rumah kalau keluarga sakit g...  \n",
       "43  siang tadi pas makan siang makan gue pesan dat...  \n",
       "44  malam dengar suara langkah kaki atap rumah lan...  \n",
       "45  tadi sore dapet surat bank kalau aplikasi pinj...  \n",
       "46  kemarin dapet sempat buat naik balon udara ala...  \n",
       "47  tadi pagi jalan kendara motor hampir nyerempet...  \n",
       "48  rumah sendiri tiba tiba suara pintu buka sendi...  \n",
       "49  siang tadi lihat postingan lama media sosial t...  \n",
       "50  dapet sempat buat nyoba masakan restoran kenal...  \n",
       "51  tadi pagi kantor masalah besar muncul tiba tib...  \n",
       "52  pas belanja pasar orang tiba tiba jatuh pingsa...  \n",
       "53  aja dapet kabar kalau konser gue tunggu tunggu...  \n",
       "54  hari hasil selesai proyek besar lebih cepat de...  "
      ]
     },
     "execution_count": 43,
     "metadata": {},
     "output_type": "execute_result"
    }
   ],
   "source": [
    "test = df_prep(test)\n",
    "test = test[test['filtering'] != \"\"].reset_index(drop=True)\n",
    "test"
   ]
  },
  {
   "cell_type": "code",
   "execution_count": 44,
   "id": "ffc516e5",
   "metadata": {},
   "outputs": [
    {
     "data": {
      "text/plain": [
       "array([[1798,  129,  129, ...,    0,    0,    0],\n",
       "       [ 402,  129,   56, ...,    0,    0,    0],\n",
       "       [  14,   39,  635, ...,    0,    0,    0],\n",
       "       ...,\n",
       "       [ 151,  912, 1043, ...,    0,    0,    0],\n",
       "       [  41,  635,  617, ...,    0,    0,    0],\n",
       "       [  14,  175,  249, ...,    0,    0,    0]])"
      ]
     },
     "execution_count": 44,
     "metadata": {},
     "output_type": "execute_result"
    }
   ],
   "source": [
    "test_sequences = tokenizer.texts_to_sequences(test['filtering'])\n",
    "test_padded = pad_sequences(test_sequences, maxlen=max_length, padding=padding_type, truncating=trunc_type)\n",
    "test_padded"
   ]
  },
  {
   "cell_type": "code",
   "execution_count": 45,
   "id": "a9c6036f",
   "metadata": {},
   "outputs": [
    {
     "data": {
      "text/plain": [
       "55"
      ]
     },
     "execution_count": 45,
     "metadata": {},
     "output_type": "execute_result"
    }
   ],
   "source": [
    "len(test_padded)"
   ]
  },
  {
   "cell_type": "code",
   "execution_count": 46,
   "id": "7d9aadf4",
   "metadata": {},
   "outputs": [
    {
     "data": {
      "text/plain": [
       "array([[5.83358824e-01, 3.70874017e-01, 1.31039424e-02, 3.26631553e-02],\n",
       "       [4.63035181e-02, 9.47244644e-01, 8.23760784e-05, 6.36940170e-03],\n",
       "       [5.49367163e-04, 1.37062243e-03, 5.41967228e-02, 9.43883300e-01],\n",
       "       [1.51898891e-01, 2.03477684e-02, 7.54110813e-01, 7.36425668e-02],\n",
       "       [2.67879784e-01, 2.52649635e-01, 8.10570568e-02, 3.98413539e-01],\n",
       "       [9.99412060e-01, 3.16712889e-04, 2.68850767e-04, 2.39000406e-06],\n",
       "       [6.63177744e-02, 9.31779027e-01, 5.59444670e-05, 1.84721465e-03],\n",
       "       [1.58157753e-04, 4.05565137e-04, 5.89669421e-02, 9.40469265e-01],\n",
       "       [9.86393750e-01, 1.28741246e-02, 6.35791861e-04, 9.62488557e-05],\n",
       "       [8.42362468e-04, 9.99141335e-01, 1.65016600e-09, 1.62787383e-05],\n",
       "       [9.19367790e-01, 1.90310664e-02, 5.33412136e-02, 8.25992040e-03],\n",
       "       [1.82064921e-02, 9.79839385e-01, 7.20742537e-06, 1.94685988e-03],\n",
       "       [1.38190947e-02, 2.70038545e-02, 7.64360204e-02, 8.82740974e-01],\n",
       "       [4.79320670e-03, 8.25382827e-04, 9.90629017e-01, 3.75232333e-03],\n",
       "       [1.54100787e-02, 5.86061925e-02, 2.24713143e-02, 9.03512418e-01],\n",
       "       [9.04012799e-01, 5.67472614e-02, 2.79626772e-02, 1.12772770e-02],\n",
       "       [1.23918012e-01, 8.53394210e-01, 1.15295150e-03, 2.15348043e-02],\n",
       "       [1.91376108e-04, 7.41287542e-04, 1.97532363e-02, 9.79314148e-01],\n",
       "       [1.05535684e-04, 3.04337518e-05, 9.99556005e-01, 3.08033515e-04],\n",
       "       [4.23196048e-01, 5.18375754e-01, 1.14438366e-02, 4.69843373e-02],\n",
       "       [3.52331959e-02, 9.47285175e-01, 8.62670786e-05, 1.73953641e-02],\n",
       "       [1.30963055e-02, 3.38251702e-02, 4.08212505e-02, 9.12257254e-01],\n",
       "       [1.18085481e-02, 8.41796398e-04, 9.86065507e-01, 1.28424005e-03],\n",
       "       [9.02571976e-01, 2.44810898e-02, 6.32459745e-02, 9.70100425e-03],\n",
       "       [3.33813839e-02, 9.59352076e-01, 4.72283646e-05, 7.21936161e-03],\n",
       "       [4.74343030e-03, 1.88903697e-02, 1.77134443e-02, 9.58652675e-01],\n",
       "       [1.12661190e-01, 3.58944274e-02, 4.20409888e-01, 4.31034535e-01],\n",
       "       [2.99718499e-01, 2.93358471e-02, 6.43948376e-01, 2.69972421e-02],\n",
       "       [1.85184732e-01, 7.66994715e-01, 3.37252906e-03, 4.44481336e-02],\n",
       "       [6.21363938e-01, 2.62489468e-01, 3.57643031e-02, 8.03822726e-02],\n",
       "       [6.54736860e-03, 2.40520271e-03, 9.57643747e-01, 3.34036686e-02],\n",
       "       [7.30000019e-01, 1.76372398e-02, 2.46723235e-01, 5.63948555e-03],\n",
       "       [5.64496107e-02, 9.07250822e-01, 3.28708236e-04, 3.59708779e-02],\n",
       "       [1.02833365e-05, 6.28098996e-06, 9.99791682e-01, 1.91781466e-04],\n",
       "       [5.01038916e-02, 1.19494228e-02, 8.67442608e-01, 7.05040842e-02],\n",
       "       [9.61162746e-02, 2.62241006e-01, 3.80218849e-02, 6.03620827e-01],\n",
       "       [1.59901708e-01, 7.18874574e-01, 6.03097677e-03, 1.15192734e-01],\n",
       "       [1.16536617e-02, 2.74334606e-02, 5.61989285e-02, 9.04713929e-01],\n",
       "       [5.56046069e-01, 5.97192273e-02, 2.70990193e-01, 1.13244556e-01],\n",
       "       [9.75860834e-01, 1.54500734e-02, 7.54862372e-03, 1.14035455e-03],\n",
       "       [1.00297511e-01, 8.76534581e-01, 7.76306959e-04, 2.23916229e-02],\n",
       "       [4.02657224e-06, 3.84075747e-06, 9.99705374e-01, 2.86751747e-04],\n",
       "       [3.37975621e-01, 4.02993500e-01, 4.72243503e-02, 2.11806551e-01],\n",
       "       [2.48730317e-01, 3.82079691e-01, 3.95920984e-02, 3.29597861e-01],\n",
       "       [2.69260764e-01, 6.12184644e-01, 1.71153881e-02, 1.01439297e-01],\n",
       "       [2.66810064e-04, 7.58568582e-04, 1.23527460e-01, 8.75447154e-01],\n",
       "       [8.33425019e-03, 2.36193510e-03, 9.71578777e-01, 1.77249908e-02],\n",
       "       [9.44745302e-01, 2.13816352e-02, 2.97714304e-02, 4.10168665e-03],\n",
       "       [2.17345044e-01, 7.38567650e-01, 4.26496472e-03, 3.98223549e-02],\n",
       "       [9.95253795e-05, 3.98638367e-04, 8.12008262e-01, 1.87493622e-01],\n",
       "       [3.94188017e-01, 1.89566195e-01, 1.39088571e-01, 2.77157277e-01],\n",
       "       [2.04812869e-01, 6.48704767e-01, 1.20295882e-02, 1.34452775e-01],\n",
       "       [2.30686083e-01, 6.52613521e-01, 1.06904097e-02, 1.06010020e-01],\n",
       "       [4.77604531e-02, 9.88365635e-02, 6.53866306e-02, 7.88016379e-01],\n",
       "       [8.86373280e-04, 7.87647587e-05, 9.98839438e-01, 1.95414104e-04]],\n",
       "      dtype=float32)"
      ]
     },
     "execution_count": 46,
     "metadata": {},
     "output_type": "execute_result"
    }
   ],
   "source": [
    "result_test = model.predict(test_padded)\n",
    "result_test"
   ]
  },
  {
   "cell_type": "code",
   "execution_count": 47,
   "id": "a097f8c6",
   "metadata": {},
   "outputs": [
    {
     "data": {
      "text/plain": [
       "array([0, 1, 3, 2, 3, 0, 1, 3, 0, 1, 0, 1, 3, 2, 3, 0, 1, 3, 2, 1, 1, 3,\n",
       "       2, 0, 1, 3, 3, 2, 1, 0, 2, 0, 1, 2, 2, 3, 1, 3, 0, 0, 1, 2, 1, 1,\n",
       "       1, 3, 2, 0, 1, 2, 0, 1, 1, 3, 2], dtype=int64)"
      ]
     },
     "execution_count": 47,
     "metadata": {},
     "output_type": "execute_result"
    }
   ],
   "source": [
    "# Get the index of the maximum probability for each row\n",
    "predicted_labels_test = np.argmax(result_test, axis=1)\n",
    "predicted_labels_test"
   ]
  },
  {
   "cell_type": "code",
   "execution_count": 48,
   "id": "474e1aef",
   "metadata": {},
   "outputs": [
    {
     "data": {
      "text/plain": [
       "1970"
      ]
     },
     "execution_count": 48,
     "metadata": {},
     "output_type": "execute_result"
    }
   ],
   "source": [
    "len(y_pred)"
   ]
  },
  {
   "cell_type": "code",
   "execution_count": 49,
   "id": "1b733d98",
   "metadata": {},
   "outputs": [
    {
     "data": {
      "image/png": "[encoded data removed]",
      "text/plain": [
       "<Figure size 640x480 with 2 Axes>"
      ]
     },
     "metadata": {},
     "output_type": "display_data"
    }
   ],
   "source": [
    "from sklearn.metrics import confusion_matrix\n",
    "import matplotlib.pyplot as plt\n",
    "import seaborn as sns\n",
    "\n",
    "# Replace y_true and y_pred with your actual data\n",
    "y_true = np.array(test['num_label']) # True labels\n",
    "y_pred = predicted_labels_test  # Predicted labels\n",
    "\n",
    "# Create the confusion matrix\n",
    "label = [\"anger\", \"fear\", \"joy\", \"sadness\"]\n",
    "conf_matrix = confusion_matrix(y_true, y_pred)\n",
    "sns.heatmap(conf_matrix, cmap=\"Blues\", annot = True, fmt='d', xticklabels=label, yticklabels=label)\n",
    "plt.xlabel('Predicted labels')\n",
    "plt.ylabel('True labels')\n",
    "plt.title('Confusion Matrix')\n",
    "plt.show()\n"
   ]
  },
  {
   "cell_type": "code",
   "execution_count": 50,
   "id": "4a6fc317",
   "metadata": {},
   "outputs": [
    {
     "name": "stdout",
     "output_type": "stream",
     "text": [
      "Accuracy: 0.7636363636363637\n"
     ]
    }
   ],
   "source": [
    "# Calculate accuracy\n",
    "from sklearn.metrics import accuracy_score\n",
    "accuracy = accuracy_score(y_true, y_pred)\n",
    "print(\"Accuracy:\", accuracy)"
   ]
  },
  {
   "cell_type": "code",
   "execution_count": null,
   "id": "300cfb3c",
   "metadata": {},
   "outputs": [],
   "source": [
    "test[\"pred\"] = predicted_labels_test\n",
    "test"
   ]
  },
  {
   "cell_type": "code",
   "execution_count": null,
   "id": "c7c49148",
   "metadata": {},
   "outputs": [],
   "source": [
    "test.to_csv(\"cek_data.csv\")"
   ]
  },
  {
   "cell_type": "code",
   "execution_count": null,
   "id": "58f10ca3",
   "metadata": {},
   "outputs": [],
   "source": []
  },
  {
   "cell_type": "code",
   "execution_count": null,
   "id": "a15b3973",
   "metadata": {},
   "outputs": [],
   "source": []
  },
  {
   "cell_type": "code",
   "execution_count": null,
   "id": "0e72f32f",
   "metadata": {},
   "outputs": [],
   "source": []
  },
  {
   "cell_type": "markdown",
   "id": "489cd525",
   "metadata": {},
   "source": [
    "### GET THE DATA PREDICITION"
   ]
  },
  {
   "cell_type": "code",
   "execution_count": null,
   "id": "c53750d1",
   "metadata": {},
   "outputs": [],
   "source": [
    "# Generate and pad the validation sequences\n",
    "all_sequences = tokenizer.texts_to_sequences(train['filtering'])\n",
    "all_padded = pad_sequences(all_sequences, maxlen=max_length, padding=padding_type, truncating=trunc_type)\n",
    "\n",
    "\n",
    "\n"
   ]
  },
  {
   "cell_type": "code",
   "execution_count": null,
   "id": "e86fc436",
   "metadata": {},
   "outputs": [],
   "source": [
    "hasil = model.predict(all_padded)\n",
    "hasil"
   ]
  },
  {
   "cell_type": "code",
   "execution_count": null,
   "id": "93565f1f",
   "metadata": {},
   "outputs": [],
   "source": [
    "# Get the index of the maximum probability for each row\n",
    "predicted_labels_all = np.argmax(hasil, axis=1)\n",
    "predicted_labels_all"
   ]
  },
  {
   "cell_type": "code",
   "execution_count": null,
   "id": "91e68d97",
   "metadata": {},
   "outputs": [],
   "source": [
    "datas = train[['filtering',\"num_label\"]]"
   ]
  },
  {
   "cell_type": "code",
   "execution_count": null,
   "id": "4eb41208",
   "metadata": {},
   "outputs": [],
   "source": [
    "label_pred = pd.DataFrame(predicted_labels_all)\n",
    "label_pred"
   ]
  },
  {
   "cell_type": "code",
   "execution_count": null,
   "id": "d1986c9b",
   "metadata": {},
   "outputs": [],
   "source": [
    "merged_df = pd.concat([datas, label_pred], axis=1)\n",
    "merged_df"
   ]
  },
  {
   "cell_type": "code",
   "execution_count": null,
   "id": "cb9aa1c3",
   "metadata": {},
   "outputs": [],
   "source": [
    "aw = merged_df[merged_df['num_label']!=merged_df[0]]\n",
    "aw"
   ]
  },
  {
   "cell_type": "code",
   "execution_count": null,
   "id": "c0dfdecb",
   "metadata": {},
   "outputs": [],
   "source": [
    "aw.to_csv(\"dataxxzz.csv\",index=False)\n"
   ]
  },
  {
   "cell_type": "code",
   "execution_count": null,
   "id": "fe580635",
   "metadata": {},
   "outputs": [],
   "source": [
    "num = aw['num'].to_list()\n",
    "len(num)"
   ]
  },
  {
   "cell_type": "code",
   "execution_count": null,
   "id": "ad8941f6",
   "metadata": {},
   "outputs": [],
   "source": [
    "train"
   ]
  },
  {
   "cell_type": "code",
   "execution_count": null,
   "id": "ddcb4807",
   "metadata": {},
   "outputs": [],
   "source": [
    "filtered_df = train[~train[\"num\"].isin(num)]"
   ]
  },
  {
   "cell_type": "code",
   "execution_count": null,
   "id": "3e5fdc9d",
   "metadata": {},
   "outputs": [],
   "source": [
    "filtered_df"
   ]
  },
  {
   "cell_type": "code",
   "execution_count": null,
   "id": "bb931090",
   "metadata": {},
   "outputs": [],
   "source": [
    "train = filtered_df[[\"label\", \"tweet\"]]"
   ]
  },
  {
   "cell_type": "code",
   "execution_count": null,
   "id": "97b6f1c2",
   "metadata": {},
   "outputs": [],
   "source": [
    "train = train.reset_index(drop = True)"
   ]
  },
  {
   "cell_type": "code",
   "execution_count": null,
   "id": "aa1ce646",
   "metadata": {},
   "outputs": [],
   "source": [
    "train"
   ]
  },
  {
   "cell_type": "code",
   "execution_count": null,
   "id": "a56d64b4",
   "metadata": {},
   "outputs": [],
   "source": [
    "train.to_csv(\"Data_deleted.csv\")"
   ]
  },
  {
   "cell_type": "code",
   "execution_count": null,
   "id": "2f8b439d",
   "metadata": {},
   "outputs": [],
   "source": []
  }
 ],
 "metadata": {
  "colab": {
   "provenance": []
  },
  "kernelspec": {
   "display_name": "Python 3 (ipykernel)",
   "language": "python",
   "name": "python3"
  },
  "language_info": {
   "codemirror_mode": {
    "name": "ipython",
    "version": 3
   },
   "file_extension": ".py",
   "mimetype": "text/x-python",
   "name": "python",
   "nbconvert_exporter": "python",
   "pygments_lexer": "ipython3",
   "version": "3.7.1"
  }
 },
 "nbformat": 4,
 "nbformat_minor": 5
}
