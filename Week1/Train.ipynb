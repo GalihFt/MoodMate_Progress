{
 "cells": [
  {
   "cell_type": "markdown",
   "id": "daa114ef",
   "metadata": {},
   "source": [
    "## Import Data"
   ]
  },
  {
   "cell_type": "code",
   "execution_count": 1,
   "id": "4b9a1e87",
   "metadata": {
    "id": "4b9a1e87"
   },
   "outputs": [],
   "source": [
    "import pandas as pd\n",
    "import numpy as np\n",
    "import tensorflow as tf\n",
    "import random\n",
    "import gensim"
   ]
  },
  {
   "cell_type": "code",
   "execution_count": 2,
   "id": "c63441fd",
   "metadata": {
    "id": "c63441fd",
    "outputId": "79bfdb5d-6d67-40e2-9024-9a021c46f1aa"
   },
   "outputs": [
    {
     "data": {
      "text/html": [
       "<div>\n",
       "<style scoped>\n",
       "    .dataframe tbody tr th:only-of-type {\n",
       "        vertical-align: middle;\n",
       "    }\n",
       "\n",
       "    .dataframe tbody tr th {\n",
       "        vertical-align: top;\n",
       "    }\n",
       "\n",
       "    .dataframe thead th {\n",
       "        text-align: right;\n",
       "    }\n",
       "</style>\n",
       "<table border=\"1\" class=\"dataframe\">\n",
       "  <thead>\n",
       "    <tr style=\"text-align: right;\">\n",
       "      <th></th>\n",
       "      <th>label</th>\n",
       "      <th>tweet</th>\n",
       "    </tr>\n",
       "  </thead>\n",
       "  <tbody>\n",
       "    <tr>\n",
       "      <th>0</th>\n",
       "      <td>love</td>\n",
       "      <td>!rp hai ele. Maaf ya gua ga romantis. Gua cuma...</td>\n",
       "    </tr>\n",
       "    <tr>\n",
       "      <th>1</th>\n",
       "      <td>anger</td>\n",
       "      <td>\"Mka.a jgn ngatain org klu gmau dikatain...jag...</td>\n",
       "    </tr>\n",
       "    <tr>\n",
       "      <th>2</th>\n",
       "      <td>joy</td>\n",
       "      <td># CONGRATULATIONS # Mengucapkan selamat untuk ...</td>\n",
       "    </tr>\n",
       "    <tr>\n",
       "      <th>3</th>\n",
       "      <td>joy</td>\n",
       "      <td>#Allhamdulilah Bertambah usia lagi jagoan keci...</td>\n",
       "    </tr>\n",
       "    <tr>\n",
       "      <th>4</th>\n",
       "      <td>sadness</td>\n",
       "      <td>#Bali, tunggu koko lagi ya. Koko bakal balik l...</td>\n",
       "    </tr>\n",
       "  </tbody>\n",
       "</table>\n",
       "</div>"
      ],
      "text/plain": [
       "     label                                              tweet\n",
       "0     love  !rp hai ele. Maaf ya gua ga romantis. Gua cuma...\n",
       "1    anger  \"Mka.a jgn ngatain org klu gmau dikatain...jag...\n",
       "2      joy  # CONGRATULATIONS # Mengucapkan selamat untuk ...\n",
       "3      joy  #Allhamdulilah Bertambah usia lagi jagoan keci...\n",
       "4  sadness  #Bali, tunggu koko lagi ya. Koko bakal balik l..."
      ]
     },
     "execution_count": 2,
     "metadata": {},
     "output_type": "execute_result"
    }
   ],
   "source": [
    "train = pd.read_csv('data_fix_banget.csv')\n",
    "train.head()"
   ]
  },
  {
   "cell_type": "code",
   "execution_count": 3,
   "id": "a3356143",
   "metadata": {},
   "outputs": [
    {
     "name": "stdout",
     "output_type": "stream",
     "text": [
      "         label                                              tweet\n",
      "0      sadness                  Saya merasa sangat sedih sekarang\n",
      "1        anger  Saya sering merasa tidak puas dengan diskusi s...\n",
      "2         love  aku memilihmu bukan karna aku sayang kamu. Dan...\n",
      "3         fear  Saya tidak merasa terancam sama sekali oleh or...\n",
      "4         fear  Saya juga masih percaya pada feminisme dan say...\n",
      "...        ...                                                ...\n",
      "21128  sadness  Saya melihat ke cermin akhir-akhir ini, saya p...\n",
      "21129  sadness  Saya merasa tidak diinginkan atau tidak nyaman...\n",
      "21130  sadness  Saya bergantian antara menebang optimis dan me...\n",
      "21131  sadness  Saat kamu merasakan kekosongan di dalam dirimu...\n",
      "21132      joy  Saya merasa gaya yang kuat warna garis hitam t...\n",
      "\n",
      "[21133 rows x 2 columns]\n"
     ]
    }
   ],
   "source": [
    "# Shuffle the rows\n",
    "train = train.sample(frac=1).reset_index(drop=True)\n",
    "\n",
    "print(train)"
   ]
  },
  {
   "cell_type": "code",
   "execution_count": 4,
   "id": "cbf2731d",
   "metadata": {
    "id": "cbf2731d",
    "outputId": "a19501a1-daff-4ab9-cdcb-56d75c80732b"
   },
   "outputs": [
    {
     "data": {
      "text/html": [
       "<div>\n",
       "<style scoped>\n",
       "    .dataframe tbody tr th:only-of-type {\n",
       "        vertical-align: middle;\n",
       "    }\n",
       "\n",
       "    .dataframe tbody tr th {\n",
       "        vertical-align: top;\n",
       "    }\n",
       "\n",
       "    .dataframe thead th {\n",
       "        text-align: right;\n",
       "    }\n",
       "</style>\n",
       "<table border=\"1\" class=\"dataframe\">\n",
       "  <thead>\n",
       "    <tr style=\"text-align: right;\">\n",
       "      <th></th>\n",
       "      <th>label</th>\n",
       "      <th>tweet</th>\n",
       "    </tr>\n",
       "  </thead>\n",
       "  <tbody>\n",
       "    <tr>\n",
       "      <th>0</th>\n",
       "      <td>sadness</td>\n",
       "      <td>Saya merasa sangat sedih sekarang</td>\n",
       "    </tr>\n",
       "    <tr>\n",
       "      <th>1</th>\n",
       "      <td>anger</td>\n",
       "      <td>Saya sering merasa tidak puas dengan diskusi s...</td>\n",
       "    </tr>\n",
       "    <tr>\n",
       "      <th>2</th>\n",
       "      <td>love</td>\n",
       "      <td>aku memilihmu bukan karna aku sayang kamu. Dan...</td>\n",
       "    </tr>\n",
       "    <tr>\n",
       "      <th>3</th>\n",
       "      <td>fear</td>\n",
       "      <td>Saya tidak merasa terancam sama sekali oleh or...</td>\n",
       "    </tr>\n",
       "    <tr>\n",
       "      <th>4</th>\n",
       "      <td>fear</td>\n",
       "      <td>Saya juga masih percaya pada feminisme dan say...</td>\n",
       "    </tr>\n",
       "    <tr>\n",
       "      <th>...</th>\n",
       "      <td>...</td>\n",
       "      <td>...</td>\n",
       "    </tr>\n",
       "    <tr>\n",
       "      <th>21128</th>\n",
       "      <td>sadness</td>\n",
       "      <td>Saya melihat ke cermin akhir-akhir ini, saya p...</td>\n",
       "    </tr>\n",
       "    <tr>\n",
       "      <th>21129</th>\n",
       "      <td>sadness</td>\n",
       "      <td>Saya merasa tidak diinginkan atau tidak nyaman...</td>\n",
       "    </tr>\n",
       "    <tr>\n",
       "      <th>21130</th>\n",
       "      <td>sadness</td>\n",
       "      <td>Saya bergantian antara menebang optimis dan me...</td>\n",
       "    </tr>\n",
       "    <tr>\n",
       "      <th>21131</th>\n",
       "      <td>sadness</td>\n",
       "      <td>Saat kamu merasakan kekosongan di dalam dirimu...</td>\n",
       "    </tr>\n",
       "    <tr>\n",
       "      <th>21132</th>\n",
       "      <td>joy</td>\n",
       "      <td>Saya merasa gaya yang kuat warna garis hitam t...</td>\n",
       "    </tr>\n",
       "  </tbody>\n",
       "</table>\n",
       "<p>21133 rows × 2 columns</p>\n",
       "</div>"
      ],
      "text/plain": [
       "         label                                              tweet\n",
       "0      sadness                  Saya merasa sangat sedih sekarang\n",
       "1        anger  Saya sering merasa tidak puas dengan diskusi s...\n",
       "2         love  aku memilihmu bukan karna aku sayang kamu. Dan...\n",
       "3         fear  Saya tidak merasa terancam sama sekali oleh or...\n",
       "4         fear  Saya juga masih percaya pada feminisme dan say...\n",
       "...        ...                                                ...\n",
       "21128  sadness  Saya melihat ke cermin akhir-akhir ini, saya p...\n",
       "21129  sadness  Saya merasa tidak diinginkan atau tidak nyaman...\n",
       "21130  sadness  Saya bergantian antara menebang optimis dan me...\n",
       "21131  sadness  Saat kamu merasakan kekosongan di dalam dirimu...\n",
       "21132      joy  Saya merasa gaya yang kuat warna garis hitam t...\n",
       "\n",
       "[21133 rows x 2 columns]"
      ]
     },
     "execution_count": 4,
     "metadata": {},
     "output_type": "execute_result"
    }
   ],
   "source": [
    "train = train[[\"label\", \"tweet\"]]\n",
    "train"
   ]
  },
  {
   "cell_type": "code",
   "execution_count": 5,
   "id": "d973a051",
   "metadata": {},
   "outputs": [
    {
     "name": "stdout",
     "output_type": "stream",
     "text": [
      "<class 'pandas.core.frame.DataFrame'>\n",
      "RangeIndex: 21133 entries, 0 to 21132\n",
      "Data columns (total 2 columns):\n",
      " #   Column  Non-Null Count  Dtype \n",
      "---  ------  --------------  ----- \n",
      " 0   label   21133 non-null  object\n",
      " 1   tweet   21133 non-null  object\n",
      "dtypes: object(2)\n",
      "memory usage: 330.3+ KB\n"
     ]
    }
   ],
   "source": [
    "train.info()"
   ]
  },
  {
   "cell_type": "code",
   "execution_count": 6,
   "id": "39680c89",
   "metadata": {
    "id": "39680c89",
    "outputId": "939b4955-0adc-4e73-d39d-2c3392cdb20f"
   },
   "outputs": [
    {
     "data": {
      "text/html": [
       "<div>\n",
       "<style scoped>\n",
       "    .dataframe tbody tr th:only-of-type {\n",
       "        vertical-align: middle;\n",
       "    }\n",
       "\n",
       "    .dataframe tbody tr th {\n",
       "        vertical-align: top;\n",
       "    }\n",
       "\n",
       "    .dataframe thead th {\n",
       "        text-align: right;\n",
       "    }\n",
       "</style>\n",
       "<table border=\"1\" class=\"dataframe\">\n",
       "  <thead>\n",
       "    <tr style=\"text-align: right;\">\n",
       "      <th></th>\n",
       "      <th>label</th>\n",
       "      <th>tweet</th>\n",
       "    </tr>\n",
       "  </thead>\n",
       "  <tbody>\n",
       "    <tr>\n",
       "      <th>count</th>\n",
       "      <td>21133</td>\n",
       "      <td>21133</td>\n",
       "    </tr>\n",
       "    <tr>\n",
       "      <th>unique</th>\n",
       "      <td>5</td>\n",
       "      <td>20577</td>\n",
       "    </tr>\n",
       "    <tr>\n",
       "      <th>top</th>\n",
       "      <td>joy</td>\n",
       "      <td>Aku merasa seperti aku harus melepaskan rasa m...</td>\n",
       "    </tr>\n",
       "    <tr>\n",
       "      <th>freq</th>\n",
       "      <td>5987</td>\n",
       "      <td>5</td>\n",
       "    </tr>\n",
       "  </tbody>\n",
       "</table>\n",
       "</div>"
      ],
      "text/plain": [
       "        label                                              tweet\n",
       "count   21133                                              21133\n",
       "unique      5                                              20577\n",
       "top       joy  Aku merasa seperti aku harus melepaskan rasa m...\n",
       "freq     5987                                                  5"
      ]
     },
     "execution_count": 6,
     "metadata": {},
     "output_type": "execute_result"
    }
   ],
   "source": [
    "train.describe()"
   ]
  },
  {
   "cell_type": "code",
   "execution_count": 7,
   "id": "5ae91330",
   "metadata": {
    "id": "5ae91330",
    "outputId": "df3ea461-c47b-4542-b990-e03cadfbea26"
   },
   "outputs": [
    {
     "data": {
      "text/html": [
       "<div>\n",
       "<style scoped>\n",
       "    .dataframe tbody tr th:only-of-type {\n",
       "        vertical-align: middle;\n",
       "    }\n",
       "\n",
       "    .dataframe tbody tr th {\n",
       "        vertical-align: top;\n",
       "    }\n",
       "\n",
       "    .dataframe thead th {\n",
       "        text-align: right;\n",
       "    }\n",
       "</style>\n",
       "<table border=\"1\" class=\"dataframe\">\n",
       "  <thead>\n",
       "    <tr style=\"text-align: right;\">\n",
       "      <th></th>\n",
       "      <th>label</th>\n",
       "      <th>tweet</th>\n",
       "    </tr>\n",
       "  </thead>\n",
       "  <tbody>\n",
       "    <tr>\n",
       "      <th>count</th>\n",
       "      <td>21133</td>\n",
       "      <td>21133</td>\n",
       "    </tr>\n",
       "    <tr>\n",
       "      <th>unique</th>\n",
       "      <td>5</td>\n",
       "      <td>20577</td>\n",
       "    </tr>\n",
       "    <tr>\n",
       "      <th>top</th>\n",
       "      <td>joy</td>\n",
       "      <td>Aku merasa seperti aku harus melepaskan rasa m...</td>\n",
       "    </tr>\n",
       "    <tr>\n",
       "      <th>freq</th>\n",
       "      <td>5987</td>\n",
       "      <td>5</td>\n",
       "    </tr>\n",
       "  </tbody>\n",
       "</table>\n",
       "</div>"
      ],
      "text/plain": [
       "        label                                              tweet\n",
       "count   21133                                              21133\n",
       "unique      5                                              20577\n",
       "top       joy  Aku merasa seperti aku harus melepaskan rasa m...\n",
       "freq     5987                                                  5"
      ]
     },
     "execution_count": 7,
     "metadata": {},
     "output_type": "execute_result"
    }
   ],
   "source": [
    "train.describe(include=\"O\")"
   ]
  },
  {
   "cell_type": "code",
   "execution_count": 8,
   "id": "aa687ed2",
   "metadata": {
    "id": "aa687ed2",
    "outputId": "08c66a6b-f8ca-4503-8199-5fc7072283bf"
   },
   "outputs": [
    {
     "data": {
      "text/html": [
       "<div>\n",
       "<style scoped>\n",
       "    .dataframe tbody tr th:only-of-type {\n",
       "        vertical-align: middle;\n",
       "    }\n",
       "\n",
       "    .dataframe tbody tr th {\n",
       "        vertical-align: top;\n",
       "    }\n",
       "\n",
       "    .dataframe thead th {\n",
       "        text-align: right;\n",
       "    }\n",
       "</style>\n",
       "<table border=\"1\" class=\"dataframe\">\n",
       "  <thead>\n",
       "    <tr style=\"text-align: right;\">\n",
       "      <th></th>\n",
       "      <th>tweet</th>\n",
       "    </tr>\n",
       "    <tr>\n",
       "      <th>label</th>\n",
       "      <th></th>\n",
       "    </tr>\n",
       "  </thead>\n",
       "  <tbody>\n",
       "    <tr>\n",
       "      <th>anger</th>\n",
       "      <td>4209</td>\n",
       "    </tr>\n",
       "    <tr>\n",
       "      <th>fear</th>\n",
       "      <td>3586</td>\n",
       "    </tr>\n",
       "    <tr>\n",
       "      <th>joy</th>\n",
       "      <td>5987</td>\n",
       "    </tr>\n",
       "    <tr>\n",
       "      <th>love</th>\n",
       "      <td>1859</td>\n",
       "    </tr>\n",
       "    <tr>\n",
       "      <th>sadness</th>\n",
       "      <td>5492</td>\n",
       "    </tr>\n",
       "  </tbody>\n",
       "</table>\n",
       "</div>"
      ],
      "text/plain": [
       "         tweet\n",
       "label         \n",
       "anger     4209\n",
       "fear      3586\n",
       "joy       5987\n",
       "love      1859\n",
       "sadness   5492"
      ]
     },
     "execution_count": 8,
     "metadata": {},
     "output_type": "execute_result"
    }
   ],
   "source": [
    "train.groupby(by=\"label\").count()"
   ]
  },
  {
   "cell_type": "code",
   "execution_count": 9,
   "id": "6bec2209",
   "metadata": {
    "id": "6bec2209",
    "outputId": "beb28976-c8cd-41b7-8ada-0f439bae9b73"
   },
   "outputs": [
    {
     "data": {
      "text/html": [
       "<div>\n",
       "<style scoped>\n",
       "    .dataframe tbody tr th:only-of-type {\n",
       "        vertical-align: middle;\n",
       "    }\n",
       "\n",
       "    .dataframe tbody tr th {\n",
       "        vertical-align: top;\n",
       "    }\n",
       "\n",
       "    .dataframe thead th {\n",
       "        text-align: right;\n",
       "    }\n",
       "</style>\n",
       "<table border=\"1\" class=\"dataframe\">\n",
       "  <thead>\n",
       "    <tr style=\"text-align: right;\">\n",
       "      <th></th>\n",
       "      <th>label</th>\n",
       "      <th>tweet</th>\n",
       "      <th>num_label</th>\n",
       "    </tr>\n",
       "  </thead>\n",
       "  <tbody>\n",
       "    <tr>\n",
       "      <th>0</th>\n",
       "      <td>sadness</td>\n",
       "      <td>Saya merasa sangat sedih sekarang</td>\n",
       "      <td>3</td>\n",
       "    </tr>\n",
       "    <tr>\n",
       "      <th>1</th>\n",
       "      <td>anger</td>\n",
       "      <td>Saya sering merasa tidak puas dengan diskusi s...</td>\n",
       "      <td>0</td>\n",
       "    </tr>\n",
       "    <tr>\n",
       "      <th>2</th>\n",
       "      <td>love</td>\n",
       "      <td>aku memilihmu bukan karna aku sayang kamu. Dan...</td>\n",
       "      <td>2</td>\n",
       "    </tr>\n",
       "    <tr>\n",
       "      <th>3</th>\n",
       "      <td>fear</td>\n",
       "      <td>Saya tidak merasa terancam sama sekali oleh or...</td>\n",
       "      <td>1</td>\n",
       "    </tr>\n",
       "    <tr>\n",
       "      <th>4</th>\n",
       "      <td>fear</td>\n",
       "      <td>Saya juga masih percaya pada feminisme dan say...</td>\n",
       "      <td>1</td>\n",
       "    </tr>\n",
       "  </tbody>\n",
       "</table>\n",
       "</div>"
      ],
      "text/plain": [
       "     label                                              tweet  num_label\n",
       "0  sadness                  Saya merasa sangat sedih sekarang          3\n",
       "1    anger  Saya sering merasa tidak puas dengan diskusi s...          0\n",
       "2     love  aku memilihmu bukan karna aku sayang kamu. Dan...          2\n",
       "3     fear  Saya tidak merasa terancam sama sekali oleh or...          1\n",
       "4     fear  Saya juga masih percaya pada feminisme dan say...          1"
      ]
     },
     "execution_count": 9,
     "metadata": {},
     "output_type": "execute_result"
    }
   ],
   "source": [
    "train['num_label'] = train['label'].map({'anger':0, 'fear':1, 'joy':2, 'love':2, 'sadness':3})\n",
    "train.head()"
   ]
  },
  {
   "cell_type": "code",
   "execution_count": 10,
   "id": "f5361cf7",
   "metadata": {},
   "outputs": [
    {
     "data": {
      "text/html": [
       "<div>\n",
       "<style scoped>\n",
       "    .dataframe tbody tr th:only-of-type {\n",
       "        vertical-align: middle;\n",
       "    }\n",
       "\n",
       "    .dataframe tbody tr th {\n",
       "        vertical-align: top;\n",
       "    }\n",
       "\n",
       "    .dataframe thead th {\n",
       "        text-align: right;\n",
       "    }\n",
       "</style>\n",
       "<table border=\"1\" class=\"dataframe\">\n",
       "  <thead>\n",
       "    <tr style=\"text-align: right;\">\n",
       "      <th></th>\n",
       "      <th>label</th>\n",
       "      <th>tweet</th>\n",
       "    </tr>\n",
       "    <tr>\n",
       "      <th>num_label</th>\n",
       "      <th></th>\n",
       "      <th></th>\n",
       "    </tr>\n",
       "  </thead>\n",
       "  <tbody>\n",
       "    <tr>\n",
       "      <th>0</th>\n",
       "      <td>4209</td>\n",
       "      <td>4209</td>\n",
       "    </tr>\n",
       "    <tr>\n",
       "      <th>1</th>\n",
       "      <td>3586</td>\n",
       "      <td>3586</td>\n",
       "    </tr>\n",
       "    <tr>\n",
       "      <th>2</th>\n",
       "      <td>7846</td>\n",
       "      <td>7846</td>\n",
       "    </tr>\n",
       "    <tr>\n",
       "      <th>3</th>\n",
       "      <td>5492</td>\n",
       "      <td>5492</td>\n",
       "    </tr>\n",
       "  </tbody>\n",
       "</table>\n",
       "</div>"
      ],
      "text/plain": [
       "           label  tweet\n",
       "num_label              \n",
       "0           4209   4209\n",
       "1           3586   3586\n",
       "2           7846   7846\n",
       "3           5492   5492"
      ]
     },
     "execution_count": 10,
     "metadata": {},
     "output_type": "execute_result"
    }
   ],
   "source": [
    "train.groupby(by=\"num_label\").count()"
   ]
  },
  {
   "cell_type": "code",
   "execution_count": 11,
   "id": "dcdaf512",
   "metadata": {},
   "outputs": [],
   "source": [
    "EMBEDDING_DIM = 100\n",
    "MAXLEN = 16\n",
    "TRUNCATING = 'post'\n",
    "PADDING = 'post'\n",
    "OOV_TOKEN = \"<OOV>\"\n",
    "MAX_EXAMPLES = 160000\n",
    "TRAINING_SPLIT = 0.9"
   ]
  },
  {
   "cell_type": "markdown",
   "id": "04265c9f",
   "metadata": {
    "id": "04265c9f"
   },
   "source": [
    "## Data Preprocessing"
   ]
  },
  {
   "cell_type": "code",
   "execution_count": 12,
   "id": "06bc63c2",
   "metadata": {},
   "outputs": [],
   "source": [
    "# !pip install emoji\n",
    "# !pip install python-crfsuite"
   ]
  },
  {
   "cell_type": "code",
   "execution_count": 13,
   "id": "391f6847",
   "metadata": {
    "id": "391f6847"
   },
   "outputs": [],
   "source": [
    "import re\n",
    "import emoji\n",
    "import nltk\n",
    "from nltk.tokenize import word_tokenize\n",
    "from nltk.corpus import stopwords\n",
    "from nltk.tag import CRFTagger\n",
    "excelstopwords = pd.read_excel('stopwords.xlsx')\n",
    "kamusalay= pd.read_csv(\"kamusalay.csv\")"
   ]
  },
  {
   "cell_type": "code",
   "execution_count": 14,
   "id": "692e950b",
   "metadata": {},
   "outputs": [],
   "source": [
    "def lowercase(review):\n",
    "    return review.lower() #dari python langsung, bkn dari external library\n",
    "\n",
    "# hapus URL\n",
    "def remove_url(review):\n",
    "    return re.sub(r'http\\S+', '', review)\n",
    "\n",
    "#KAMUS ALAY\n",
    "def alay(review):\n",
    "    alay_dic = kamusalay.to_dict()\n",
    "    alay_dic = dict(zip(kamusalay.iloc[:,0], kamusalay.iloc[:,1]))\n",
    "    words = review.split()\n",
    "    for i in range(len(words)):\n",
    "        word = words[i]\n",
    "        if word in alay_dic.keys():\n",
    "            words[i] = alay_dic[word]\n",
    "    sentence = \" \".join(words)\n",
    "    return sentence\n",
    "\n",
    "def remove_square_brackets(review):\n",
    "    # Menghapus teks di dalam kurung siku beserta kurungnya\n",
    "    return re.sub(r'\\[.*?\\]', '', review)\n",
    "\n",
    "# hapus irrelevant char(angka, simbol, tanda baca)\n",
    "def remove_irrelevant(review):\n",
    "    return re.sub('[^a-zA-Z\\s]', ' ', review)\n",
    "\n",
    "# hapus spasi lebih dari 1\n",
    "def remove_space(review):\n",
    "    review= re.sub(r'\\s+', ' ', review)\n",
    "    review= review.replace('\\n', ' ')\n",
    "    review= review.replace('\\\\n', ' ')\n",
    "    review= review.replace('\\t', ' ')\n",
    "    review= review.replace('\\\\t', ' ')\n",
    "    review= review.replace('\\\\u', ' ')\n",
    "    review= review.replace('\\\\', ' ')\n",
    "    return review\n",
    "\n",
    "# hapus emoji\n",
    "def remove_emoji(review):\n",
    "    emoji_pattern= re.compile(\"[\"\n",
    "                           u\"\\U0001F600-\\U0001F64F\"  # emoticon\n",
    "                           u\"\\U0001F300-\\U0001F5FF\"  # simbol & dingbat\n",
    "                           u\"\\U0001F680-\\U0001F6FF\"  # transportasi & simbol map\n",
    "                           u\"\\U0001F700-\\U0001F77F\"  # simbol kuno\n",
    "                           u\"\\U0001F780-\\U0001F7FF\"  # simbol kuno tambahan\n",
    "                           u\"\\U0001F800-\\U0001F8FF\"  # simbol tanda batas\n",
    "                           u\"\\U0001F900-\\U0001F9FF\"  # emoticon tambahan\n",
    "                           u\"\\U0001FA00-\\U0001FA6F\"  # simbol musik\n",
    "                           u\"\\U0001FA70-\\U0001FAFF\"  # simbol musik tambahan\n",
    "                           u\"\\U00002702-\\U000027B0\"  # simbol karakter\n",
    "                           u\"\\U000024C2-\\U0001F251\"  # simbol katakter tambahan\n",
    "                           \"]+\", flags= re.UNICODE)\n",
    "    return emoji_pattern.sub(r'', review)\n",
    "\n",
    "\n",
    "#REMOVING REPEAT CHARACTER\n",
    "def repeat_char(review):\n",
    "    review= re.sub('([A-Za-z])\\\\1{2,}','\\\\1', review)\n",
    "    return review\n",
    "\n",
    "\n",
    "#STOPWORD ENGLISH --> NEED TO FIX\n",
    "def remove_stopwords(sentence):\n",
    "    stopwords_list = list(excelstopwords['stopwords'])\n",
    "    words = sentence.split()\n",
    "    no_words = [w for w in words if w not in stopwords_list]\n",
    "    sentence = \" \".join(no_words)\n",
    "    return sentence\n",
    "\n"
   ]
  },
  {
   "cell_type": "code",
   "execution_count": 15,
   "id": "050fb938",
   "metadata": {
    "id": "050fb938",
    "outputId": "14bedcbd-6f36-4a14-8ab5-36633ab30be6"
   },
   "outputs": [],
   "source": [
    "def df_prep(train):\n",
    "    train['filtering']= train['tweet'].apply(lowercase)\n",
    "    train['filtering']= train['filtering'].apply(remove_url)\n",
    "   # train['filtering']= train['filtering'].apply(alay)\n",
    "    train['filtering']= train['filtering'].apply(remove_square_brackets)\n",
    "    train['filtering']= train['filtering'].apply(remove_irrelevant)\n",
    "    train['filtering']= train['filtering'].apply(remove_space)\n",
    "    train['filtering']= train['filtering'].apply(remove_emoji)\n",
    "    train['filtering']= train['filtering'].apply(repeat_char)\n",
    "    train[\"filtering\"]= train[\"filtering\"].apply(remove_stopwords)\n",
    "    return train"
   ]
  },
  {
   "cell_type": "code",
   "execution_count": 16,
   "id": "7174e8a5",
   "metadata": {},
   "outputs": [
    {
     "data": {
      "text/html": [
       "<div>\n",
       "<style scoped>\n",
       "    .dataframe tbody tr th:only-of-type {\n",
       "        vertical-align: middle;\n",
       "    }\n",
       "\n",
       "    .dataframe tbody tr th {\n",
       "        vertical-align: top;\n",
       "    }\n",
       "\n",
       "    .dataframe thead th {\n",
       "        text-align: right;\n",
       "    }\n",
       "</style>\n",
       "<table border=\"1\" class=\"dataframe\">\n",
       "  <thead>\n",
       "    <tr style=\"text-align: right;\">\n",
       "      <th></th>\n",
       "      <th>label</th>\n",
       "      <th>tweet</th>\n",
       "      <th>num_label</th>\n",
       "      <th>filtering</th>\n",
       "    </tr>\n",
       "  </thead>\n",
       "  <tbody>\n",
       "    <tr>\n",
       "      <th>0</th>\n",
       "      <td>sadness</td>\n",
       "      <td>Saya merasa sangat sedih sekarang</td>\n",
       "      <td>3</td>\n",
       "      <td>sedih</td>\n",
       "    </tr>\n",
       "    <tr>\n",
       "      <th>1</th>\n",
       "      <td>anger</td>\n",
       "      <td>Saya sering merasa tidak puas dengan diskusi s...</td>\n",
       "      <td>0</td>\n",
       "      <td>puas diskusi omong kosong everyone is beautifu...</td>\n",
       "    </tr>\n",
       "    <tr>\n",
       "      <th>2</th>\n",
       "      <td>love</td>\n",
       "      <td>aku memilihmu bukan karna aku sayang kamu. Dan...</td>\n",
       "      <td>2</td>\n",
       "      <td>memilihmu karna sayang karna mencintai memilih...</td>\n",
       "    </tr>\n",
       "    <tr>\n",
       "      <th>3</th>\n",
       "      <td>fear</td>\n",
       "      <td>Saya tidak merasa terancam sama sekali oleh or...</td>\n",
       "      <td>1</td>\n",
       "      <td>terancam orang orang miliki menit menit berjal...</td>\n",
       "    </tr>\n",
       "    <tr>\n",
       "      <th>4</th>\n",
       "      <td>fear</td>\n",
       "      <td>Saya juga masih percaya pada feminisme dan say...</td>\n",
       "      <td>1</td>\n",
       "      <td>percaya feminisme percaya kekuatan penyelamata...</td>\n",
       "    </tr>\n",
       "    <tr>\n",
       "      <th>...</th>\n",
       "      <td>...</td>\n",
       "      <td>...</td>\n",
       "      <td>...</td>\n",
       "      <td>...</td>\n",
       "    </tr>\n",
       "    <tr>\n",
       "      <th>21128</th>\n",
       "      <td>sadness</td>\n",
       "      <td>Saya melihat ke cermin akhir-akhir ini, saya p...</td>\n",
       "      <td>3</td>\n",
       "      <td>cermin pikir cantik membosankan</td>\n",
       "    </tr>\n",
       "    <tr>\n",
       "      <th>21129</th>\n",
       "      <td>sadness</td>\n",
       "      <td>Saya merasa tidak diinginkan atau tidak nyaman...</td>\n",
       "      <td>3</td>\n",
       "      <td>nyaman oh kecuali menarik gagang pintu pintu b...</td>\n",
       "    </tr>\n",
       "    <tr>\n",
       "      <th>21130</th>\n",
       "      <td>sadness</td>\n",
       "      <td>Saya bergantian antara menebang optimis dan me...</td>\n",
       "      <td>3</td>\n",
       "      <td>bergantian menebang optimis ditakdirkan</td>\n",
       "    </tr>\n",
       "    <tr>\n",
       "      <th>21131</th>\n",
       "      <td>sadness</td>\n",
       "      <td>Saat kamu merasakan kekosongan di dalam dirimu...</td>\n",
       "      <td>3</td>\n",
       "      <td>merasakan kekosongan dirimu mengisinya hampa e...</td>\n",
       "    </tr>\n",
       "    <tr>\n",
       "      <th>21132</th>\n",
       "      <td>joy</td>\n",
       "      <td>Saya merasa gaya yang kuat warna garis hitam t...</td>\n",
       "      <td>2</td>\n",
       "      <td>gaya kuat warna garis hitam</td>\n",
       "    </tr>\n",
       "  </tbody>\n",
       "</table>\n",
       "<p>21064 rows × 4 columns</p>\n",
       "</div>"
      ],
      "text/plain": [
       "         label                                              tweet  num_label  \\\n",
       "0      sadness                  Saya merasa sangat sedih sekarang          3   \n",
       "1        anger  Saya sering merasa tidak puas dengan diskusi s...          0   \n",
       "2         love  aku memilihmu bukan karna aku sayang kamu. Dan...          2   \n",
       "3         fear  Saya tidak merasa terancam sama sekali oleh or...          1   \n",
       "4         fear  Saya juga masih percaya pada feminisme dan say...          1   \n",
       "...        ...                                                ...        ...   \n",
       "21128  sadness  Saya melihat ke cermin akhir-akhir ini, saya p...          3   \n",
       "21129  sadness  Saya merasa tidak diinginkan atau tidak nyaman...          3   \n",
       "21130  sadness  Saya bergantian antara menebang optimis dan me...          3   \n",
       "21131  sadness  Saat kamu merasakan kekosongan di dalam dirimu...          3   \n",
       "21132      joy  Saya merasa gaya yang kuat warna garis hitam t...          2   \n",
       "\n",
       "                                               filtering  \n",
       "0                                                  sedih  \n",
       "1      puas diskusi omong kosong everyone is beautifu...  \n",
       "2      memilihmu karna sayang karna mencintai memilih...  \n",
       "3      terancam orang orang miliki menit menit berjal...  \n",
       "4      percaya feminisme percaya kekuatan penyelamata...  \n",
       "...                                                  ...  \n",
       "21128                    cermin pikir cantik membosankan  \n",
       "21129  nyaman oh kecuali menarik gagang pintu pintu b...  \n",
       "21130            bergantian menebang optimis ditakdirkan  \n",
       "21131  merasakan kekosongan dirimu mengisinya hampa e...  \n",
       "21132                        gaya kuat warna garis hitam  \n",
       "\n",
       "[21064 rows x 4 columns]"
      ]
     },
     "execution_count": 16,
     "metadata": {},
     "output_type": "execute_result"
    }
   ],
   "source": [
    "train = df_prep(train)\n",
    "train = train[train['filtering'] != \"\"]\n",
    "train"
   ]
  },
  {
   "cell_type": "code",
   "execution_count": 17,
   "id": "7b4f2035",
   "metadata": {
    "id": "7b4f2035",
    "outputId": "8ac4b771-c032-44c2-ebba-99704fecd046"
   },
   "outputs": [
    {
     "ename": "NameError",
     "evalue": "name 'train_split' is not defined",
     "output_type": "error",
     "traceback": [
      "\u001b[1;31m---------------------------------------------------------------------------\u001b[0m",
      "\u001b[1;31mNameError\u001b[0m                                 Traceback (most recent call last)",
      "\u001b[1;32m~\\AppData\\Local\\Temp\\ipykernel_63220\\1232322790.py\u001b[0m in \u001b[0;36m<module>\u001b[1;34m\u001b[0m\n\u001b[1;32m----> 1\u001b[1;33m \u001b[0mtrain_size\u001b[0m \u001b[1;33m=\u001b[0m \u001b[0mint\u001b[0m\u001b[1;33m(\u001b[0m\u001b[0mlen\u001b[0m\u001b[1;33m(\u001b[0m\u001b[0mtrain\u001b[0m\u001b[1;33m[\u001b[0m\u001b[1;34m'filtering'\u001b[0m\u001b[1;33m]\u001b[0m\u001b[1;33m)\u001b[0m\u001b[1;33m*\u001b[0m\u001b[0mtrain_split\u001b[0m\u001b[1;33m)\u001b[0m\u001b[1;33m\u001b[0m\u001b[1;33m\u001b[0m\u001b[0m\n\u001b[0m\u001b[0;32m      2\u001b[0m \u001b[0mtrain_size\u001b[0m\u001b[1;33m\u001b[0m\u001b[1;33m\u001b[0m\u001b[0m\n",
      "\u001b[1;31mNameError\u001b[0m: name 'train_split' is not defined"
     ]
    }
   ],
   "source": [
    "train_size = int(len(train['filtering'])*train_split)\n",
    "train_size"
   ]
  },
  {
   "cell_type": "code",
   "execution_count": 19,
   "id": "9b9bca09",
   "metadata": {},
   "outputs": [],
   "source": [
    "sentences = train['filtering']\n",
    "labels = train['num_label']"
   ]
  },
  {
   "cell_type": "code",
   "execution_count": 72,
   "id": "cdd74ccf",
   "metadata": {},
   "outputs": [],
   "source": [
    "# grader-required-cell\n",
    "\n",
    "EMBEDDING_DIM = 200\n",
    "MAXLEN = 100\n",
    "TRUNCATING = 'post'\n",
    "PADDING = 'post'\n",
    "OOV_TOKEN = \"<OOV>\"\n",
    "MAX_EXAMPLES = 160000\n",
    "TRAINING_SPLIT = 0.9"
   ]
  },
  {
   "cell_type": "code",
   "execution_count": 73,
   "id": "059504f4",
   "metadata": {},
   "outputs": [],
   "source": [
    "# grader-required-cell\n",
    "\n",
    "# GRADED FUNCTION: train_val_split\n",
    "def train_val_split(sentences, labels, training_split):\n",
    "    \"\"\"\n",
    "    Splits the dataset into training and validation sets\n",
    "    \n",
    "    Args:\n",
    "        sentences (list of string): lower-cased sentences without stopwords\n",
    "        labels (list of string): list of labels\n",
    "        training split (float): proportion of the dataset to convert to include in the train set\n",
    "    \n",
    "    Returns:\n",
    "        train_sentences, validation_sentences, train_labels, validation_labels - lists containing the data splits\n",
    "    \"\"\"   \n",
    "    ### START CODE HERE\n",
    "    \n",
    "    # Compute the number of sentences that will be used for training (should be an integer)\n",
    "    train_size = int(len(sentences) * training_split)\n",
    "\n",
    "    # Split the sentences and labels into train/validation splits\n",
    "    train_sentences = sentences[0:train_size]\n",
    "    train_labels = labels[0:train_size]\n",
    "\n",
    "    validation_sentences = sentences[train_size:]\n",
    "    validation_labels = labels[train_size:]\n",
    "    \n",
    "    ### END CODE HERE\n",
    "    \n",
    "    return train_sentences, validation_sentences, train_labels, validation_labels"
   ]
  },
  {
   "cell_type": "code",
   "execution_count": 74,
   "id": "d0e4c497",
   "metadata": {},
   "outputs": [
    {
     "name": "stdout",
     "output_type": "stream",
     "text": [
      "There are 18957 sentences for training.\n",
      "\n",
      "There are 18957 labels for training.\n",
      "\n",
      "There are 2107 sentences for validation.\n",
      "\n",
      "There are 2107 labels for validation.\n"
     ]
    }
   ],
   "source": [
    "# grader-required-cell\n",
    "\n",
    "# Test your function\n",
    "train_sentences, val_sentences, train_labels, val_labels = train_val_split(sentences, labels, TRAINING_SPLIT)\n",
    "\n",
    "print(f\"There are {len(train_sentences)} sentences for training.\\n\")\n",
    "print(f\"There are {len(train_labels)} labels for training.\\n\")\n",
    "print(f\"There are {len(val_sentences)} sentences for validation.\\n\")\n",
    "print(f\"There are {len(val_labels)} labels for validation.\")"
   ]
  },
  {
   "cell_type": "code",
   "execution_count": 75,
   "id": "5bdf5d9a",
   "metadata": {},
   "outputs": [],
   "source": [
    "# grader-required-cell\n",
    "\n",
    "# GRADED FUNCTION: fit_tokenizer\n",
    "def fit_tokenizer(train_sentences, oov_token):\n",
    "    \"\"\"\n",
    "    Instantiates the Tokenizer class on the training sentences\n",
    "    \n",
    "    Args:\n",
    "        train_sentences (list of string): lower-cased sentences without stopwords to be used for training\n",
    "        oov_token (string) - symbol for the out-of-vocabulary token\n",
    "    \n",
    "    Returns:\n",
    "        tokenizer (object): an instance of the Tokenizer class containing the word-index dictionary\n",
    "    \"\"\"    \n",
    "    ### START CODE HERE\n",
    "    \n",
    "    # Instantiate the Tokenizer class, passing in the correct values for oov_token\n",
    "    tokenizer = Tokenizer(oov_token = OOV_TOKEN)\n",
    "    \n",
    "    # Fit the tokenizer to the training sentences\n",
    "    tokenizer.fit_on_texts(train_sentences)\n",
    "    \n",
    "    ### END CODE HERE\n",
    "    \n",
    "    return tokenizer"
   ]
  },
  {
   "cell_type": "code",
   "execution_count": 76,
   "id": "69584bc9",
   "metadata": {},
   "outputs": [
    {
     "name": "stdout",
     "output_type": "stream",
     "text": [
      "Vocabulary contains 24091 words\n",
      "\n",
      "<OOV> token included in vocabulary\n",
      "\n",
      "index of word 'i' should be 133\n"
     ]
    }
   ],
   "source": [
    "# grader-required-cell\n",
    "import numpy as np\n",
    "from tensorflow.keras.preprocessing.text import Tokenizer\n",
    "from tensorflow.keras.preprocessing.sequence import pad_sequences\n",
    "# Test your function\n",
    "tokenizer = fit_tokenizer(train_sentences, OOV_TOKEN)\n",
    "\n",
    "word_index = tokenizer.word_index\n",
    "VOCAB_SIZE = len(word_index)\n",
    "\n",
    "print(f\"Vocabulary contains {VOCAB_SIZE} words\\n\")\n",
    "print(\"<OOV> token included in vocabulary\" if \"<OOV>\" in word_index else \"<OOV> token NOT included in vocabulary\")\n",
    "print(f\"\\nindex of word 'i' should be {word_index['i']}\")"
   ]
  },
  {
   "cell_type": "code",
   "execution_count": 77,
   "id": "cb5c7388",
   "metadata": {},
   "outputs": [],
   "source": [
    "# grader-required-cell\n",
    "\n",
    "# GRADED FUNCTION: seq_pad_and_trunc\n",
    "def seq_pad_and_trunc(sentences, tokenizer, padding, truncating, maxlen):\n",
    "    \"\"\"\n",
    "    Generates an array of token sequences and pads them to the same length\n",
    "    \n",
    "    Args:\n",
    "        sentences (list of string): list of sentences to tokenize and pad\n",
    "        tokenizer (object): Tokenizer instance containing the word-index dictionary\n",
    "        padding (string): type of padding to use\n",
    "        truncating (string): type of truncating to use\n",
    "        maxlen (int): maximum length of the token sequence\n",
    "    \n",
    "    Returns:\n",
    "        pad_trunc_sequences (array of int): tokenized sentences padded to the same length\n",
    "    \"\"\"     \n",
    "    ### START CODE HERE\n",
    "       \n",
    "    # Convert sentences to sequences\n",
    "    sequences = tokenizer.texts_to_sequences(sentences)\n",
    "    \n",
    "    # Pad the sequences using the correct padding, truncating and maxlen\n",
    "    pad_trunc_sequences = pad_sequences(sequences, padding = padding, maxlen=maxlen, truncating = truncating)\n",
    "    \n",
    "    ### END CODE HERE\n",
    "    \n",
    "    return pad_trunc_sequences"
   ]
  },
  {
   "cell_type": "code",
   "execution_count": 78,
   "id": "191b3634",
   "metadata": {},
   "outputs": [
    {
     "name": "stdout",
     "output_type": "stream",
     "text": [
      "Padded and truncated training sequences have shape: (18957, 100)\n",
      "\n",
      "Padded and truncated validation sequences have shape: (2107, 100)\n"
     ]
    }
   ],
   "source": [
    "# grader-required-cell\n",
    "\n",
    "# Test your function\n",
    "train_pad_trunc_seq = seq_pad_and_trunc(train_sentences, tokenizer, PADDING, TRUNCATING, MAXLEN)\n",
    "val_pad_trunc_seq = seq_pad_and_trunc(val_sentences, tokenizer, PADDING, TRUNCATING, MAXLEN)\n",
    "\n",
    "print(f\"Padded and truncated training sequences have shape: {train_pad_trunc_seq.shape}\\n\")\n",
    "print(f\"Padded and truncated validation sequences have shape: {val_pad_trunc_seq.shape}\")"
   ]
  },
  {
   "cell_type": "code",
   "execution_count": 79,
   "id": "0e6cc002",
   "metadata": {},
   "outputs": [],
   "source": [
    "# grader-required-cell\n",
    "\n",
    "train_labels = np.array(train_labels)\n",
    "val_labels = np.array(val_labels)"
   ]
  },
  {
   "cell_type": "code",
   "execution_count": 80,
   "id": "5b80117a",
   "metadata": {},
   "outputs": [],
   "source": [
    "from gensim.models import Word2Vec\n",
    "\n",
    "# Define path to file containing the embeddings\n",
    "path = './idwiki_word2vec_200.model'\n",
    "\n",
    "# Load Word2Vec model\n",
    "id_w2v = Word2Vec.load(path)\n",
    "\n",
    "# Convert Word2Vec model to dictionary format\n",
    "W2V_EMBEDDINGS = {word: id_w2v.wv[word] for word in id_w2v.wv.index_to_key}\n"
   ]
  },
  {
   "cell_type": "code",
   "execution_count": 81,
   "id": "0fbf62bd",
   "metadata": {},
   "outputs": [
    {
     "data": {
      "text/plain": [
       "array([-1.12498724e+00,  1.78106499e+00,  2.21870852e+00, -2.13177514e+00,\n",
       "       -8.24971914e-01, -2.96664310e+00,  2.28853965e+00, -2.77335178e-02,\n",
       "       -1.32273424e+00, -3.67148101e-01,  2.82457948e-01,  2.52194643e-01,\n",
       "       -4.12005693e-01, -1.30563223e+00, -2.70548668e-02,  3.11934304e+00,\n",
       "       -1.81374952e-01,  9.39187407e-01,  2.89249182e-01, -5.81449568e-01,\n",
       "        1.06149864e+00,  3.65803063e-01, -4.12466079e-01,  7.06683457e-01,\n",
       "        3.01595306e+00, -2.07965061e-01, -1.12384176e+00, -7.90287793e-01,\n",
       "       -3.20876539e-02, -1.84497011e+00, -3.96469802e-01, -8.43199968e-01,\n",
       "        1.53188454e-03, -1.53308618e+00,  1.82919359e+00, -6.94898784e-01,\n",
       "        1.25896037e+00,  1.48273826e+00,  7.38302827e-01,  1.03005362e+00,\n",
       "        6.35388255e-01,  2.04106474e+00, -8.45633805e-01, -1.04670572e+00,\n",
       "        1.09358275e+00,  1.33823287e+00,  1.92231643e+00, -2.73456395e-01,\n",
       "        1.73442960e+00,  1.82751822e+00, -5.67157865e-02,  9.65922713e-01,\n",
       "        3.12790066e-01, -1.06185675e+00, -1.32390559e+00, -1.03657377e+00,\n",
       "       -9.62887049e-01,  3.17767352e-01, -1.01144528e+00,  2.62031835e-02,\n",
       "        1.09962244e-02, -1.18115401e+00,  2.29204440e+00,  6.14693701e-01,\n",
       "       -2.01088238e+00,  1.79700732e+00, -4.86825585e-01,  1.67770401e-01,\n",
       "       -1.12168300e+00,  1.94401443e+00,  8.86753201e-01,  6.36474788e-01,\n",
       "        1.51615465e+00,  3.76926243e-01, -2.40876842e+00, -5.82487464e-01,\n",
       "       -6.87651455e-01, -1.54902625e+00, -6.18796408e-01,  1.70966530e+00,\n",
       "       -7.64277697e-01,  6.15826666e-01, -2.92229325e-01,  2.52266550e+00,\n",
       "       -1.54381609e+00, -2.42620683e+00, -1.12897255e-01,  3.17546666e-01,\n",
       "        1.36883342e+00, -1.15219331e+00, -4.48350191e-01, -3.11158746e-01,\n",
       "        1.44219175e-01, -2.12369704e+00,  4.69613187e-02, -9.41357195e-01,\n",
       "       -1.26649284e+00, -1.74630725e+00,  5.20078659e-01, -3.53560597e-01,\n",
       "       -2.17526317e+00, -5.00314713e-01,  7.26056695e-01, -3.97415221e-01,\n",
       "       -1.14319757e-01, -2.13738871e+00,  1.47384870e+00,  4.60498519e-02,\n",
       "       -2.62025863e-01,  1.06046212e+00,  3.25965196e-01, -2.10163951e+00,\n",
       "       -3.06058943e-01, -8.44100654e-01,  5.75109906e-02,  4.92753893e-01,\n",
       "        2.02552557e-01,  3.46093804e-01,  4.24070090e-01,  5.31506419e-01,\n",
       "       -2.38661337e+00, -1.57033920e-01,  1.52585477e-01,  5.04473783e-03,\n",
       "       -1.34082007e+00, -4.53274161e-01, -2.48562574e+00,  8.52758348e-01,\n",
       "        3.15320790e-01,  4.75306541e-01, -1.15660083e+00, -4.91698205e-01,\n",
       "       -7.62540221e-01,  7.52580583e-01,  2.01685238e+00, -7.29753733e-01,\n",
       "       -4.93503034e-01, -1.59182167e+00,  1.64857909e-01,  1.94588006e+00,\n",
       "        6.28331006e-01, -2.45625615e+00,  1.48842764e+00, -1.30413508e+00,\n",
       "       -7.34548092e-01,  1.77734375e-01,  6.62217379e-01, -2.60099918e-01,\n",
       "       -6.68240190e-01, -3.41782928e+00, -1.56575084e+00,  7.08657444e-01,\n",
       "       -1.73136568e+00,  1.60438490e+00,  1.08472478e+00, -2.83462077e-01,\n",
       "       -2.00095630e+00,  1.07164669e+00,  2.03775978e+00,  7.57430553e-01,\n",
       "       -1.01952016e+00,  1.62323892e-01, -9.42561805e-01, -7.25728199e-02,\n",
       "       -2.71758938e+00,  1.91721487e+00,  7.98318908e-02, -2.49641538e-01,\n",
       "        8.50606617e-03,  5.39212465e-01, -1.04090321e+00,  1.16267908e+00,\n",
       "        2.40999603e+00,  9.86711860e-01, -6.05200883e-03,  1.47632623e+00,\n",
       "        1.77232468e+00, -3.97330165e+00, -1.22192097e+00,  5.76474905e-01,\n",
       "        1.37199759e+00, -1.62607288e+00,  5.70993185e-01, -7.80964911e-01,\n",
       "        1.15569735e+00,  1.58576071e+00, -1.88003585e-01, -1.42118573e-01,\n",
       "       -8.29528213e-01, -1.06145978e+00, -6.54207587e-01,  7.98110589e-02,\n",
       "        4.51512724e-01,  1.00103211e+00,  4.33992833e-01, -7.63911545e-01,\n",
       "       -4.77324128e-02,  1.87423611e+00,  6.94777250e-01,  5.32924175e-01],\n",
       "      dtype=float32)"
      ]
     },
     "execution_count": 81,
     "metadata": {},
     "output_type": "execute_result"
    }
   ],
   "source": [
    "W2V_EMBEDDINGS['sedih']"
   ]
  },
  {
   "cell_type": "code",
   "execution_count": 82,
   "id": "095400ef",
   "metadata": {},
   "outputs": [
    {
     "name": "stdout",
     "output_type": "stream",
     "text": [
      "[('rajanya', 0.7246140837669373), ('kerajaan', 0.7116712927818298), ('penguasa', 0.6902537941932678), ('firaun', 0.6767520308494568), ('maharaja', 0.6640602946281433), ('ratu', 0.6389881372451782), ('permaisuri', 0.6085841655731201), ('kaisar', 0.6011759042739868), ('kertanagara', 0.599554181098938), ('pangeran', 0.5947679281234741)]\n"
     ]
    }
   ],
   "source": [
    "print(id_w2v.wv.most_similar('raja'))"
   ]
  },
  {
   "cell_type": "code",
   "execution_count": 83,
   "id": "729490ad",
   "metadata": {},
   "outputs": [
    {
     "name": "stdout",
     "output_type": "stream",
     "text": [
      "[('agustawestland', 0.7639529705047607), ('shucks', 0.7140540480613708), ('xr', 0.6768186092376709), ('uh', 0.6572850942611694), ('wn', 0.6447826623916626), ('eurocopter', 0.6371169686317444), ('xh', 0.6359284520149231), ('yh', 0.6301230192184448), ('xw', 0.6284568309783936), ('westland', 0.6271255612373352)]\n"
     ]
    }
   ],
   "source": [
    "print(id_w2v.wv.most_similar('aw'))"
   ]
  },
  {
   "cell_type": "code",
   "execution_count": 84,
   "id": "89ae52bd",
   "metadata": {},
   "outputs": [
    {
     "name": "stdout",
     "output_type": "stream",
     "text": [
      "[-0.6338662   1.1988187   0.6044298  -2.3529801  -2.738229   -0.8941125\n",
      " -0.76630354 -1.0421748  -1.3308594   1.5614973  -3.295941    2.3175085\n",
      " -0.4453414   0.9909841  -2.1871486  -0.10886392 -0.46935996 -0.8569066\n",
      " -2.7155235   1.748261    0.09255172  0.24915007 -0.247211   -1.2128687\n",
      "  0.4945234   0.085122   -0.09776495 -0.46747953  0.19653408 -0.06401195\n",
      " -2.8474798   0.72397166 -1.3340746  -1.7579952  -0.19209948 -1.8071597\n",
      "  0.47579393 -0.8388059   0.09791803  0.43881267  0.9861907   0.2837769\n",
      " -1.0391033  -0.4432146  -1.6438637  -1.817277    1.726094   -0.21734771\n",
      " -0.59803456 -2.100845   -0.7878171  -0.6619289   1.1326356   0.10544442\n",
      " -1.4301167  -2.223291   -0.06249101  0.5475086  -2.138893   -1.0038075\n",
      " -2.045015   -0.4497046  -1.4529423   2.2090106  -0.5785613   0.28845495\n",
      " -0.64271146  3.6567655   2.6617074  -0.630098    1.7693353  -1.9331331\n",
      "  1.0839024  -0.8327269  -2.6705952  -0.33268547 -0.36628118 -1.7663293\n",
      " -1.013536   -1.4777486  -0.15575475  2.3521047   0.22323124  0.08062249\n",
      " -0.82414377  0.23114857  2.8855345  -1.163234    2.320931   -2.9032998\n",
      "  2.13136    -0.23713206  0.5835897   0.31532505  3.0980852   2.773396\n",
      " -2.3226037   0.38545966 -2.0369961  -1.9179224  -1.0791249  -0.7545433\n",
      " -2.8470452  -1.1714743   1.1368326  -0.8232053   1.2824932  -0.81261057\n",
      "  1.5567489  -0.42114422  0.57305026 -0.8849532  -0.9458019   1.9984313\n",
      "  1.4161682  -1.0431846  -0.6712174  -0.9824491  -0.78957963 -1.9175254\n",
      " -0.9064088  -0.91188645 -0.9337259  -0.58504564  1.732489   -1.3423283\n",
      " -2.0408616  -3.2148027  -0.9438218   1.5482967   2.6663134  -0.20413229\n",
      "  0.09935951  0.81590146 -1.8007985  -1.4624661   1.1078546  -1.5225935\n",
      "  0.8203759   2.599867   -0.7725437  -0.29472956  1.2822875   1.3185474\n",
      " -0.1845429   0.5062698  -1.6334794  -1.058955   -0.57263917  0.57511896\n",
      " -0.84872437 -0.93460375 -1.5627258   1.9326785   1.0555187  -0.8962389\n",
      " -1.8882033  -1.4562105  -1.2134321  -2.8919475  -1.6212088   0.20559956\n",
      "  2.7059898   1.1265018   0.264007    0.41248953 -1.6291414   1.2974458\n",
      " -1.3552984   1.7879673  -0.35300496 -0.170826    0.5385208  -0.80317014\n",
      " -2.1020226   1.5500787   0.03611386 -1.4679589  -1.4848504   1.4065597\n",
      "  2.0847402   1.0576899   0.56407344 -2.1119964   1.2676324   1.655758\n",
      "  1.4513174   0.1864235  -1.2290953   0.6472243  -0.3268116  -0.38900283\n",
      "  1.0592847  -2.6373367   0.7817031   0.40793657  1.676997    3.0664465\n",
      " -0.22785367  0.64541876]\n"
     ]
    }
   ],
   "source": [
    "vector_anjing = id_w2v.wv.get_vector('anjing')\n",
    "print(vector_anjing)"
   ]
  },
  {
   "cell_type": "code",
   "execution_count": 85,
   "id": "5cbe6bd6",
   "metadata": {},
   "outputs": [],
   "source": [
    "# grader-required-cell\n",
    "\n",
    "# Initialize an empty numpy array with the appropriate size\n",
    "EMBEDDINGS_MATRIX = np.zeros((VOCAB_SIZE+1, EMBEDDING_DIM))\n",
    "\n",
    "# Iterate all of the words in the vocabulary and if the vector representation for \n",
    "# each word exists within GloVe's representations, save it in the EMBEDDINGS_MATRIX array\n",
    "for word, i in word_index.items():\n",
    "    embedding_vector = W2V_EMBEDDINGS.get(word)\n",
    "    if embedding_vector is not None:\n",
    "        EMBEDDINGS_MATRIX[i] = embedding_vector"
   ]
  },
  {
   "cell_type": "code",
   "execution_count": 86,
   "id": "2bac27dd",
   "metadata": {},
   "outputs": [
    {
     "ename": "NameError",
     "evalue": "name 'max_length' is not defined",
     "output_type": "error",
     "traceback": [
      "\u001b[1;31m---------------------------------------------------------------------------\u001b[0m",
      "\u001b[1;31mNameError\u001b[0m                                 Traceback (most recent call last)",
      "\u001b[1;32m~\\AppData\\Local\\Temp\\ipykernel_63220\\3017844303.py\u001b[0m in \u001b[0;36m<module>\u001b[1;34m\u001b[0m\n\u001b[0;32m      1\u001b[0m model = tf.keras.Sequential([\n\u001b[1;32m----> 2\u001b[1;33m     \u001b[0mtf\u001b[0m\u001b[1;33m.\u001b[0m\u001b[0mkeras\u001b[0m\u001b[1;33m.\u001b[0m\u001b[0mlayers\u001b[0m\u001b[1;33m.\u001b[0m\u001b[0mEmbedding\u001b[0m\u001b[1;33m(\u001b[0m\u001b[0minput_dim\u001b[0m\u001b[1;33m=\u001b[0m\u001b[1;36m24071\u001b[0m\u001b[1;33m,\u001b[0m \u001b[0moutput_dim\u001b[0m\u001b[1;33m=\u001b[0m\u001b[1;36m200\u001b[0m\u001b[1;33m,\u001b[0m \u001b[0minput_length\u001b[0m\u001b[1;33m=\u001b[0m\u001b[0mmax_length\u001b[0m\u001b[1;33m,\u001b[0m \u001b[0mweights\u001b[0m\u001b[1;33m=\u001b[0m\u001b[1;33m[\u001b[0m\u001b[0mEMBEDDINGS_MATRIX\u001b[0m\u001b[1;33m]\u001b[0m\u001b[1;33m,\u001b[0m \u001b[0mtrainable\u001b[0m\u001b[1;33m=\u001b[0m\u001b[1;32mFalse\u001b[0m\u001b[1;33m)\u001b[0m\u001b[1;33m,\u001b[0m\u001b[1;33m\u001b[0m\u001b[1;33m\u001b[0m\u001b[0m\n\u001b[0m\u001b[0;32m      3\u001b[0m     \u001b[0mtf\u001b[0m\u001b[1;33m.\u001b[0m\u001b[0mkeras\u001b[0m\u001b[1;33m.\u001b[0m\u001b[0mlayers\u001b[0m\u001b[1;33m.\u001b[0m\u001b[0mGlobalAveragePooling1D\u001b[0m\u001b[1;33m(\u001b[0m\u001b[1;33m)\u001b[0m\u001b[1;33m,\u001b[0m\u001b[1;33m\u001b[0m\u001b[1;33m\u001b[0m\u001b[0m\n\u001b[0;32m      4\u001b[0m     \u001b[0mtf\u001b[0m\u001b[1;33m.\u001b[0m\u001b[0mkeras\u001b[0m\u001b[1;33m.\u001b[0m\u001b[0mlayers\u001b[0m\u001b[1;33m.\u001b[0m\u001b[0mDense\u001b[0m\u001b[1;33m(\u001b[0m\u001b[0munits\u001b[0m\u001b[1;33m=\u001b[0m\u001b[1;36m24\u001b[0m\u001b[1;33m,\u001b[0m \u001b[0mactivation\u001b[0m\u001b[1;33m=\u001b[0m\u001b[1;34m'relu'\u001b[0m\u001b[1;33m)\u001b[0m\u001b[1;33m,\u001b[0m\u001b[1;33m\u001b[0m\u001b[1;33m\u001b[0m\u001b[0m\n\u001b[0;32m      5\u001b[0m     \u001b[0mtf\u001b[0m\u001b[1;33m.\u001b[0m\u001b[0mkeras\u001b[0m\u001b[1;33m.\u001b[0m\u001b[0mlayers\u001b[0m\u001b[1;33m.\u001b[0m\u001b[0mDense\u001b[0m\u001b[1;33m(\u001b[0m\u001b[0munits\u001b[0m\u001b[1;33m=\u001b[0m\u001b[1;36m4\u001b[0m\u001b[1;33m,\u001b[0m \u001b[0mactivation\u001b[0m\u001b[1;33m=\u001b[0m\u001b[1;34m'softmax'\u001b[0m\u001b[1;33m)\u001b[0m\u001b[1;33m\u001b[0m\u001b[1;33m\u001b[0m\u001b[0m\n",
      "\u001b[1;31mNameError\u001b[0m: name 'max_length' is not defined"
     ]
    }
   ],
   "source": [
    "model = tf.keras.Sequential([\n",
    "    tf.keras.layers.Embedding(input_dim=24071, output_dim=200, input_length=max_length, weights=[EMBEDDINGS_MATRIX], trainable=False),\n",
    "    tf.keras.layers.GlobalAveragePooling1D(),\n",
    "    tf.keras.layers.Dense(units=24, activation='relu'),\n",
    "    tf.keras.layers.Dense(units=4, activation='softmax')\n",
    "])"
   ]
  },
  {
   "cell_type": "code",
   "execution_count": 87,
   "id": "12f29f83",
   "metadata": {},
   "outputs": [],
   "source": [
    "# grader-required-cell\n",
    "\n",
    "# GRADED FUNCTION: create_model\n",
    "def create_model(vocab_size, embedding_dim, maxlen, embeddings_matrix):\n",
    "    \"\"\"\n",
    "    Creates a binary sentiment classifier model\n",
    "    \n",
    "    Args:\n",
    "        vocab_size (int): size of the vocabulary for the Embedding layer input\n",
    "        embedding_dim (int): dimensionality of the Embedding layer output\n",
    "        maxlen (int): length of the input sequences\n",
    "        embeddings_matrix (array): predefined weights of the embeddings\n",
    "    \n",
    "    Returns:\n",
    "        model (tf.keras Model): the sentiment classifier model\n",
    "    \"\"\"\n",
    "    ### START CODE HERE\n",
    "    \n",
    "    model = tf.keras.Sequential([\n",
    "        tf.keras.layers.Embedding(vocab_size+1, embedding_dim, input_length=maxlen, weights=[embeddings_matrix], trainable=False),\n",
    "        tf.keras.layers.Dropout(0.2),  # Add dropout layer\n",
    "        tf.keras.layers.GlobalAveragePooling1D(),\n",
    "        tf.keras.layers.Dense(16, activation='relu'),  # Reduced number of units\n",
    "        tf.keras.layers.Dropout(0.2),  # Add dropout layer\n",
    "        tf.keras.layers.Dense(4, activation='softmax')\n",
    "    ])\n",
    "\n",
    "    learning_rate = 0.001\n",
    "\n",
    "    # Compile the model with Adam optimizer and specified learning rate\n",
    "\n",
    "    model.compile(loss=tf.keras.losses.SparseCategoricalCrossentropy(from_logits=True), optimizer=tf.keras.optimizers.Adam(learning_rate), metrics=['accuracy'])\n",
    "\n",
    "\n",
    "    ### END CODE HERE\n",
    "\n",
    "    return model"
   ]
  },
  {
   "cell_type": "code",
   "execution_count": 115,
   "id": "ea268ea0",
   "metadata": {
    "scrolled": false
   },
   "outputs": [
    {
     "name": "stdout",
     "output_type": "stream",
     "text": [
      "Epoch 1/100\n",
      "593/593 [==============================] - 5s 8ms/step - loss: 1.3193 - accuracy: 0.3902 - val_loss: 1.2704 - val_accuracy: 0.4461\n",
      "Epoch 2/100\n",
      "593/593 [==============================] - 5s 8ms/step - loss: 1.2483 - accuracy: 0.4953 - val_loss: 1.2201 - val_accuracy: 0.5358\n",
      "Epoch 3/100\n",
      "593/593 [==============================] - 5s 8ms/step - loss: 1.2160 - accuracy: 0.5320 - val_loss: 1.1904 - val_accuracy: 0.5714\n",
      "Epoch 4/100\n",
      "593/593 [==============================] - 5s 8ms/step - loss: 1.1939 - accuracy: 0.5582 - val_loss: 1.1720 - val_accuracy: 0.5956\n",
      "Epoch 5/100\n",
      "593/593 [==============================] - 5s 8ms/step - loss: 1.1827 - accuracy: 0.5646 - val_loss: 1.1595 - val_accuracy: 0.6056\n",
      "Epoch 6/100\n",
      "593/593 [==============================] - 5s 9ms/step - loss: 1.1733 - accuracy: 0.5736 - val_loss: 1.1507 - val_accuracy: 0.6103\n",
      "Epoch 7/100\n",
      "593/593 [==============================] - 5s 8ms/step - loss: 1.1665 - accuracy: 0.5799 - val_loss: 1.1450 - val_accuracy: 0.6108\n",
      "Epoch 8/100\n",
      "593/593 [==============================] - 5s 8ms/step - loss: 1.1632 - accuracy: 0.5818 - val_loss: 1.1412 - val_accuracy: 0.6122\n",
      "Epoch 9/100\n",
      "593/593 [==============================] - 5s 9ms/step - loss: 1.1584 - accuracy: 0.5861 - val_loss: 1.1349 - val_accuracy: 0.6156\n",
      "Epoch 10/100\n",
      "593/593 [==============================] - 5s 9ms/step - loss: 1.1549 - accuracy: 0.5843 - val_loss: 1.1319 - val_accuracy: 0.6165\n",
      "Epoch 11/100\n",
      "593/593 [==============================] - 4s 8ms/step - loss: 1.1523 - accuracy: 0.5888 - val_loss: 1.1286 - val_accuracy: 0.6189\n",
      "Epoch 12/100\n",
      "593/593 [==============================] - 5s 9ms/step - loss: 1.1492 - accuracy: 0.5913 - val_loss: 1.1268 - val_accuracy: 0.6141\n",
      "Epoch 13/100\n",
      "593/593 [==============================] - 5s 9ms/step - loss: 1.1475 - accuracy: 0.5923 - val_loss: 1.1250 - val_accuracy: 0.6179\n",
      "Epoch 14/100\n",
      "593/593 [==============================] - 5s 8ms/step - loss: 1.1446 - accuracy: 0.5940 - val_loss: 1.1234 - val_accuracy: 0.6175\n",
      "Epoch 15/100\n",
      "593/593 [==============================] - 5s 9ms/step - loss: 1.1422 - accuracy: 0.6003 - val_loss: 1.1206 - val_accuracy: 0.6227\n",
      "Epoch 16/100\n",
      "593/593 [==============================] - 5s 9ms/step - loss: 1.1412 - accuracy: 0.5980 - val_loss: 1.1205 - val_accuracy: 0.6232\n",
      "Epoch 17/100\n",
      "593/593 [==============================] - 5s 8ms/step - loss: 1.1404 - accuracy: 0.5978 - val_loss: 1.1171 - val_accuracy: 0.6241\n",
      "Epoch 18/100\n",
      "593/593 [==============================] - 5s 8ms/step - loss: 1.1388 - accuracy: 0.6016 - val_loss: 1.1163 - val_accuracy: 0.6260\n",
      "Epoch 19/100\n",
      "593/593 [==============================] - 5s 9ms/step - loss: 1.1374 - accuracy: 0.6014 - val_loss: 1.1158 - val_accuracy: 0.6265\n",
      "Epoch 20/100\n",
      "593/593 [==============================] - 5s 8ms/step - loss: 1.1375 - accuracy: 0.6011 - val_loss: 1.1138 - val_accuracy: 0.6293\n",
      "Epoch 21/100\n",
      "593/593 [==============================] - 5s 8ms/step - loss: 1.1343 - accuracy: 0.6044 - val_loss: 1.1120 - val_accuracy: 0.6303\n",
      "Epoch 22/100\n",
      "593/593 [==============================] - 5s 8ms/step - loss: 1.1331 - accuracy: 0.6061 - val_loss: 1.1123 - val_accuracy: 0.6317\n",
      "Epoch 23/100\n",
      "593/593 [==============================] - 5s 8ms/step - loss: 1.1316 - accuracy: 0.6073 - val_loss: 1.1106 - val_accuracy: 0.6322\n",
      "Epoch 24/100\n",
      "593/593 [==============================] - 4s 7ms/step - loss: 1.1346 - accuracy: 0.6027 - val_loss: 1.1088 - val_accuracy: 0.6322\n",
      "Epoch 25/100\n",
      "593/593 [==============================] - 5s 8ms/step - loss: 1.1302 - accuracy: 0.6117 - val_loss: 1.1097 - val_accuracy: 0.6312\n",
      "Epoch 26/100\n",
      "593/593 [==============================] - 5s 8ms/step - loss: 1.1298 - accuracy: 0.6101 - val_loss: 1.1075 - val_accuracy: 0.6341\n",
      "Epoch 27/100\n",
      "593/593 [==============================] - 5s 8ms/step - loss: 1.1273 - accuracy: 0.6113 - val_loss: 1.1070 - val_accuracy: 0.6379\n",
      "Epoch 28/100\n",
      "593/593 [==============================] - 4s 7ms/step - loss: 1.1298 - accuracy: 0.6083 - val_loss: 1.1064 - val_accuracy: 0.6312\n",
      "Epoch 29/100\n",
      "593/593 [==============================] - 5s 8ms/step - loss: 1.1277 - accuracy: 0.6111 - val_loss: 1.1063 - val_accuracy: 0.6374\n",
      "Epoch 30/100\n",
      "593/593 [==============================] - 5s 8ms/step - loss: 1.1280 - accuracy: 0.6100 - val_loss: 1.1053 - val_accuracy: 0.6383\n",
      "Epoch 31/100\n",
      "593/593 [==============================] - 5s 8ms/step - loss: 1.1254 - accuracy: 0.6121 - val_loss: 1.1041 - val_accuracy: 0.6402\n",
      "Epoch 32/100\n",
      "593/593 [==============================] - 5s 8ms/step - loss: 1.1280 - accuracy: 0.6096 - val_loss: 1.1035 - val_accuracy: 0.6393\n",
      "Epoch 33/100\n",
      "593/593 [==============================] - 5s 8ms/step - loss: 1.1256 - accuracy: 0.6126 - val_loss: 1.1021 - val_accuracy: 0.6388\n",
      "Epoch 34/100\n",
      "593/593 [==============================] - 5s 8ms/step - loss: 1.1250 - accuracy: 0.6099 - val_loss: 1.1026 - val_accuracy: 0.6388\n",
      "Epoch 35/100\n",
      "593/593 [==============================] - 5s 9ms/step - loss: 1.1236 - accuracy: 0.6132 - val_loss: 1.1010 - val_accuracy: 0.6417\n",
      "Epoch 36/100\n",
      "593/593 [==============================] - 5s 9ms/step - loss: 1.1251 - accuracy: 0.6112 - val_loss: 1.1012 - val_accuracy: 0.6450\n",
      "Epoch 37/100\n",
      "593/593 [==============================] - 5s 8ms/step - loss: 1.1240 - accuracy: 0.6135 - val_loss: 1.1003 - val_accuracy: 0.6455\n",
      "Epoch 38/100\n",
      "593/593 [==============================] - 5s 8ms/step - loss: 1.1220 - accuracy: 0.6161 - val_loss: 1.1006 - val_accuracy: 0.6388\n",
      "Epoch 39/100\n",
      "593/593 [==============================] - 5s 9ms/step - loss: 1.1239 - accuracy: 0.6139 - val_loss: 1.1016 - val_accuracy: 0.6355\n",
      "Epoch 40/100\n",
      "593/593 [==============================] - 5s 8ms/step - loss: 1.1256 - accuracy: 0.6120 - val_loss: 1.1031 - val_accuracy: 0.6369\n",
      "Epoch 41/100\n",
      "593/593 [==============================] - 5s 8ms/step - loss: 1.1223 - accuracy: 0.6149 - val_loss: 1.1004 - val_accuracy: 0.6398\n",
      "Epoch 42/100\n",
      "593/593 [==============================] - 5s 9ms/step - loss: 1.1208 - accuracy: 0.6171 - val_loss: 1.0987 - val_accuracy: 0.6407\n",
      "Epoch 43/100\n",
      "593/593 [==============================] - 5s 9ms/step - loss: 1.1221 - accuracy: 0.6127 - val_loss: 1.0993 - val_accuracy: 0.6412\n",
      "Epoch 44/100\n",
      "593/593 [==============================] - 4s 7ms/step - loss: 1.1197 - accuracy: 0.6201 - val_loss: 1.0974 - val_accuracy: 0.6383\n",
      "Epoch 45/100\n",
      "593/593 [==============================] - 5s 8ms/step - loss: 1.1196 - accuracy: 0.6163 - val_loss: 1.0986 - val_accuracy: 0.6417\n",
      "Epoch 46/100\n",
      "593/593 [==============================] - 5s 9ms/step - loss: 1.1205 - accuracy: 0.6172 - val_loss: 1.0983 - val_accuracy: 0.6445\n",
      "Epoch 47/100\n",
      "593/593 [==============================] - 5s 8ms/step - loss: 1.1214 - accuracy: 0.6148 - val_loss: 1.0988 - val_accuracy: 0.6407\n",
      "Epoch 48/100\n",
      "593/593 [==============================] - 5s 9ms/step - loss: 1.1184 - accuracy: 0.6174 - val_loss: 1.0966 - val_accuracy: 0.6426\n",
      "Epoch 49/100\n",
      "593/593 [==============================] - 5s 9ms/step - loss: 1.1192 - accuracy: 0.6179 - val_loss: 1.0966 - val_accuracy: 0.6436\n",
      "Epoch 50/100\n",
      "593/593 [==============================] - 4s 7ms/step - loss: 1.1187 - accuracy: 0.6182 - val_loss: 1.0968 - val_accuracy: 0.6388\n",
      "Epoch 51/100\n",
      "593/593 [==============================] - 5s 8ms/step - loss: 1.1184 - accuracy: 0.6191 - val_loss: 1.0975 - val_accuracy: 0.6383\n",
      "Epoch 52/100\n",
      "593/593 [==============================] - 5s 9ms/step - loss: 1.1189 - accuracy: 0.6174 - val_loss: 1.0984 - val_accuracy: 0.6412\n",
      "Epoch 53/100\n",
      "593/593 [==============================] - 5s 8ms/step - loss: 1.1203 - accuracy: 0.6143 - val_loss: 1.0960 - val_accuracy: 0.6445\n",
      "Epoch 54/100\n",
      "593/593 [==============================] - 5s 8ms/step - loss: 1.1172 - accuracy: 0.6206 - val_loss: 1.0956 - val_accuracy: 0.6417\n",
      "Epoch 55/100\n",
      "593/593 [==============================] - 5s 9ms/step - loss: 1.1173 - accuracy: 0.6198 - val_loss: 1.0945 - val_accuracy: 0.6450\n",
      "Epoch 56/100\n",
      "593/593 [==============================] - 5s 9ms/step - loss: 1.1163 - accuracy: 0.6220 - val_loss: 1.0956 - val_accuracy: 0.6431\n",
      "Epoch 57/100\n",
      "593/593 [==============================] - 4s 8ms/step - loss: 1.1136 - accuracy: 0.6241 - val_loss: 1.0957 - val_accuracy: 0.6431\n"
     ]
    },
    {
     "name": "stdout",
     "output_type": "stream",
     "text": [
      "Epoch 58/100\n",
      "593/593 [==============================] - 5s 9ms/step - loss: 1.1169 - accuracy: 0.6182 - val_loss: 1.0951 - val_accuracy: 0.6440\n",
      "Epoch 59/100\n",
      "593/593 [==============================] - 5s 8ms/step - loss: 1.1179 - accuracy: 0.6181 - val_loss: 1.0954 - val_accuracy: 0.6440\n",
      "Epoch 60/100\n",
      "593/593 [==============================] - 4s 7ms/step - loss: 1.1208 - accuracy: 0.6150 - val_loss: 1.0945 - val_accuracy: 0.6488\n",
      "Epoch 61/100\n",
      "593/593 [==============================] - 5s 9ms/step - loss: 1.1119 - accuracy: 0.6246 - val_loss: 1.0943 - val_accuracy: 0.6426\n",
      "Epoch 62/100\n",
      "593/593 [==============================] - 5s 9ms/step - loss: 1.1144 - accuracy: 0.6216 - val_loss: 1.0952 - val_accuracy: 0.6478\n",
      "Epoch 63/100\n",
      "593/593 [==============================] - 5s 8ms/step - loss: 1.1157 - accuracy: 0.6218 - val_loss: 1.0929 - val_accuracy: 0.6488\n",
      "Epoch 64/100\n",
      "593/593 [==============================] - 5s 8ms/step - loss: 1.1182 - accuracy: 0.6173 - val_loss: 1.0944 - val_accuracy: 0.6464\n",
      "Epoch 65/100\n",
      "593/593 [==============================] - 5s 8ms/step - loss: 1.1158 - accuracy: 0.6208 - val_loss: 1.0956 - val_accuracy: 0.6478\n",
      "Epoch 66/100\n",
      "593/593 [==============================] - 4s 7ms/step - loss: 1.1138 - accuracy: 0.6226 - val_loss: 1.0964 - val_accuracy: 0.6426\n",
      "Epoch 67/100\n",
      "593/593 [==============================] - 4s 7ms/step - loss: 1.1131 - accuracy: 0.6246 - val_loss: 1.0936 - val_accuracy: 0.6469\n",
      "Epoch 68/100\n",
      "593/593 [==============================] - 5s 9ms/step - loss: 1.1171 - accuracy: 0.6193 - val_loss: 1.0962 - val_accuracy: 0.6417\n",
      "Epoch 69/100\n",
      "593/593 [==============================] - 5s 9ms/step - loss: 1.1154 - accuracy: 0.6212 - val_loss: 1.0938 - val_accuracy: 0.6474\n",
      "Epoch 70/100\n",
      "593/593 [==============================] - 4s 8ms/step - loss: 1.1109 - accuracy: 0.6277 - val_loss: 1.0932 - val_accuracy: 0.6450\n",
      "Epoch 71/100\n",
      "593/593 [==============================] - 5s 9ms/step - loss: 1.1129 - accuracy: 0.6235 - val_loss: 1.0961 - val_accuracy: 0.6417\n",
      "Epoch 72/100\n",
      "593/593 [==============================] - 5s 9ms/step - loss: 1.1188 - accuracy: 0.6160 - val_loss: 1.0947 - val_accuracy: 0.6440\n",
      "Epoch 73/100\n",
      "593/593 [==============================] - 5s 8ms/step - loss: 1.1125 - accuracy: 0.6236 - val_loss: 1.0947 - val_accuracy: 0.6450\n",
      "Epoch 74/100\n",
      "593/593 [==============================] - 5s 8ms/step - loss: 1.1134 - accuracy: 0.6197 - val_loss: 1.0948 - val_accuracy: 0.6459\n",
      "Epoch 75/100\n",
      "593/593 [==============================] - 5s 9ms/step - loss: 1.1137 - accuracy: 0.6225 - val_loss: 1.0936 - val_accuracy: 0.6478\n",
      "Epoch 76/100\n",
      "593/593 [==============================] - 5s 8ms/step - loss: 1.1146 - accuracy: 0.6202 - val_loss: 1.0951 - val_accuracy: 0.6412\n",
      "Epoch 77/100\n",
      "593/593 [==============================] - 5s 8ms/step - loss: 1.1150 - accuracy: 0.6205 - val_loss: 1.0932 - val_accuracy: 0.6464\n",
      "Epoch 78/100\n",
      "593/593 [==============================] - 5s 9ms/step - loss: 1.1126 - accuracy: 0.6218 - val_loss: 1.0942 - val_accuracy: 0.6459\n",
      "Epoch 79/100\n",
      "593/593 [==============================] - 5s 9ms/step - loss: 1.1108 - accuracy: 0.6272 - val_loss: 1.0946 - val_accuracy: 0.6412\n",
      "Epoch 80/100\n",
      "593/593 [==============================] - 4s 7ms/step - loss: 1.1128 - accuracy: 0.6212 - val_loss: 1.0933 - val_accuracy: 0.6464\n",
      "Epoch 81/100\n",
      "593/593 [==============================] - 5s 9ms/step - loss: 1.1131 - accuracy: 0.6215 - val_loss: 1.0929 - val_accuracy: 0.6455\n",
      "Epoch 82/100\n",
      "593/593 [==============================] - 5s 9ms/step - loss: 1.1133 - accuracy: 0.6241 - val_loss: 1.0929 - val_accuracy: 0.6450\n",
      "Epoch 83/100\n",
      "593/593 [==============================] - 4s 7ms/step - loss: 1.1128 - accuracy: 0.6233 - val_loss: 1.0941 - val_accuracy: 0.6455\n",
      "Epoch 84/100\n",
      "593/593 [==============================] - 5s 9ms/step - loss: 1.1074 - accuracy: 0.6302 - val_loss: 1.0911 - val_accuracy: 0.6507\n",
      "Epoch 85/100\n",
      "593/593 [==============================] - 5s 9ms/step - loss: 1.1100 - accuracy: 0.6262 - val_loss: 1.0926 - val_accuracy: 0.6483\n",
      "Epoch 86/100\n",
      "593/593 [==============================] - 5s 8ms/step - loss: 1.1108 - accuracy: 0.6260 - val_loss: 1.0917 - val_accuracy: 0.6521\n",
      "Epoch 87/100\n",
      "593/593 [==============================] - 5s 8ms/step - loss: 1.1124 - accuracy: 0.6224 - val_loss: 1.0928 - val_accuracy: 0.6478\n",
      "Epoch 88/100\n",
      "593/593 [==============================] - 5s 9ms/step - loss: 1.1094 - accuracy: 0.6273 - val_loss: 1.0919 - val_accuracy: 0.6426\n",
      "Epoch 89/100\n",
      "593/593 [==============================] - 5s 8ms/step - loss: 1.1093 - accuracy: 0.6268 - val_loss: 1.0913 - val_accuracy: 0.6431\n",
      "Epoch 90/100\n",
      "593/593 [==============================] - 5s 8ms/step - loss: 1.1095 - accuracy: 0.6268 - val_loss: 1.0920 - val_accuracy: 0.6459\n",
      "Epoch 91/100\n",
      "593/593 [==============================] - 5s 9ms/step - loss: 1.1110 - accuracy: 0.6255 - val_loss: 1.0926 - val_accuracy: 0.6464\n",
      "Epoch 92/100\n",
      "593/593 [==============================] - 5s 9ms/step - loss: 1.1105 - accuracy: 0.6269 - val_loss: 1.0926 - val_accuracy: 0.6412\n",
      "Epoch 93/100\n",
      "593/593 [==============================] - 4s 7ms/step - loss: 1.1089 - accuracy: 0.6269 - val_loss: 1.0934 - val_accuracy: 0.6436\n",
      "Epoch 94/100\n",
      "593/593 [==============================] - 5s 9ms/step - loss: 1.1099 - accuracy: 0.6290 - val_loss: 1.0934 - val_accuracy: 0.6469\n",
      "Epoch 95/100\n",
      "593/593 [==============================] - 5s 8ms/step - loss: 1.1100 - accuracy: 0.6258 - val_loss: 1.0922 - val_accuracy: 0.6474\n",
      "Epoch 96/100\n",
      "593/593 [==============================] - 4s 8ms/step - loss: 1.1087 - accuracy: 0.6269 - val_loss: 1.0918 - val_accuracy: 0.6488\n",
      "Epoch 97/100\n",
      "593/593 [==============================] - 5s 8ms/step - loss: 1.1074 - accuracy: 0.6287 - val_loss: 1.0933 - val_accuracy: 0.6469\n",
      "Epoch 98/100\n",
      "593/593 [==============================] - 5s 9ms/step - loss: 1.1098 - accuracy: 0.6271 - val_loss: 1.0933 - val_accuracy: 0.6431\n",
      "Epoch 99/100\n",
      "593/593 [==============================] - 5s 8ms/step - loss: 1.1095 - accuracy: 0.6267 - val_loss: 1.0936 - val_accuracy: 0.6450\n",
      "Epoch 100/100\n",
      "593/593 [==============================] - 5s 8ms/step - loss: 1.1082 - accuracy: 0.6282 - val_loss: 1.0930 - val_accuracy: 0.6436\n"
     ]
    }
   ],
   "source": [
    "# grader-required-cell\n",
    "\n",
    "# Create your untrained model\n",
    "model = create_model(VOCAB_SIZE, EMBEDDING_DIM, MAXLEN, EMBEDDINGS_MATRIX)\n",
    "\n",
    "# Train the model and save the training history\n",
    "history = model.fit(train_pad_trunc_seq, train_labels, epochs=100, validation_data=(val_pad_trunc_seq, val_labels))"
   ]
  },
  {
   "cell_type": "code",
   "execution_count": 116,
   "id": "a66f4d34",
   "metadata": {},
   "outputs": [
    {
     "data": {
      "image/png": "[encoded data removed]",
      "text/plain": [
       "<Figure size 640x480 with 1 Axes>"
      ]
     },
     "metadata": {},
     "output_type": "display_data"
    },
    {
     "data": {
      "image/png": "[encoded data removed]",
      "text/plain": [
       "<Figure size 640x480 with 1 Axes>"
      ]
     },
     "metadata": {},
     "output_type": "display_data"
    }
   ],
   "source": [
    "import matplotlib.pyplot as plt\n",
    "\n",
    "# Plot utility\n",
    "def plot_graphs(history, string):\n",
    "  plt.plot(history.history[string])\n",
    "  plt.plot(history.history['val_'+string])\n",
    "  plt.xlabel(\"Epochs\")\n",
    "  plt.ylabel(string)\n",
    "  plt.legend([string, 'val_'+string])\n",
    "  plt.show()\n",
    "\n",
    "# Plot the accuracy and loss\n",
    "plot_graphs(history, \"accuracy\")\n",
    "plot_graphs(history, \"loss\")"
   ]
  },
  {
   "cell_type": "code",
   "execution_count": 117,
   "id": "b1fad15c",
   "metadata": {},
   "outputs": [
    {
     "data": {
      "text/plain": [
       "'Brosis, hari ini gue lagi on the way ke kampus bareng pacar, tiba-tiba ada anjing yang ngejar-ngejar gue, bikin deg-degan banget, ya Allah! Trus pas nyampe kampus, parkiran full banget, sampe gue sama pacar muter-muter gak dapet-dapet tempat parkir. Akhirnya, kita berdua telat masuk kelas deh! Pas udah masuk, dosen langsung nyerocos ngomel-ngomel gara-gara telat. Capek banget hari ini, apalagi sama pacar.'"
      ]
     },
     "execution_count": 117,
     "metadata": {},
     "output_type": "execute_result"
    }
   ],
   "source": [
    "text = ''\"Brosis, hari ini gue lagi on the way ke kampus bareng pacar, tiba-tiba ada anjing yang ngejar-ngejar gue, bikin deg-degan banget, ya Allah! Trus pas nyampe kampus, parkiran full banget, sampe gue sama pacar muter-muter gak dapet-dapet tempat parkir. Akhirnya, kita berdua telat masuk kelas deh! Pas udah masuk, dosen langsung nyerocos ngomel-ngomel gara-gara telat. Capek banget hari ini, apalagi sama pacar.\"\n",
    "text"
   ]
  },
  {
   "cell_type": "code",
   "execution_count": 118,
   "id": "31e25c2d",
   "metadata": {},
   "outputs": [],
   "source": [
    "#data test preprocessing\n",
    "\n",
    "def prep_test(review):\n",
    "    review = lowercase(review)\n",
    "    review = remove_url(review)\n",
    "    review = remove_irrelevant(review)\n",
    "    review = remove_space(review)\n",
    "    review = remove_emoji(review)\n",
    "    review = repeat_char(review)\n",
    "    review = remove_stopwords(review)\n",
    "    text = [review]\n",
    "    inference_sequences = tokenizer.texts_to_sequences(text)\n",
    "    inference_padded = pad_sequences(inference_sequences, padding=PADDING, maxlen=MAXLEN)\n",
    "    return inference_padded"
   ]
  },
  {
   "cell_type": "code",
   "execution_count": 119,
   "id": "f33921a5",
   "metadata": {},
   "outputs": [
    {
     "data": {
      "text/plain": [
       "array([[   1,    8,  858,  223, 2994, 1169,  553,  347,  360, 4011, 4011,\n",
       "           8,   42,  773, 1734,   16,    6,   77,  204,   46, 1507, 1169,\n",
       "        3636, 2675,   16,   64,    8,  347, 1824, 1824,   21,  406,  406,\n",
       "        1592,  714, 1231,   80,  140,  153,   46,   18,   80, 1902,  114,\n",
       "           1, 3666, 3666,  388,  388, 1231, 1115,   16,  347,    0,    0,\n",
       "           0,    0,    0,    0,    0,    0,    0,    0,    0,    0,    0,\n",
       "           0,    0,    0,    0,    0,    0,    0,    0,    0,    0,    0,\n",
       "           0,    0,    0,    0,    0,    0,    0,    0,    0,    0,    0,\n",
       "           0,    0,    0,    0,    0,    0,    0,    0,    0,    0,    0,\n",
       "           0]])"
      ]
     },
     "execution_count": 119,
     "metadata": {},
     "output_type": "execute_result"
    }
   ],
   "source": [
    "test_padded = prep_test(text)\n",
    "test_padded"
   ]
  },
  {
   "cell_type": "code",
   "execution_count": 120,
   "id": "f9387009",
   "metadata": {},
   "outputs": [],
   "source": [
    "def prediction(test):\n",
    "    label = [\"anger\", \"fear\", \"joy\", \"sadness\"]\n",
    "    result = model.predict(test)\n",
    "    index = np.argmax(result)\n",
    "    hasil = label[index]\n",
    "    return hasil"
   ]
  },
  {
   "cell_type": "code",
   "execution_count": 121,
   "id": "40d6ae31",
   "metadata": {},
   "outputs": [
    {
     "data": {
      "text/plain": [
       "'anger'"
      ]
     },
     "execution_count": 121,
     "metadata": {},
     "output_type": "execute_result"
    }
   ],
   "source": [
    "prediction(test_padded)"
   ]
  },
  {
   "cell_type": "code",
   "execution_count": 122,
   "id": "3ceb9670",
   "metadata": {},
   "outputs": [
    {
     "data": {
      "text/plain": [
       "array([[0.60030115, 0.09688536, 0.29743972, 0.00537383]], dtype=float32)"
      ]
     },
     "execution_count": 122,
     "metadata": {},
     "output_type": "execute_result"
    }
   ],
   "source": [
    "model.predict(test_padded)"
   ]
  },
  {
   "cell_type": "code",
   "execution_count": 123,
   "id": "2d7995df",
   "metadata": {},
   "outputs": [
    {
     "ename": "NameError",
     "evalue": "name 'valdata' is not defined",
     "output_type": "error",
     "traceback": [
      "\u001b[1;31m---------------------------------------------------------------------------\u001b[0m",
      "\u001b[1;31mNameError\u001b[0m                                 Traceback (most recent call last)",
      "\u001b[1;32m~\\AppData\\Local\\Temp\\ipykernel_63220\\1748733118.py\u001b[0m in \u001b[0;36m<module>\u001b[1;34m\u001b[0m\n\u001b[1;32m----> 1\u001b[1;33m \u001b[0mvalidation_sequences\u001b[0m \u001b[1;33m=\u001b[0m \u001b[0mtokenizer\u001b[0m\u001b[1;33m.\u001b[0m\u001b[0mtexts_to_sequences\u001b[0m\u001b[1;33m(\u001b[0m\u001b[0mvaldata\u001b[0m\u001b[1;33m[\u001b[0m\u001b[1;34m'filtering'\u001b[0m\u001b[1;33m]\u001b[0m\u001b[1;33m)\u001b[0m\u001b[1;33m\u001b[0m\u001b[1;33m\u001b[0m\u001b[0m\n\u001b[0m\u001b[0;32m      2\u001b[0m \u001b[0mvalidation_padded\u001b[0m \u001b[1;33m=\u001b[0m \u001b[0mpad_sequences\u001b[0m\u001b[1;33m(\u001b[0m\u001b[0mvalidation_sequences\u001b[0m\u001b[1;33m,\u001b[0m \u001b[0mmaxlen\u001b[0m\u001b[1;33m=\u001b[0m\u001b[0mmax_length\u001b[0m\u001b[1;33m,\u001b[0m \u001b[0mpadding\u001b[0m\u001b[1;33m=\u001b[0m\u001b[0mpadding_type\u001b[0m\u001b[1;33m,\u001b[0m \u001b[0mtruncating\u001b[0m\u001b[1;33m=\u001b[0m\u001b[0mtrunc_type\u001b[0m\u001b[1;33m)\u001b[0m\u001b[1;33m\u001b[0m\u001b[1;33m\u001b[0m\u001b[0m\n",
      "\u001b[1;31mNameError\u001b[0m: name 'valdata' is not defined"
     ]
    }
   ],
   "source": [
    "validation_sequences = tokenizer.texts_to_sequences(valdata['filtering'])\n",
    "validation_padded = pad_sequences(validation_sequences, maxlen=max_length, padding=padding_type, truncating=trunc_type)"
   ]
  },
  {
   "cell_type": "code",
   "execution_count": 124,
   "id": "c40f9cfc",
   "metadata": {},
   "outputs": [],
   "source": [
    "result = model.predict(val_pad_trunc_seq)"
   ]
  },
  {
   "cell_type": "code",
   "execution_count": 125,
   "id": "dd48b1f4",
   "metadata": {},
   "outputs": [
    {
     "data": {
      "text/plain": [
       "array([[9.26537693e-01, 7.27185607e-02, 8.62528668e-06, 7.35203328e-04],\n",
       "       [3.46267503e-03, 1.81858707e-06, 9.96113181e-01, 4.22219717e-04],\n",
       "       [1.04636624e-01, 4.11395740e-04, 6.10582352e-01, 2.84369677e-01],\n",
       "       ...,\n",
       "       [6.91930545e-05, 1.10287256e-05, 9.98487949e-01, 1.43177912e-03],\n",
       "       [1.57163490e-03, 7.68191123e-04, 8.53588060e-03, 9.89124298e-01],\n",
       "       [1.17442153e-06, 4.57028027e-10, 9.99998808e-01, 1.70044090e-09]],\n",
       "      dtype=float32)"
      ]
     },
     "execution_count": 125,
     "metadata": {},
     "output_type": "execute_result"
    }
   ],
   "source": [
    "result"
   ]
  },
  {
   "cell_type": "code",
   "execution_count": 126,
   "id": "be2ab73b",
   "metadata": {},
   "outputs": [
    {
     "data": {
      "text/plain": [
       "array([0, 2, 2, ..., 2, 3, 2], dtype=int64)"
      ]
     },
     "execution_count": 126,
     "metadata": {},
     "output_type": "execute_result"
    }
   ],
   "source": [
    "# Get the index of the maximum probability for each row\n",
    "predicted_labels = np.argmax(result, axis=1)\n",
    "predicted_labels"
   ]
  },
  {
   "cell_type": "code",
   "execution_count": 128,
   "id": "9fd8db20",
   "metadata": {},
   "outputs": [
    {
     "data": {
      "text/plain": [
       "2107"
      ]
     },
     "execution_count": 128,
     "metadata": {},
     "output_type": "execute_result"
    }
   ],
   "source": [
    "len(predicted_labels)"
   ]
  },
  {
   "cell_type": "code",
   "execution_count": 127,
   "id": "beca5ce7",
   "metadata": {},
   "outputs": [
    {
     "data": {
      "image/png": "[encoded data removed]",
      "text/plain": [
       "<Figure size 640x480 with 2 Axes>"
      ]
     },
     "metadata": {},
     "output_type": "display_data"
    }
   ],
   "source": [
    "from sklearn.metrics import confusion_matrix\n",
    "import matplotlib.pyplot as plt\n",
    "import seaborn as sns\n",
    "\n",
    "# Assuming y_true contains the true labels and y_pred contains the predicted labels\n",
    "# Replace y_true and y_pred with your actual data\n",
    "y_true = np.array(val_labels) # True labels\n",
    "y_pred = predicted_labels  # Predicted labels\n",
    "\n",
    "# Create the confusion matrix\n",
    "label = [\"anger\", \"fear\", \"joy\", \"sadness\"]\n",
    "conf_matrix = confusion_matrix(y_true, y_pred)\n",
    "sns.heatmap(conf_matrix, cmap=\"Blues\", annot = True, fmt='d', xticklabels=label, yticklabels=label)\n",
    "plt.xlabel('Predicted labels')\n",
    "plt.ylabel('True labels')\n",
    "plt.title('Confusion Matrix')\n",
    "plt.show()\n"
   ]
  },
  {
   "cell_type": "code",
   "execution_count": 129,
   "id": "4508cbaa",
   "metadata": {},
   "outputs": [
    {
     "name": "stdout",
     "output_type": "stream",
     "text": [
      "Accuracy: 0.6435690555291884\n"
     ]
    }
   ],
   "source": [
    "# Assuming you have true labels stored in 'true_labels' and predicted labels stored in 'predicted_labels'\n",
    "\n",
    "from sklearn.metrics import accuracy_score\n",
    "\n",
    "# Calculate accuracy\n",
    "accuracy = accuracy_score(y_true, y_pred)\n",
    "\n",
    "# Print accuracy\n",
    "print(\"Accuracy:\", accuracy)\n"
   ]
  },
  {
   "cell_type": "code",
   "execution_count": null,
   "id": "15fa73d9",
   "metadata": {},
   "outputs": [],
   "source": []
  }
 ],
 "metadata": {
  "colab": {
   "provenance": []
  },
  "kernelspec": {
   "display_name": "Python 3 (ipykernel)",
   "language": "python",
   "name": "python3"
  },
  "language_info": {
   "codemirror_mode": {
    "name": "ipython",
    "version": 3
   },
   "file_extension": ".py",
   "mimetype": "text/x-python",
   "name": "python",
   "nbconvert_exporter": "python",
   "pygments_lexer": "ipython3",
   "version": "3.7.1"
  }
 },
 "nbformat": 4,
 "nbformat_minor": 5
}
