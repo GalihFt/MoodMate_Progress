{
 "cells": [
  {
   "cell_type": "markdown",
   "id": "daa114ef",
   "metadata": {},
   "source": [
    "## Import Data"
   ]
  },
  {
   "cell_type": "code",
   "execution_count": 1,
   "id": "4b9a1e87",
   "metadata": {
    "id": "4b9a1e87"
   },
   "outputs": [],
   "source": [
    "import pandas as pd\n",
    "import numpy as np\n",
    "import tensorflow as tf\n",
    "import random"
   ]
  },
  {
   "cell_type": "code",
   "execution_count": 2,
   "id": "c63441fd",
   "metadata": {
    "id": "c63441fd",
    "outputId": "79bfdb5d-6d67-40e2-9024-9a021c46f1aa"
   },
   "outputs": [
    {
     "data": {
      "text/html": [
       "<div>\n",
       "<style scoped>\n",
       "    .dataframe tbody tr th:only-of-type {\n",
       "        vertical-align: middle;\n",
       "    }\n",
       "\n",
       "    .dataframe tbody tr th {\n",
       "        vertical-align: top;\n",
       "    }\n",
       "\n",
       "    .dataframe thead th {\n",
       "        text-align: right;\n",
       "    }\n",
       "</style>\n",
       "<table border=\"1\" class=\"dataframe\">\n",
       "  <thead>\n",
       "    <tr style=\"text-align: right;\">\n",
       "      <th></th>\n",
       "      <th>label</th>\n",
       "      <th>tweet</th>\n",
       "    </tr>\n",
       "  </thead>\n",
       "  <tbody>\n",
       "    <tr>\n",
       "      <th>0</th>\n",
       "      <td>love</td>\n",
       "      <td>!rp hai ele. Maaf ya gua ga romantis. Gua cuma...</td>\n",
       "    </tr>\n",
       "    <tr>\n",
       "      <th>1</th>\n",
       "      <td>anger</td>\n",
       "      <td>\"Mka.a jgn ngatain org klu gmau dikatain...jag...</td>\n",
       "    </tr>\n",
       "    <tr>\n",
       "      <th>2</th>\n",
       "      <td>joy</td>\n",
       "      <td># CONGRATULATIONS # Mengucapkan selamat untuk ...</td>\n",
       "    </tr>\n",
       "    <tr>\n",
       "      <th>3</th>\n",
       "      <td>joy</td>\n",
       "      <td>#Allhamdulilah Bertambah usia lagi jagoan keci...</td>\n",
       "    </tr>\n",
       "    <tr>\n",
       "      <th>4</th>\n",
       "      <td>sadness</td>\n",
       "      <td>#Bali, tunggu koko lagi ya. Koko bakal balik l...</td>\n",
       "    </tr>\n",
       "  </tbody>\n",
       "</table>\n",
       "</div>"
      ],
      "text/plain": [
       "     label                                              tweet\n",
       "0     love  !rp hai ele. Maaf ya gua ga romantis. Gua cuma...\n",
       "1    anger  \"Mka.a jgn ngatain org klu gmau dikatain...jag...\n",
       "2      joy  # CONGRATULATIONS # Mengucapkan selamat untuk ...\n",
       "3      joy  #Allhamdulilah Bertambah usia lagi jagoan keci...\n",
       "4  sadness  #Bali, tunggu koko lagi ya. Koko bakal balik l..."
      ]
     },
     "execution_count": 2,
     "metadata": {},
     "output_type": "execute_result"
    }
   ],
   "source": [
    "train = pd.read_csv('data_fix_banget.csv')\n",
    "train.head()"
   ]
  },
  {
   "cell_type": "code",
   "execution_count": 3,
   "id": "a3356143",
   "metadata": {},
   "outputs": [
    {
     "name": "stdout",
     "output_type": "stream",
     "text": [
      "         label                                              tweet\n",
      "0         fear  [USERNAME] aku dikasih tau katanya kalbis nant...\n",
      "1      sadness  Saya merasa tidak berguna dan tidak berdaya da...\n",
      "2          joy  Saya biasa menenggak pizza jamur besar dan ken...\n",
      "3      sadness  Saya pada satu titik menempatkan putra saya di...\n",
      "4      sadness  Sebenernya teknik lumayan, tapi aneh bgt pas d...\n",
      "...        ...                                                ...\n",
      "21128  sadness  Saya mengambil dan pindah ke Republik Ceko sen...\n",
      "21129  sadness  Ada anak sma habis perpisahan atau semacam wis...\n",
      "21130    anger  sampe gapaham apa salah aespa ke bts sampe fan...\n",
      "21131     fear  Ketika kamu merasa seperti kamu harus melawan ...\n",
      "21132      joy  Saya punya perasaan itu akan menjadi hubungan ...\n",
      "\n",
      "[21133 rows x 2 columns]\n"
     ]
    }
   ],
   "source": [
    "# Shuffle the rows\n",
    "train = train.sample(frac=1).reset_index(drop=True)\n",
    "\n",
    "print(train)"
   ]
  },
  {
   "cell_type": "code",
   "execution_count": 4,
   "id": "cbf2731d",
   "metadata": {
    "id": "cbf2731d",
    "outputId": "a19501a1-daff-4ab9-cdcb-56d75c80732b"
   },
   "outputs": [
    {
     "data": {
      "text/html": [
       "<div>\n",
       "<style scoped>\n",
       "    .dataframe tbody tr th:only-of-type {\n",
       "        vertical-align: middle;\n",
       "    }\n",
       "\n",
       "    .dataframe tbody tr th {\n",
       "        vertical-align: top;\n",
       "    }\n",
       "\n",
       "    .dataframe thead th {\n",
       "        text-align: right;\n",
       "    }\n",
       "</style>\n",
       "<table border=\"1\" class=\"dataframe\">\n",
       "  <thead>\n",
       "    <tr style=\"text-align: right;\">\n",
       "      <th></th>\n",
       "      <th>label</th>\n",
       "      <th>tweet</th>\n",
       "    </tr>\n",
       "  </thead>\n",
       "  <tbody>\n",
       "    <tr>\n",
       "      <th>0</th>\n",
       "      <td>fear</td>\n",
       "      <td>[USERNAME] aku dikasih tau katanya kalbis nant...</td>\n",
       "    </tr>\n",
       "    <tr>\n",
       "      <th>1</th>\n",
       "      <td>sadness</td>\n",
       "      <td>Saya merasa tidak berguna dan tidak berdaya da...</td>\n",
       "    </tr>\n",
       "    <tr>\n",
       "      <th>2</th>\n",
       "      <td>joy</td>\n",
       "      <td>Saya biasa menenggak pizza jamur besar dan ken...</td>\n",
       "    </tr>\n",
       "    <tr>\n",
       "      <th>3</th>\n",
       "      <td>sadness</td>\n",
       "      <td>Saya pada satu titik menempatkan putra saya di...</td>\n",
       "    </tr>\n",
       "    <tr>\n",
       "      <th>4</th>\n",
       "      <td>sadness</td>\n",
       "      <td>Sebenernya teknik lumayan, tapi aneh bgt pas d...</td>\n",
       "    </tr>\n",
       "    <tr>\n",
       "      <th>...</th>\n",
       "      <td>...</td>\n",
       "      <td>...</td>\n",
       "    </tr>\n",
       "    <tr>\n",
       "      <th>21128</th>\n",
       "      <td>sadness</td>\n",
       "      <td>Saya mengambil dan pindah ke Republik Ceko sen...</td>\n",
       "    </tr>\n",
       "    <tr>\n",
       "      <th>21129</th>\n",
       "      <td>sadness</td>\n",
       "      <td>Ada anak sma habis perpisahan atau semacam wis...</td>\n",
       "    </tr>\n",
       "    <tr>\n",
       "      <th>21130</th>\n",
       "      <td>anger</td>\n",
       "      <td>sampe gapaham apa salah aespa ke bts sampe fan...</td>\n",
       "    </tr>\n",
       "    <tr>\n",
       "      <th>21131</th>\n",
       "      <td>fear</td>\n",
       "      <td>Ketika kamu merasa seperti kamu harus melawan ...</td>\n",
       "    </tr>\n",
       "    <tr>\n",
       "      <th>21132</th>\n",
       "      <td>joy</td>\n",
       "      <td>Saya punya perasaan itu akan menjadi hubungan ...</td>\n",
       "    </tr>\n",
       "  </tbody>\n",
       "</table>\n",
       "<p>21133 rows × 2 columns</p>\n",
       "</div>"
      ],
      "text/plain": [
       "         label                                              tweet\n",
       "0         fear  [USERNAME] aku dikasih tau katanya kalbis nant...\n",
       "1      sadness  Saya merasa tidak berguna dan tidak berdaya da...\n",
       "2          joy  Saya biasa menenggak pizza jamur besar dan ken...\n",
       "3      sadness  Saya pada satu titik menempatkan putra saya di...\n",
       "4      sadness  Sebenernya teknik lumayan, tapi aneh bgt pas d...\n",
       "...        ...                                                ...\n",
       "21128  sadness  Saya mengambil dan pindah ke Republik Ceko sen...\n",
       "21129  sadness  Ada anak sma habis perpisahan atau semacam wis...\n",
       "21130    anger  sampe gapaham apa salah aespa ke bts sampe fan...\n",
       "21131     fear  Ketika kamu merasa seperti kamu harus melawan ...\n",
       "21132      joy  Saya punya perasaan itu akan menjadi hubungan ...\n",
       "\n",
       "[21133 rows x 2 columns]"
      ]
     },
     "execution_count": 4,
     "metadata": {},
     "output_type": "execute_result"
    }
   ],
   "source": [
    "train = train[[\"label\", \"tweet\"]]\n",
    "train"
   ]
  },
  {
   "cell_type": "code",
   "execution_count": 5,
   "id": "d973a051",
   "metadata": {},
   "outputs": [
    {
     "name": "stdout",
     "output_type": "stream",
     "text": [
      "<class 'pandas.core.frame.DataFrame'>\n",
      "RangeIndex: 21133 entries, 0 to 21132\n",
      "Data columns (total 2 columns):\n",
      " #   Column  Non-Null Count  Dtype \n",
      "---  ------  --------------  ----- \n",
      " 0   label   21133 non-null  object\n",
      " 1   tweet   21133 non-null  object\n",
      "dtypes: object(2)\n",
      "memory usage: 330.3+ KB\n"
     ]
    }
   ],
   "source": [
    "train.info()"
   ]
  },
  {
   "cell_type": "code",
   "execution_count": 6,
   "id": "39680c89",
   "metadata": {
    "id": "39680c89",
    "outputId": "939b4955-0adc-4e73-d39d-2c3392cdb20f"
   },
   "outputs": [
    {
     "data": {
      "text/html": [
       "<div>\n",
       "<style scoped>\n",
       "    .dataframe tbody tr th:only-of-type {\n",
       "        vertical-align: middle;\n",
       "    }\n",
       "\n",
       "    .dataframe tbody tr th {\n",
       "        vertical-align: top;\n",
       "    }\n",
       "\n",
       "    .dataframe thead th {\n",
       "        text-align: right;\n",
       "    }\n",
       "</style>\n",
       "<table border=\"1\" class=\"dataframe\">\n",
       "  <thead>\n",
       "    <tr style=\"text-align: right;\">\n",
       "      <th></th>\n",
       "      <th>label</th>\n",
       "      <th>tweet</th>\n",
       "    </tr>\n",
       "  </thead>\n",
       "  <tbody>\n",
       "    <tr>\n",
       "      <th>count</th>\n",
       "      <td>21133</td>\n",
       "      <td>21133</td>\n",
       "    </tr>\n",
       "    <tr>\n",
       "      <th>unique</th>\n",
       "      <td>5</td>\n",
       "      <td>20577</td>\n",
       "    </tr>\n",
       "    <tr>\n",
       "      <th>top</th>\n",
       "      <td>joy</td>\n",
       "      <td>Aku merasa seperti aku harus melepaskan rasa m...</td>\n",
       "    </tr>\n",
       "    <tr>\n",
       "      <th>freq</th>\n",
       "      <td>5987</td>\n",
       "      <td>5</td>\n",
       "    </tr>\n",
       "  </tbody>\n",
       "</table>\n",
       "</div>"
      ],
      "text/plain": [
       "        label                                              tweet\n",
       "count   21133                                              21133\n",
       "unique      5                                              20577\n",
       "top       joy  Aku merasa seperti aku harus melepaskan rasa m...\n",
       "freq     5987                                                  5"
      ]
     },
     "execution_count": 6,
     "metadata": {},
     "output_type": "execute_result"
    }
   ],
   "source": [
    "train.describe()"
   ]
  },
  {
   "cell_type": "code",
   "execution_count": 7,
   "id": "5ae91330",
   "metadata": {
    "id": "5ae91330",
    "outputId": "df3ea461-c47b-4542-b990-e03cadfbea26"
   },
   "outputs": [
    {
     "data": {
      "text/html": [
       "<div>\n",
       "<style scoped>\n",
       "    .dataframe tbody tr th:only-of-type {\n",
       "        vertical-align: middle;\n",
       "    }\n",
       "\n",
       "    .dataframe tbody tr th {\n",
       "        vertical-align: top;\n",
       "    }\n",
       "\n",
       "    .dataframe thead th {\n",
       "        text-align: right;\n",
       "    }\n",
       "</style>\n",
       "<table border=\"1\" class=\"dataframe\">\n",
       "  <thead>\n",
       "    <tr style=\"text-align: right;\">\n",
       "      <th></th>\n",
       "      <th>label</th>\n",
       "      <th>tweet</th>\n",
       "    </tr>\n",
       "  </thead>\n",
       "  <tbody>\n",
       "    <tr>\n",
       "      <th>count</th>\n",
       "      <td>21133</td>\n",
       "      <td>21133</td>\n",
       "    </tr>\n",
       "    <tr>\n",
       "      <th>unique</th>\n",
       "      <td>5</td>\n",
       "      <td>20577</td>\n",
       "    </tr>\n",
       "    <tr>\n",
       "      <th>top</th>\n",
       "      <td>joy</td>\n",
       "      <td>Aku merasa seperti aku harus melepaskan rasa m...</td>\n",
       "    </tr>\n",
       "    <tr>\n",
       "      <th>freq</th>\n",
       "      <td>5987</td>\n",
       "      <td>5</td>\n",
       "    </tr>\n",
       "  </tbody>\n",
       "</table>\n",
       "</div>"
      ],
      "text/plain": [
       "        label                                              tweet\n",
       "count   21133                                              21133\n",
       "unique      5                                              20577\n",
       "top       joy  Aku merasa seperti aku harus melepaskan rasa m...\n",
       "freq     5987                                                  5"
      ]
     },
     "execution_count": 7,
     "metadata": {},
     "output_type": "execute_result"
    }
   ],
   "source": [
    "train.describe(include=\"O\")"
   ]
  },
  {
   "cell_type": "code",
   "execution_count": 8,
   "id": "aa687ed2",
   "metadata": {
    "id": "aa687ed2",
    "outputId": "08c66a6b-f8ca-4503-8199-5fc7072283bf"
   },
   "outputs": [
    {
     "data": {
      "text/html": [
       "<div>\n",
       "<style scoped>\n",
       "    .dataframe tbody tr th:only-of-type {\n",
       "        vertical-align: middle;\n",
       "    }\n",
       "\n",
       "    .dataframe tbody tr th {\n",
       "        vertical-align: top;\n",
       "    }\n",
       "\n",
       "    .dataframe thead th {\n",
       "        text-align: right;\n",
       "    }\n",
       "</style>\n",
       "<table border=\"1\" class=\"dataframe\">\n",
       "  <thead>\n",
       "    <tr style=\"text-align: right;\">\n",
       "      <th></th>\n",
       "      <th>tweet</th>\n",
       "    </tr>\n",
       "    <tr>\n",
       "      <th>label</th>\n",
       "      <th></th>\n",
       "    </tr>\n",
       "  </thead>\n",
       "  <tbody>\n",
       "    <tr>\n",
       "      <th>anger</th>\n",
       "      <td>4209</td>\n",
       "    </tr>\n",
       "    <tr>\n",
       "      <th>fear</th>\n",
       "      <td>3586</td>\n",
       "    </tr>\n",
       "    <tr>\n",
       "      <th>joy</th>\n",
       "      <td>5987</td>\n",
       "    </tr>\n",
       "    <tr>\n",
       "      <th>love</th>\n",
       "      <td>1859</td>\n",
       "    </tr>\n",
       "    <tr>\n",
       "      <th>sadness</th>\n",
       "      <td>5492</td>\n",
       "    </tr>\n",
       "  </tbody>\n",
       "</table>\n",
       "</div>"
      ],
      "text/plain": [
       "         tweet\n",
       "label         \n",
       "anger     4209\n",
       "fear      3586\n",
       "joy       5987\n",
       "love      1859\n",
       "sadness   5492"
      ]
     },
     "execution_count": 8,
     "metadata": {},
     "output_type": "execute_result"
    }
   ],
   "source": [
    "train.groupby(by=\"label\").count()"
   ]
  },
  {
   "cell_type": "code",
   "execution_count": 9,
   "id": "6bec2209",
   "metadata": {
    "id": "6bec2209",
    "outputId": "beb28976-c8cd-41b7-8ada-0f439bae9b73"
   },
   "outputs": [
    {
     "data": {
      "text/html": [
       "<div>\n",
       "<style scoped>\n",
       "    .dataframe tbody tr th:only-of-type {\n",
       "        vertical-align: middle;\n",
       "    }\n",
       "\n",
       "    .dataframe tbody tr th {\n",
       "        vertical-align: top;\n",
       "    }\n",
       "\n",
       "    .dataframe thead th {\n",
       "        text-align: right;\n",
       "    }\n",
       "</style>\n",
       "<table border=\"1\" class=\"dataframe\">\n",
       "  <thead>\n",
       "    <tr style=\"text-align: right;\">\n",
       "      <th></th>\n",
       "      <th>label</th>\n",
       "      <th>tweet</th>\n",
       "      <th>num_label</th>\n",
       "    </tr>\n",
       "  </thead>\n",
       "  <tbody>\n",
       "    <tr>\n",
       "      <th>0</th>\n",
       "      <td>fear</td>\n",
       "      <td>[USERNAME] aku dikasih tau katanya kalbis nant...</td>\n",
       "      <td>1</td>\n",
       "    </tr>\n",
       "    <tr>\n",
       "      <th>1</th>\n",
       "      <td>sadness</td>\n",
       "      <td>Saya merasa tidak berguna dan tidak berdaya da...</td>\n",
       "      <td>3</td>\n",
       "    </tr>\n",
       "    <tr>\n",
       "      <th>2</th>\n",
       "      <td>joy</td>\n",
       "      <td>Saya biasa menenggak pizza jamur besar dan ken...</td>\n",
       "      <td>2</td>\n",
       "    </tr>\n",
       "    <tr>\n",
       "      <th>3</th>\n",
       "      <td>sadness</td>\n",
       "      <td>Saya pada satu titik menempatkan putra saya di...</td>\n",
       "      <td>3</td>\n",
       "    </tr>\n",
       "    <tr>\n",
       "      <th>4</th>\n",
       "      <td>sadness</td>\n",
       "      <td>Sebenernya teknik lumayan, tapi aneh bgt pas d...</td>\n",
       "      <td>3</td>\n",
       "    </tr>\n",
       "  </tbody>\n",
       "</table>\n",
       "</div>"
      ],
      "text/plain": [
       "     label                                              tweet  num_label\n",
       "0     fear  [USERNAME] aku dikasih tau katanya kalbis nant...          1\n",
       "1  sadness  Saya merasa tidak berguna dan tidak berdaya da...          3\n",
       "2      joy  Saya biasa menenggak pizza jamur besar dan ken...          2\n",
       "3  sadness  Saya pada satu titik menempatkan putra saya di...          3\n",
       "4  sadness  Sebenernya teknik lumayan, tapi aneh bgt pas d...          3"
      ]
     },
     "execution_count": 9,
     "metadata": {},
     "output_type": "execute_result"
    }
   ],
   "source": [
    "train['num_label'] = train['label'].map({'anger':0, 'fear':1, 'joy':2, 'love':2, 'sadness':3})\n",
    "train.head()"
   ]
  },
  {
   "cell_type": "code",
   "execution_count": 10,
   "id": "f5361cf7",
   "metadata": {},
   "outputs": [
    {
     "data": {
      "text/html": [
       "<div>\n",
       "<style scoped>\n",
       "    .dataframe tbody tr th:only-of-type {\n",
       "        vertical-align: middle;\n",
       "    }\n",
       "\n",
       "    .dataframe tbody tr th {\n",
       "        vertical-align: top;\n",
       "    }\n",
       "\n",
       "    .dataframe thead th {\n",
       "        text-align: right;\n",
       "    }\n",
       "</style>\n",
       "<table border=\"1\" class=\"dataframe\">\n",
       "  <thead>\n",
       "    <tr style=\"text-align: right;\">\n",
       "      <th></th>\n",
       "      <th>label</th>\n",
       "      <th>tweet</th>\n",
       "    </tr>\n",
       "    <tr>\n",
       "      <th>num_label</th>\n",
       "      <th></th>\n",
       "      <th></th>\n",
       "    </tr>\n",
       "  </thead>\n",
       "  <tbody>\n",
       "    <tr>\n",
       "      <th>0</th>\n",
       "      <td>4209</td>\n",
       "      <td>4209</td>\n",
       "    </tr>\n",
       "    <tr>\n",
       "      <th>1</th>\n",
       "      <td>3586</td>\n",
       "      <td>3586</td>\n",
       "    </tr>\n",
       "    <tr>\n",
       "      <th>2</th>\n",
       "      <td>7846</td>\n",
       "      <td>7846</td>\n",
       "    </tr>\n",
       "    <tr>\n",
       "      <th>3</th>\n",
       "      <td>5492</td>\n",
       "      <td>5492</td>\n",
       "    </tr>\n",
       "  </tbody>\n",
       "</table>\n",
       "</div>"
      ],
      "text/plain": [
       "           label  tweet\n",
       "num_label              \n",
       "0           4209   4209\n",
       "1           3586   3586\n",
       "2           7846   7846\n",
       "3           5492   5492"
      ]
     },
     "execution_count": 10,
     "metadata": {},
     "output_type": "execute_result"
    }
   ],
   "source": [
    "train.groupby(by=\"num_label\").count()"
   ]
  },
  {
   "cell_type": "code",
   "execution_count": null,
   "id": "dcdaf512",
   "metadata": {},
   "outputs": [],
   "source": []
  },
  {
   "cell_type": "markdown",
   "id": "04265c9f",
   "metadata": {
    "id": "04265c9f"
   },
   "source": [
    "## Data Preprocessing"
   ]
  },
  {
   "cell_type": "code",
   "execution_count": 11,
   "id": "06bc63c2",
   "metadata": {},
   "outputs": [],
   "source": [
    "# !pip install emoji\n",
    "# !pip install python-crfsuite"
   ]
  },
  {
   "cell_type": "code",
   "execution_count": 12,
   "id": "391f6847",
   "metadata": {
    "id": "391f6847"
   },
   "outputs": [],
   "source": [
    "import re\n",
    "import emoji\n",
    "import nltk\n",
    "from nltk.tokenize import word_tokenize\n",
    "from nltk.corpus import stopwords\n",
    "from nltk.tag import CRFTagger\n",
    "excelstopwords = pd.read_excel('stopwords.xlsx')\n",
    "kamusalay= pd.read_csv(\"kamusalay.csv\")"
   ]
  },
  {
   "cell_type": "code",
   "execution_count": 13,
   "id": "b926c8e4",
   "metadata": {},
   "outputs": [],
   "source": [
    "text = \"Woi, hari ini gue sama pacar lagi hangout di mall, abis makan bareng trus jalan-jalan seru-seruan. Gue senyum-senyum sendiri liat dia, rasanya bener-bener bahagia banget deh! Trus kita foto-foto bareng, lumayan buat kenang-kenangan. Pas pulang, gue peluk dia dari belakang, rasanya pengen nggak lepas, kayaknya waktu berhenti sebentar aja. Hari yang indah banget, apalagi sama dia\""
   ]
  },
  {
   "cell_type": "code",
   "execution_count": 14,
   "id": "692e950b",
   "metadata": {},
   "outputs": [],
   "source": [
    "def lowercase(review):\n",
    "    return review.lower() #dari python langsung, bkn dari external library\n",
    "\n",
    "# hapus URL\n",
    "def remove_url(review):\n",
    "    return re.sub(r'http\\S+', '', review)\n",
    "\n",
    "#KAMUS ALAY\n",
    "def alay(review):\n",
    "    alay_dic = kamusalay.to_dict()\n",
    "    alay_dic = dict(zip(kamusalay.iloc[:,0], kamusalay.iloc[:,1]))\n",
    "    words = review.split()\n",
    "    for i in range(len(words)):\n",
    "        word = words[i]\n",
    "        if word in alay_dic.keys():\n",
    "            words[i] = alay_dic[word]\n",
    "    sentence = \" \".join(words)\n",
    "    return sentence\n",
    "\n",
    "def remove_square_brackets(review):\n",
    "    # Menghapus teks di dalam kurung siku beserta kurungnya\n",
    "    return re.sub(r'\\[.*?\\]', '', review)\n",
    "\n",
    "# hapus irrelevant char(angka, simbol, tanda baca)\n",
    "def remove_irrelevant(review):\n",
    "    return re.sub('[^a-zA-Z\\s]', ' ', review)\n",
    "\n",
    "# hapus spasi lebih dari 1\n",
    "def remove_space(review):\n",
    "    review= re.sub(r'\\s+', ' ', review)\n",
    "    review= review.replace('\\n', ' ')\n",
    "    review= review.replace('\\\\n', ' ')\n",
    "    review= review.replace('\\t', ' ')\n",
    "    review= review.replace('\\\\t', ' ')\n",
    "    review= review.replace('\\\\u', ' ')\n",
    "    review= review.replace('\\\\', ' ')\n",
    "    return review\n",
    "\n",
    "# hapus emoji\n",
    "def remove_emoji(review):\n",
    "    emoji_pattern= re.compile(\"[\"\n",
    "                           u\"\\U0001F600-\\U0001F64F\"  # emoticon\n",
    "                           u\"\\U0001F300-\\U0001F5FF\"  # simbol & dingbat\n",
    "                           u\"\\U0001F680-\\U0001F6FF\"  # transportasi & simbol map\n",
    "                           u\"\\U0001F700-\\U0001F77F\"  # simbol kuno\n",
    "                           u\"\\U0001F780-\\U0001F7FF\"  # simbol kuno tambahan\n",
    "                           u\"\\U0001F800-\\U0001F8FF\"  # simbol tanda batas\n",
    "                           u\"\\U0001F900-\\U0001F9FF\"  # emoticon tambahan\n",
    "                           u\"\\U0001FA00-\\U0001FA6F\"  # simbol musik\n",
    "                           u\"\\U0001FA70-\\U0001FAFF\"  # simbol musik tambahan\n",
    "                           u\"\\U00002702-\\U000027B0\"  # simbol karakter\n",
    "                           u\"\\U000024C2-\\U0001F251\"  # simbol katakter tambahan\n",
    "                           \"]+\", flags= re.UNICODE)\n",
    "    return emoji_pattern.sub(r'', review)\n",
    "\n",
    "\n",
    "#REMOVING REPEAT CHARACTER\n",
    "def repeat_char(review):\n",
    "    review= re.sub('([A-Za-z])\\\\1{2,}','\\\\1', review)\n",
    "    return review\n",
    "\n",
    "\n",
    "#STOPWORD ENGLISH --> NEED TO FIX\n",
    "def remove_stopwords(sentence):\n",
    "    stopwords_list = list(excelstopwords['stopwords'])\n",
    "    words = sentence.split()\n",
    "    no_words = [w for w in words if w not in stopwords_list]\n",
    "    sentence = \" \".join(no_words)\n",
    "    return sentence\n",
    "\n"
   ]
  },
  {
   "cell_type": "code",
   "execution_count": 15,
   "id": "050fb938",
   "metadata": {
    "id": "050fb938",
    "outputId": "14bedcbd-6f36-4a14-8ab5-36633ab30be6"
   },
   "outputs": [],
   "source": [
    "def df_prep(train):\n",
    "    train['filtering']= train['tweet'].apply(lowercase)\n",
    "    train['filtering']= train['filtering'].apply(remove_url)\n",
    "   # train['filtering']= train['filtering'].apply(alay)\n",
    "    train['filtering']= train['filtering'].apply(remove_square_brackets)\n",
    "    train['filtering']= train['filtering'].apply(remove_irrelevant)\n",
    "    train['filtering']= train['filtering'].apply(remove_space)\n",
    "    train['filtering']= train['filtering'].apply(remove_emoji)\n",
    "    train['filtering']= train['filtering'].apply(repeat_char)\n",
    "    train[\"filtering\"]= train[\"filtering\"].apply(remove_stopwords)\n",
    "    return train"
   ]
  },
  {
   "cell_type": "code",
   "execution_count": 16,
   "id": "3ebf5df5",
   "metadata": {},
   "outputs": [
    {
     "data": {
      "text/html": [
       "<div>\n",
       "<style scoped>\n",
       "    .dataframe tbody tr th:only-of-type {\n",
       "        vertical-align: middle;\n",
       "    }\n",
       "\n",
       "    .dataframe tbody tr th {\n",
       "        vertical-align: top;\n",
       "    }\n",
       "\n",
       "    .dataframe thead th {\n",
       "        text-align: right;\n",
       "    }\n",
       "</style>\n",
       "<table border=\"1\" class=\"dataframe\">\n",
       "  <thead>\n",
       "    <tr style=\"text-align: right;\">\n",
       "      <th></th>\n",
       "      <th>label</th>\n",
       "      <th>tweet</th>\n",
       "      <th>num_label</th>\n",
       "      <th>filtering</th>\n",
       "    </tr>\n",
       "  </thead>\n",
       "  <tbody>\n",
       "    <tr>\n",
       "      <th>0</th>\n",
       "      <td>fear</td>\n",
       "      <td>[USERNAME] aku dikasih tau katanya kalbis nant...</td>\n",
       "      <td>1</td>\n",
       "      <td>username dikasih tau kalbis kayak praktikum ny...</td>\n",
       "    </tr>\n",
       "    <tr>\n",
       "      <th>1</th>\n",
       "      <td>sadness</td>\n",
       "      <td>Saya merasa tidak berguna dan tidak berdaya da...</td>\n",
       "      <td>3</td>\n",
       "      <td>berguna berdaya hancur</td>\n",
       "    </tr>\n",
       "    <tr>\n",
       "      <th>2</th>\n",
       "      <td>joy</td>\n",
       "      <td>Saya biasa menenggak pizza jamur besar dan ken...</td>\n",
       "      <td>2</td>\n",
       "      <td>menenggak pizza jamur kendi bir berbudi luhur</td>\n",
       "    </tr>\n",
       "    <tr>\n",
       "      <th>3</th>\n",
       "      <td>sadness</td>\n",
       "      <td>Saya pada satu titik menempatkan putra saya di...</td>\n",
       "      <td>3</td>\n",
       "      <td>titik menempatkan putra penitipan anak menerus...</td>\n",
       "    </tr>\n",
       "    <tr>\n",
       "      <th>4</th>\n",
       "      <td>sadness</td>\n",
       "      <td>Sebenernya teknik lumayan, tapi aneh bgt pas d...</td>\n",
       "      <td>3</td>\n",
       "      <td>teknik lumayan aneh banget pas inter passing s...</td>\n",
       "    </tr>\n",
       "    <tr>\n",
       "      <th>...</th>\n",
       "      <td>...</td>\n",
       "      <td>...</td>\n",
       "      <td>...</td>\n",
       "      <td>...</td>\n",
       "    </tr>\n",
       "    <tr>\n",
       "      <th>21128</th>\n",
       "      <td>sadness</td>\n",
       "      <td>Saya mengambil dan pindah ke Republik Ceko sen...</td>\n",
       "      <td>3</td>\n",
       "      <td>mengambil pindah republik ceko chris mengirimi...</td>\n",
       "    </tr>\n",
       "    <tr>\n",
       "      <th>21129</th>\n",
       "      <td>sadness</td>\n",
       "      <td>Ada anak sma habis perpisahan atau semacam wis...</td>\n",
       "      <td>3</td>\n",
       "      <td>anak habis perpisahan wisuda sekolah foto bare...</td>\n",
       "    </tr>\n",
       "    <tr>\n",
       "      <th>21130</th>\n",
       "      <td>anger</td>\n",
       "      <td>sampe gapaham apa salah aespa ke bts sampe fan...</td>\n",
       "      <td>0</td>\n",
       "      <td>gapaham salah aespa bts fan bts alias army suk...</td>\n",
       "    </tr>\n",
       "    <tr>\n",
       "      <th>21131</th>\n",
       "      <td>fear</td>\n",
       "      <td>Ketika kamu merasa seperti kamu harus melawan ...</td>\n",
       "      <td>1</td>\n",
       "      <td>melawan takut membesar conqueringgrowingfear</td>\n",
       "    </tr>\n",
       "    <tr>\n",
       "      <th>21132</th>\n",
       "      <td>joy</td>\n",
       "      <td>Saya punya perasaan itu akan menjadi hubungan ...</td>\n",
       "      <td>2</td>\n",
       "      <td>perasaan hubungan produktif</td>\n",
       "    </tr>\n",
       "  </tbody>\n",
       "</table>\n",
       "<p>21133 rows × 4 columns</p>\n",
       "</div>"
      ],
      "text/plain": [
       "         label                                              tweet  num_label  \\\n",
       "0         fear  [USERNAME] aku dikasih tau katanya kalbis nant...          1   \n",
       "1      sadness  Saya merasa tidak berguna dan tidak berdaya da...          3   \n",
       "2          joy  Saya biasa menenggak pizza jamur besar dan ken...          2   \n",
       "3      sadness  Saya pada satu titik menempatkan putra saya di...          3   \n",
       "4      sadness  Sebenernya teknik lumayan, tapi aneh bgt pas d...          3   \n",
       "...        ...                                                ...        ...   \n",
       "21128  sadness  Saya mengambil dan pindah ke Republik Ceko sen...          3   \n",
       "21129  sadness  Ada anak sma habis perpisahan atau semacam wis...          3   \n",
       "21130    anger  sampe gapaham apa salah aespa ke bts sampe fan...          0   \n",
       "21131     fear  Ketika kamu merasa seperti kamu harus melawan ...          1   \n",
       "21132      joy  Saya punya perasaan itu akan menjadi hubungan ...          2   \n",
       "\n",
       "                                               filtering  \n",
       "0      username dikasih tau kalbis kayak praktikum ny...  \n",
       "1                                 berguna berdaya hancur  \n",
       "2          menenggak pizza jamur kendi bir berbudi luhur  \n",
       "3      titik menempatkan putra penitipan anak menerus...  \n",
       "4      teknik lumayan aneh banget pas inter passing s...  \n",
       "...                                                  ...  \n",
       "21128  mengambil pindah republik ceko chris mengirimi...  \n",
       "21129  anak habis perpisahan wisuda sekolah foto bare...  \n",
       "21130  gapaham salah aespa bts fan bts alias army suk...  \n",
       "21131       melawan takut membesar conqueringgrowingfear  \n",
       "21132                        perasaan hubungan produktif  \n",
       "\n",
       "[21133 rows x 4 columns]"
      ]
     },
     "execution_count": 16,
     "metadata": {},
     "output_type": "execute_result"
    }
   ],
   "source": [
    "train = df_prep(train)\n",
    "train = train[train['filtering'] != \"\"]\n",
    "train"
   ]
  },
  {
   "cell_type": "code",
   "execution_count": 17,
   "id": "7b4f2035",
   "metadata": {
    "id": "7b4f2035",
    "outputId": "8ac4b771-c032-44c2-ebba-99704fecd046"
   },
   "outputs": [
    {
     "data": {
      "text/plain": [
       "16906"
      ]
     },
     "execution_count": 17,
     "metadata": {},
     "output_type": "execute_result"
    }
   ],
   "source": [
    "train_split = 0.8\n",
    "train_size = int(len(train['filtering'])*train_split)\n",
    "train_size"
   ]
  },
  {
   "cell_type": "code",
   "execution_count": 18,
   "id": "4b24cd7f",
   "metadata": {
    "id": "4b24cd7f"
   },
   "outputs": [],
   "source": [
    "traindata = train[0:train_size]\n",
    "valdata = train[train_size:]"
   ]
  },
  {
   "cell_type": "code",
   "execution_count": 19,
   "id": "4251dcfc",
   "metadata": {},
   "outputs": [
    {
     "data": {
      "text/html": [
       "<div>\n",
       "<style scoped>\n",
       "    .dataframe tbody tr th:only-of-type {\n",
       "        vertical-align: middle;\n",
       "    }\n",
       "\n",
       "    .dataframe tbody tr th {\n",
       "        vertical-align: top;\n",
       "    }\n",
       "\n",
       "    .dataframe thead th {\n",
       "        text-align: right;\n",
       "    }\n",
       "</style>\n",
       "<table border=\"1\" class=\"dataframe\">\n",
       "  <thead>\n",
       "    <tr style=\"text-align: right;\">\n",
       "      <th></th>\n",
       "      <th>label</th>\n",
       "      <th>tweet</th>\n",
       "      <th>num_label</th>\n",
       "      <th>filtering</th>\n",
       "    </tr>\n",
       "  </thead>\n",
       "  <tbody>\n",
       "    <tr>\n",
       "      <th>0</th>\n",
       "      <td>fear</td>\n",
       "      <td>[USERNAME] aku dikasih tau katanya kalbis nant...</td>\n",
       "      <td>1</td>\n",
       "      <td>username dikasih tau kalbis kayak praktikum ny...</td>\n",
       "    </tr>\n",
       "    <tr>\n",
       "      <th>1</th>\n",
       "      <td>sadness</td>\n",
       "      <td>Saya merasa tidak berguna dan tidak berdaya da...</td>\n",
       "      <td>3</td>\n",
       "      <td>berguna berdaya hancur</td>\n",
       "    </tr>\n",
       "    <tr>\n",
       "      <th>2</th>\n",
       "      <td>joy</td>\n",
       "      <td>Saya biasa menenggak pizza jamur besar dan ken...</td>\n",
       "      <td>2</td>\n",
       "      <td>menenggak pizza jamur kendi bir berbudi luhur</td>\n",
       "    </tr>\n",
       "    <tr>\n",
       "      <th>3</th>\n",
       "      <td>sadness</td>\n",
       "      <td>Saya pada satu titik menempatkan putra saya di...</td>\n",
       "      <td>3</td>\n",
       "      <td>titik menempatkan putra penitipan anak menerus...</td>\n",
       "    </tr>\n",
       "    <tr>\n",
       "      <th>4</th>\n",
       "      <td>sadness</td>\n",
       "      <td>Sebenernya teknik lumayan, tapi aneh bgt pas d...</td>\n",
       "      <td>3</td>\n",
       "      <td>teknik lumayan aneh banget pas inter passing s...</td>\n",
       "    </tr>\n",
       "    <tr>\n",
       "      <th>...</th>\n",
       "      <td>...</td>\n",
       "      <td>...</td>\n",
       "      <td>...</td>\n",
       "      <td>...</td>\n",
       "    </tr>\n",
       "    <tr>\n",
       "      <th>16901</th>\n",
       "      <td>fear</td>\n",
       "      <td>Saya merasa sedikit terguncang</td>\n",
       "      <td>1</td>\n",
       "      <td>terguncang</td>\n",
       "    </tr>\n",
       "    <tr>\n",
       "      <th>16902</th>\n",
       "      <td>fear</td>\n",
       "      <td>gua masih kaget seriusan..</td>\n",
       "      <td>1</td>\n",
       "      <td>gua kaget seriusan</td>\n",
       "    </tr>\n",
       "    <tr>\n",
       "      <th>16903</th>\n",
       "      <td>fear</td>\n",
       "      <td>iya makanya gue takut banget</td>\n",
       "      <td>1</td>\n",
       "      <td>iya gue takut banget</td>\n",
       "    </tr>\n",
       "    <tr>\n",
       "      <th>16904</th>\n",
       "      <td>fear</td>\n",
       "      <td>saya tidak merasa panik namun jadi sebaliknya ...</td>\n",
       "      <td>1</td>\n",
       "      <td>panik tidur teddy</td>\n",
       "    </tr>\n",
       "    <tr>\n",
       "      <th>16905</th>\n",
       "      <td>fear</td>\n",
       "      <td>Saya merasa tidak yakin tentang sesuatu, saya ...</td>\n",
       "      <td>1</td>\n",
       "      <td>bertindak positif kuat</td>\n",
       "    </tr>\n",
       "  </tbody>\n",
       "</table>\n",
       "<p>16906 rows × 4 columns</p>\n",
       "</div>"
      ],
      "text/plain": [
       "         label                                              tweet  num_label  \\\n",
       "0         fear  [USERNAME] aku dikasih tau katanya kalbis nant...          1   \n",
       "1      sadness  Saya merasa tidak berguna dan tidak berdaya da...          3   \n",
       "2          joy  Saya biasa menenggak pizza jamur besar dan ken...          2   \n",
       "3      sadness  Saya pada satu titik menempatkan putra saya di...          3   \n",
       "4      sadness  Sebenernya teknik lumayan, tapi aneh bgt pas d...          3   \n",
       "...        ...                                                ...        ...   \n",
       "16901     fear                     Saya merasa sedikit terguncang          1   \n",
       "16902     fear                         gua masih kaget seriusan..          1   \n",
       "16903     fear                       iya makanya gue takut banget          1   \n",
       "16904     fear  saya tidak merasa panik namun jadi sebaliknya ...          1   \n",
       "16905     fear  Saya merasa tidak yakin tentang sesuatu, saya ...          1   \n",
       "\n",
       "                                               filtering  \n",
       "0      username dikasih tau kalbis kayak praktikum ny...  \n",
       "1                                 berguna berdaya hancur  \n",
       "2          menenggak pizza jamur kendi bir berbudi luhur  \n",
       "3      titik menempatkan putra penitipan anak menerus...  \n",
       "4      teknik lumayan aneh banget pas inter passing s...  \n",
       "...                                                  ...  \n",
       "16901                                         terguncang  \n",
       "16902                                 gua kaget seriusan  \n",
       "16903                               iya gue takut banget  \n",
       "16904                                  panik tidur teddy  \n",
       "16905                             bertindak positif kuat  \n",
       "\n",
       "[16906 rows x 4 columns]"
      ]
     },
     "execution_count": 19,
     "metadata": {},
     "output_type": "execute_result"
    }
   ],
   "source": [
    "traindata"
   ]
  },
  {
   "cell_type": "code",
   "execution_count": 42,
   "id": "4c88fbf3",
   "metadata": {
    "id": "4c88fbf3"
   },
   "outputs": [],
   "source": [
    "import numpy as np\n",
    "from tensorflow.keras.preprocessing.text import Tokenizer\n",
    "from tensorflow.keras.preprocessing.sequence import pad_sequences\n",
    "\n",
    "# Parameters for padding and OOV tokens\n",
    "trunc_type='post'\n",
    "padding_type='post'\n",
    "oov_tok = \"<OOV>\"\n",
    "max_length = 500\n",
    "\n",
    "# Initialize the Tokenizer class\n",
    "tokenizer = Tokenizer(num_words=5000, oov_token='<OOV>')\n",
    "\n",
    "# Generate the word index dictionary\n",
    "tokenizer.fit_on_texts(traindata['filtering'])\n",
    "word_index = tokenizer.word_index\n",
    "\n",
    "# Generate and pad the training sequences\n",
    "training_sequences = tokenizer.texts_to_sequences(traindata['filtering'])\n",
    "training_padded = pad_sequences(training_sequences, maxlen=max_length, padding=padding_type, truncating=trunc_type)\n",
    "\n",
    "# Generate and pad the validation sequences\n",
    "validation_sequences = tokenizer.texts_to_sequences(valdata['filtering'])\n",
    "validation_padded = pad_sequences(validation_sequences, maxlen=max_length, padding=padding_type, truncating=trunc_type)"
   ]
  },
  {
   "cell_type": "markdown",
   "id": "5682de61",
   "metadata": {},
   "source": [
    "## Build Model"
   ]
  },
  {
   "cell_type": "code",
   "execution_count": 21,
   "id": "4e1fb0ed",
   "metadata": {
    "id": "4e1fb0ed"
   },
   "outputs": [],
   "source": [
    "model = tf.keras.Sequential([\n",
    "    tf.keras.layers.Embedding(5000, 16, input_length=max_length),\n",
    "    tf.keras.layers.GlobalAveragePooling1D(),\n",
    "    tf.keras.layers.Dense(24, activation='relu'),\n",
    "    tf.keras.layers.Dense(4, activation='softmax')\n",
    "])"
   ]
  },
  {
   "cell_type": "code",
   "execution_count": 22,
   "id": "f27f810f",
   "metadata": {
    "id": "f27f810f",
    "outputId": "6e526cb4-017e-487a-8bb1-31ef41e55cf3"
   },
   "outputs": [
    {
     "data": {
      "text/plain": [
       "\"\\nmodel = tf.keras.Sequential([\\n    tf.keras.layers.Embedding(17000, 64, input_length=max_length),\\n    tf.keras.layers.GlobalAveragePooling1D(),\\n    tf.keras.layers.Dense(128, activation='relu'),\\n    tf.keras.layers.Dropout(0.2),\\n    tf.keras.layers.Dense(1, activation='sigmoid')\\n])\\n\""
      ]
     },
     "execution_count": 22,
     "metadata": {},
     "output_type": "execute_result"
    }
   ],
   "source": [
    "'''\n",
    "model = tf.keras.Sequential([\n",
    "    tf.keras.layers.Embedding(17000, 64, input_length=max_length),\n",
    "    tf.keras.layers.GlobalAveragePooling1D(),\n",
    "    tf.keras.layers.Dense(128, activation='relu'),\n",
    "    tf.keras.layers.Dropout(0.2),\n",
    "    tf.keras.layers.Dense(1, activation='sigmoid')\n",
    "])\n",
    "'''"
   ]
  },
  {
   "cell_type": "code",
   "execution_count": 23,
   "id": "efa2eabe",
   "metadata": {
    "id": "efa2eabe",
    "outputId": "e730f996-16bc-42c5-f71e-e7fc24c34982",
    "scrolled": true
   },
   "outputs": [
    {
     "data": {
      "text/plain": [
       "'\\n# Build the model\\nmodel = tf.keras.Sequential([\\n    # This is how you need to set the Embedding layer when using pre-trained embeddings\\n    tf.keras.layers.Embedding(vocab_size+1, embedding_dim, input_length=maxlen, weights=[embeddings_matrix], trainable=False),\\n    tf.keras.layers.Dropout(0.2),\\n    tf.keras.layers.Bidirectional(tf.keras.layers.LSTM(32)),\\n    tf.keras.layers.Dropout(0.2),\\n    tf.keras.layers.Dense(6, activation = \\'relu\\'),\\n    tf.keras.layers.Dense(1, activation = \"sigmoid\")\\n])\\n\\n# Print the model summary\\nmodel.summary()\\n'"
      ]
     },
     "execution_count": 23,
     "metadata": {},
     "output_type": "execute_result"
    }
   ],
   "source": [
    "'''\n",
    "# Build the model\n",
    "model = tf.keras.Sequential([\n",
    "    # This is how you need to set the Embedding layer when using pre-trained embeddings\n",
    "    tf.keras.layers.Embedding(vocab_size+1, embedding_dim, input_length=maxlen, weights=[embeddings_matrix], trainable=False),\n",
    "    tf.keras.layers.Dropout(0.2),\n",
    "    tf.keras.layers.Bidirectional(tf.keras.layers.LSTM(32)),\n",
    "    tf.keras.layers.Dropout(0.2),\n",
    "    tf.keras.layers.Dense(6, activation = 'relu'),\n",
    "    tf.keras.layers.Dense(1, activation = \"sigmoid\")\n",
    "])\n",
    "\n",
    "# Print the model summary\n",
    "model.summary()\n",
    "'''"
   ]
  },
  {
   "cell_type": "code",
   "execution_count": 43,
   "id": "4f341131",
   "metadata": {},
   "outputs": [],
   "source": [
    "model = tf.keras.Sequential([\n",
    "    tf.keras.layers.Embedding(5000, 32, input_length=max_length),\n",
    "    tf.keras.layers.Dropout(0.2),  # Add dropout layer\n",
    "    tf.keras.layers.GlobalAveragePooling1D(),\n",
    "    tf.keras.layers.Dense(16, activation='relu'),  # Reduced number of units\n",
    "    tf.keras.layers.Dropout(0.2),  # Add dropout layer\n",
    "    tf.keras.layers.Dense(4, activation='softmax')\n",
    "])"
   ]
  },
  {
   "cell_type": "code",
   "execution_count": 59,
   "id": "d6306c20",
   "metadata": {},
   "outputs": [],
   "source": [
    "model = tf.keras.Sequential([\n",
    "    tf.keras.layers.Embedding(5000, 32, input_length=max_length),\n",
    "    tf.keras.layers.Bidirectional(tf.keras.layers.LSTM(32, return_sequences=True)),\n",
    "    tf.keras.layers.Bidirectional(tf.keras.layers.LSTM(16)),\n",
    "    tf.keras.layers.Dense(64, activation='relu'),\n",
    "    tf.keras.layers.Dropout(0.5),\n",
    "    tf.keras.layers.Dense(32, activation='relu'),\n",
    "    tf.keras.layers.Dropout(0.5),\n",
    "    tf.keras.layers.Dense(4, activation='softmax')\n",
    "])"
   ]
  },
  {
   "cell_type": "code",
   "execution_count": 1,
   "id": "d74fa09a",
   "metadata": {
    "id": "d74fa09a"
   },
   "outputs": [
    {
     "ename": "NameError",
     "evalue": "name 'create_model' is not defined",
     "output_type": "error",
     "traceback": [
      "\u001b[1;31m---------------------------------------------------------------------------\u001b[0m",
      "\u001b[1;31mNameError\u001b[0m                                 Traceback (most recent call last)",
      "\u001b[1;32m~\\AppData\\Local\\Temp\\ipykernel_58356\\3915696377.py\u001b[0m in \u001b[0;36m<module>\u001b[1;34m\u001b[0m\n\u001b[0;32m      2\u001b[0m \u001b[1;33m\u001b[0m\u001b[0m\n\u001b[0;32m      3\u001b[0m \u001b[1;31m# Create your untrained model\u001b[0m\u001b[1;33m\u001b[0m\u001b[1;33m\u001b[0m\u001b[1;33m\u001b[0m\u001b[0m\n\u001b[1;32m----> 4\u001b[1;33m \u001b[0mmodel\u001b[0m \u001b[1;33m=\u001b[0m \u001b[0mcreate_model\u001b[0m\u001b[1;33m(\u001b[0m\u001b[0mVOCAB_SIZE\u001b[0m\u001b[1;33m,\u001b[0m \u001b[0mEMBEDDING_DIM\u001b[0m\u001b[1;33m,\u001b[0m \u001b[0mMAXLEN\u001b[0m\u001b[1;33m,\u001b[0m \u001b[0mEMBEDDINGS_MATRIX\u001b[0m\u001b[1;33m)\u001b[0m\u001b[1;33m\u001b[0m\u001b[1;33m\u001b[0m\u001b[0m\n\u001b[0m\u001b[0;32m      5\u001b[0m \u001b[1;33m\u001b[0m\u001b[0m\n\u001b[0;32m      6\u001b[0m \u001b[1;31m# Train the model and save the training history\u001b[0m\u001b[1;33m\u001b[0m\u001b[1;33m\u001b[0m\u001b[1;33m\u001b[0m\u001b[0m\n",
      "\u001b[1;31mNameError\u001b[0m: name 'create_model' is not defined"
     ]
    }
   ],
   "source": [
    "from tensorflow.keras.optimizers import Adam\n",
    "# Define the learning rate\n",
    "learning_rate = 0.001\n",
    "\n",
    "# Compile the model with Adam optimizer and specified learning rate\n",
    "\n",
    "model.compile(loss=tf.keras.losses.SparseCategoricalCrossentropy(from_logits=True), optimizer=tf.keras.optimizers.Adam(learning_rate), metrics=['accuracy'])\n"
   ]
  },
  {
   "cell_type": "code",
   "execution_count": 60,
   "id": "668a97ac",
   "metadata": {
    "id": "668a97ac",
    "outputId": "0bcbe5b0-ac30-4650-b469-47fbe5cee9f4"
   },
   "outputs": [
    {
     "ename": "RuntimeError",
     "evalue": "You must compile your model before training/testing. Use `model.compile(optimizer, loss)`.",
     "output_type": "error",
     "traceback": [
      "\u001b[1;31m---------------------------------------------------------------------------\u001b[0m",
      "\u001b[1;31mRuntimeError\u001b[0m                              Traceback (most recent call last)",
      "\u001b[1;32m~\\AppData\\Local\\Temp\\ipykernel_36432\\1444210806.py\u001b[0m in \u001b[0;36m<module>\u001b[1;34m\u001b[0m\n\u001b[0;32m      2\u001b[0m \u001b[1;33m\u001b[0m\u001b[0m\n\u001b[0;32m      3\u001b[0m \u001b[1;31m# Train the model\u001b[0m\u001b[1;33m\u001b[0m\u001b[1;33m\u001b[0m\u001b[1;33m\u001b[0m\u001b[0m\n\u001b[1;32m----> 4\u001b[1;33m \u001b[0mhistory\u001b[0m \u001b[1;33m=\u001b[0m \u001b[0mmodel\u001b[0m\u001b[1;33m.\u001b[0m\u001b[0mfit\u001b[0m\u001b[1;33m(\u001b[0m\u001b[0mtraining_padded\u001b[0m\u001b[1;33m,\u001b[0m \u001b[0mtraindata\u001b[0m\u001b[1;33m[\u001b[0m\u001b[1;34m'num_label'\u001b[0m\u001b[1;33m]\u001b[0m\u001b[1;33m,\u001b[0m \u001b[0mepochs\u001b[0m\u001b[1;33m=\u001b[0m\u001b[0mnum_epochs\u001b[0m\u001b[1;33m,\u001b[0m \u001b[0mvalidation_data\u001b[0m\u001b[1;33m=\u001b[0m\u001b[1;33m(\u001b[0m\u001b[0mvalidation_padded\u001b[0m\u001b[1;33m,\u001b[0m \u001b[0mvaldata\u001b[0m\u001b[1;33m[\u001b[0m\u001b[1;34m'num_label'\u001b[0m\u001b[1;33m]\u001b[0m\u001b[1;33m)\u001b[0m\u001b[1;33m,\u001b[0m \u001b[0mverbose\u001b[0m\u001b[1;33m=\u001b[0m\u001b[1;36m2\u001b[0m\u001b[1;33m)\u001b[0m\u001b[1;33m\u001b[0m\u001b[1;33m\u001b[0m\u001b[0m\n\u001b[0m",
      "\u001b[1;32mD:\\Anacondas\\envs\\newenv\\lib\\site-packages\\keras\\utils\\traceback_utils.py\u001b[0m in \u001b[0;36merror_handler\u001b[1;34m(*args, **kwargs)\u001b[0m\n\u001b[0;32m     68\u001b[0m             \u001b[1;31m# To get the full stack trace, call:\u001b[0m\u001b[1;33m\u001b[0m\u001b[1;33m\u001b[0m\u001b[1;33m\u001b[0m\u001b[0m\n\u001b[0;32m     69\u001b[0m             \u001b[1;31m# `tf.debugging.disable_traceback_filtering()`\u001b[0m\u001b[1;33m\u001b[0m\u001b[1;33m\u001b[0m\u001b[1;33m\u001b[0m\u001b[0m\n\u001b[1;32m---> 70\u001b[1;33m             \u001b[1;32mraise\u001b[0m \u001b[0me\u001b[0m\u001b[1;33m.\u001b[0m\u001b[0mwith_traceback\u001b[0m\u001b[1;33m(\u001b[0m\u001b[0mfiltered_tb\u001b[0m\u001b[1;33m)\u001b[0m \u001b[1;32mfrom\u001b[0m \u001b[1;32mNone\u001b[0m\u001b[1;33m\u001b[0m\u001b[1;33m\u001b[0m\u001b[0m\n\u001b[0m\u001b[0;32m     71\u001b[0m         \u001b[1;32mfinally\u001b[0m\u001b[1;33m:\u001b[0m\u001b[1;33m\u001b[0m\u001b[1;33m\u001b[0m\u001b[0m\n\u001b[0;32m     72\u001b[0m             \u001b[1;32mdel\u001b[0m \u001b[0mfiltered_tb\u001b[0m\u001b[1;33m\u001b[0m\u001b[1;33m\u001b[0m\u001b[0m\n",
      "\u001b[1;32mD:\\Anacondas\\envs\\newenv\\lib\\site-packages\\keras\\engine\\training.py\u001b[0m in \u001b[0;36m_assert_compile_was_called\u001b[1;34m(self)\u001b[0m\n\u001b[0;32m   3617\u001b[0m         \u001b[1;32mif\u001b[0m \u001b[1;32mnot\u001b[0m \u001b[0mself\u001b[0m\u001b[1;33m.\u001b[0m\u001b[0m_is_compiled\u001b[0m\u001b[1;33m:\u001b[0m\u001b[1;33m\u001b[0m\u001b[1;33m\u001b[0m\u001b[0m\n\u001b[0;32m   3618\u001b[0m             raise RuntimeError(\n\u001b[1;32m-> 3619\u001b[1;33m                 \u001b[1;34m\"You must compile your model before \"\u001b[0m\u001b[1;33m\u001b[0m\u001b[1;33m\u001b[0m\u001b[0m\n\u001b[0m\u001b[0;32m   3620\u001b[0m                 \u001b[1;34m\"training/testing. \"\u001b[0m\u001b[1;33m\u001b[0m\u001b[1;33m\u001b[0m\u001b[0m\n\u001b[0;32m   3621\u001b[0m                 \u001b[1;34m\"Use `model.compile(optimizer, loss)`.\"\u001b[0m\u001b[1;33m\u001b[0m\u001b[1;33m\u001b[0m\u001b[0m\n",
      "\u001b[1;31mRuntimeError\u001b[0m: You must compile your model before training/testing. Use `model.compile(optimizer, loss)`."
     ]
    }
   ],
   "source": [
    "num_epochs = 20\n",
    "\n",
    "# Train the model\n",
    "history = model.fit(training_padded, traindata['num_label'], epochs=num_epochs, validation_data=(validation_padded, valdata['num_label']), verbose=2)"
   ]
  },
  {
   "cell_type": "code",
   "execution_count": 64,
   "id": "7a75def6",
   "metadata": {},
   "outputs": [
    {
     "name": "stdout",
     "output_type": "stream",
     "text": [
      "Epoch 1/20\n",
      "374/529 [====================>.........] - ETA: 45s - loss: 0.3348 - accuracy: 0.9027"
     ]
    },
    {
     "ename": "KeyboardInterrupt",
     "evalue": "",
     "output_type": "error",
     "traceback": [
      "\u001b[1;31m---------------------------------------------------------------------------\u001b[0m",
      "\u001b[1;31mKeyboardInterrupt\u001b[0m                         Traceback (most recent call last)",
      "\u001b[1;32m~\\AppData\\Local\\Temp\\ipykernel_36432\\863836830.py\u001b[0m in \u001b[0;36m<module>\u001b[1;34m\u001b[0m\n\u001b[0;32m      5\u001b[0m \u001b[1;33m\u001b[0m\u001b[0m\n\u001b[0;32m      6\u001b[0m \u001b[1;31m# Assuming X_train, y_train, X_val, y_val are your training and validation datasets\u001b[0m\u001b[1;33m\u001b[0m\u001b[1;33m\u001b[0m\u001b[1;33m\u001b[0m\u001b[0m\n\u001b[1;32m----> 7\u001b[1;33m \u001b[0mhistory\u001b[0m \u001b[1;33m=\u001b[0m \u001b[0mmodel\u001b[0m\u001b[1;33m.\u001b[0m\u001b[0mfit\u001b[0m\u001b[1;33m(\u001b[0m\u001b[0mtraining_padded\u001b[0m\u001b[1;33m,\u001b[0m \u001b[0mtraindata\u001b[0m\u001b[1;33m[\u001b[0m\u001b[1;34m'num_label'\u001b[0m\u001b[1;33m]\u001b[0m\u001b[1;33m,\u001b[0m \u001b[0mepochs\u001b[0m\u001b[1;33m=\u001b[0m\u001b[1;36m20\u001b[0m\u001b[1;33m,\u001b[0m \u001b[0mbatch_size\u001b[0m\u001b[1;33m=\u001b[0m\u001b[1;36m32\u001b[0m\u001b[1;33m,\u001b[0m \u001b[0mvalidation_data\u001b[0m\u001b[1;33m=\u001b[0m\u001b[1;33m(\u001b[0m\u001b[0mvalidation_padded\u001b[0m\u001b[1;33m,\u001b[0m \u001b[0mvaldata\u001b[0m\u001b[1;33m[\u001b[0m\u001b[1;34m'num_label'\u001b[0m\u001b[1;33m]\u001b[0m\u001b[1;33m)\u001b[0m\u001b[1;33m,\u001b[0m \u001b[0mcallbacks\u001b[0m\u001b[1;33m=\u001b[0m\u001b[1;33m[\u001b[0m\u001b[0mearly_stopping\u001b[0m\u001b[1;33m]\u001b[0m\u001b[1;33m)\u001b[0m\u001b[1;33m\u001b[0m\u001b[1;33m\u001b[0m\u001b[0m\n\u001b[0m",
      "\u001b[1;32mD:\\Anacondas\\envs\\newenv\\lib\\site-packages\\keras\\utils\\traceback_utils.py\u001b[0m in \u001b[0;36merror_handler\u001b[1;34m(*args, **kwargs)\u001b[0m\n",
      "\u001b[1;32mD:\\Anacondas\\envs\\newenv\\lib\\site-packages\\keras\\engine\\training.py\u001b[0m in \u001b[0;36mfit\u001b[1;34m(self, x, y, batch_size, epochs, verbose, callbacks, validation_split, validation_data, shuffle, class_weight, sample_weight, initial_epoch, steps_per_epoch, validation_steps, validation_batch_size, validation_freq, max_queue_size, workers, use_multiprocessing)\u001b[0m\n",
      "\u001b[1;32mD:\\Anacondas\\envs\\newenv\\lib\\site-packages\\tensorflow\\python\\util\\traceback_utils.py\u001b[0m in \u001b[0;36merror_handler\u001b[1;34m(*args, **kwargs)\u001b[0m\n",
      "\u001b[1;32mD:\\Anacondas\\envs\\newenv\\lib\\site-packages\\tensorflow\\python\\eager\\def_function.py\u001b[0m in \u001b[0;36m__call__\u001b[1;34m(self, *args, **kwds)\u001b[0m\n\u001b[0;32m    913\u001b[0m     \u001b[1;32mreturn\u001b[0m \u001b[0mself\u001b[0m\u001b[1;33m.\u001b[0m\u001b[0m_function_spec\u001b[0m\u001b[1;33m.\u001b[0m\u001b[0minput_signature\u001b[0m\u001b[1;33m\u001b[0m\u001b[1;33m\u001b[0m\u001b[0m\n\u001b[0;32m    914\u001b[0m \u001b[1;33m\u001b[0m\u001b[0m\n\u001b[1;32m--> 915\u001b[1;33m   \u001b[1;33m@\u001b[0m\u001b[0mproperty\u001b[0m\u001b[1;33m\u001b[0m\u001b[1;33m\u001b[0m\u001b[0m\n\u001b[0m\u001b[0;32m    916\u001b[0m   \u001b[1;32mdef\u001b[0m \u001b[0mfunction_spec\u001b[0m\u001b[1;33m(\u001b[0m\u001b[0mself\u001b[0m\u001b[1;33m)\u001b[0m\u001b[1;33m:\u001b[0m\u001b[1;33m\u001b[0m\u001b[1;33m\u001b[0m\u001b[0m\n\u001b[0;32m    917\u001b[0m     \u001b[1;32mreturn\u001b[0m \u001b[0mself\u001b[0m\u001b[1;33m.\u001b[0m\u001b[0m_function_spec\u001b[0m\u001b[1;33m\u001b[0m\u001b[1;33m\u001b[0m\u001b[0m\n",
      "\u001b[1;32mD:\\Anacondas\\envs\\newenv\\lib\\site-packages\\tensorflow\\python\\eager\\def_function.py\u001b[0m in \u001b[0;36m_call\u001b[1;34m(self, *args, **kwds)\u001b[0m\n\u001b[0;32m    945\u001b[0m               resource_variable_ops.var_is_initialized_op(v.handle))\n\u001b[0;32m    946\u001b[0m         \u001b[0mvar_is_initialized\u001b[0m \u001b[1;33m=\u001b[0m \u001b[0marray_ops\u001b[0m\u001b[1;33m.\u001b[0m\u001b[0mstack\u001b[0m\u001b[1;33m(\u001b[0m\u001b[0mvar_is_initialized\u001b[0m\u001b[1;33m)\u001b[0m\u001b[1;33m.\u001b[0m\u001b[0mnumpy\u001b[0m\u001b[1;33m(\u001b[0m\u001b[1;33m)\u001b[0m\u001b[1;33m\u001b[0m\u001b[1;33m\u001b[0m\u001b[0m\n\u001b[1;32m--> 947\u001b[1;33m \u001b[1;33m\u001b[0m\u001b[0m\n\u001b[0m\u001b[0;32m    948\u001b[0m       \u001b[0minits\u001b[0m \u001b[1;33m=\u001b[0m \u001b[1;33m[\u001b[0m\u001b[1;33m]\u001b[0m\u001b[1;33m\u001b[0m\u001b[1;33m\u001b[0m\u001b[0m\n\u001b[0;32m    949\u001b[0m       \u001b[1;32mfor\u001b[0m \u001b[1;33m(\u001b[0m\u001b[0mv\u001b[0m\u001b[1;33m,\u001b[0m \u001b[0minit\u001b[0m\u001b[1;33m)\u001b[0m\u001b[1;33m,\u001b[0m \u001b[0mis_initialized\u001b[0m \u001b[1;32min\u001b[0m \u001b[0mzip\u001b[0m\u001b[1;33m(\u001b[0m\u001b[0minitializers\u001b[0m\u001b[1;33m,\u001b[0m \u001b[0mvar_is_initialized\u001b[0m\u001b[1;33m)\u001b[0m\u001b[1;33m:\u001b[0m\u001b[1;33m\u001b[0m\u001b[1;33m\u001b[0m\u001b[0m\n",
      "\u001b[1;32mD:\\Anacondas\\envs\\newenv\\lib\\site-packages\\tensorflow\\python\\eager\\function.py\u001b[0m in \u001b[0;36m__call__\u001b[1;34m(self, *args, **kwargs)\u001b[0m\n\u001b[0;32m   2495\u001b[0m     \"\"\"\n\u001b[0;32m   2496\u001b[0m     \u001b[0margs\u001b[0m \u001b[1;33m=\u001b[0m \u001b[0mlist\u001b[0m\u001b[1;33m(\u001b[0m\u001b[0mself\u001b[0m\u001b[1;33m.\u001b[0m\u001b[0m_arg_names\u001b[0m\u001b[1;33m)\u001b[0m\u001b[1;33m\u001b[0m\u001b[1;33m\u001b[0m\u001b[0m\n\u001b[1;32m-> 2497\u001b[1;33m     \u001b[1;32mif\u001b[0m \u001b[0mdefault_values\u001b[0m\u001b[1;33m:\u001b[0m\u001b[1;33m\u001b[0m\u001b[1;33m\u001b[0m\u001b[0m\n\u001b[0m\u001b[0;32m   2498\u001b[0m       \u001b[1;32mfor\u001b[0m \u001b[1;33m(\u001b[0m\u001b[0mi\u001b[0m\u001b[1;33m,\u001b[0m \u001b[0mdefault\u001b[0m\u001b[1;33m)\u001b[0m \u001b[1;32min\u001b[0m \u001b[0mself\u001b[0m\u001b[1;33m.\u001b[0m\u001b[0m_arg_indices_to_default_values\u001b[0m\u001b[1;33m.\u001b[0m\u001b[0mitems\u001b[0m\u001b[1;33m(\u001b[0m\u001b[1;33m)\u001b[0m\u001b[1;33m:\u001b[0m\u001b[1;33m\u001b[0m\u001b[1;33m\u001b[0m\u001b[0m\n\u001b[0;32m   2499\u001b[0m         \u001b[0margs\u001b[0m\u001b[1;33m[\u001b[0m\u001b[0mi\u001b[0m\u001b[1;33m]\u001b[0m \u001b[1;33m+=\u001b[0m \u001b[1;34m\"={}\"\u001b[0m\u001b[1;33m.\u001b[0m\u001b[0mformat\u001b[0m\u001b[1;33m(\u001b[0m\u001b[0mdefault\u001b[0m\u001b[1;33m)\u001b[0m\u001b[1;33m\u001b[0m\u001b[1;33m\u001b[0m\u001b[0m\n",
      "\u001b[1;32mD:\\Anacondas\\envs\\newenv\\lib\\site-packages\\tensorflow\\python\\eager\\function.py\u001b[0m in \u001b[0;36m_call_flat\u001b[1;34m(self, args, captured_inputs, cancellation_manager)\u001b[0m\n\u001b[0;32m   1861\u001b[0m     \u001b[0mReturns\u001b[0m\u001b[1;33m:\u001b[0m\u001b[1;33m\u001b[0m\u001b[1;33m\u001b[0m\u001b[0m\n\u001b[0;32m   1862\u001b[0m       \u001b[0mThe\u001b[0m \u001b[0mresult\u001b[0m \u001b[0mof\u001b[0m \u001b[0mapplying\u001b[0m \u001b[0mthe\u001b[0m \u001b[0mTF\u001b[0m \u001b[0mfunction\u001b[0m \u001b[0mto\u001b[0m\u001b[0;31m \u001b[0m\u001b[0;31m`\u001b[0m\u001b[0margs\u001b[0m\u001b[0;31m`\u001b[0m\u001b[1;33m.\u001b[0m\u001b[1;33m\u001b[0m\u001b[1;33m\u001b[0m\u001b[0m\n\u001b[1;32m-> 1863\u001b[1;33m \u001b[1;33m\u001b[0m\u001b[0m\n\u001b[0m\u001b[0;32m   1864\u001b[0m     \u001b[0mRaises\u001b[0m\u001b[1;33m:\u001b[0m\u001b[1;33m\u001b[0m\u001b[1;33m\u001b[0m\u001b[0m\n\u001b[0;32m   1865\u001b[0m       \u001b[0mValueError\u001b[0m\u001b[1;33m:\u001b[0m \u001b[0mIf\u001b[0m\u001b[0;31m \u001b[0m\u001b[0;31m`\u001b[0m\u001b[0margs\u001b[0m\u001b[0;31m`\u001b[0m \u001b[0mcontains\u001b[0m \u001b[0manything\u001b[0m \u001b[0mother\u001b[0m \u001b[0mthan\u001b[0m \u001b[0mTensors\u001b[0m \u001b[1;32mor\u001b[0m \u001b[0mVariables\u001b[0m\u001b[1;33m.\u001b[0m\u001b[1;33m\u001b[0m\u001b[1;33m\u001b[0m\u001b[0m\n",
      "\u001b[1;32mD:\\Anacondas\\envs\\newenv\\lib\\site-packages\\tensorflow\\python\\eager\\function.py\u001b[0m in \u001b[0;36mcall\u001b[1;34m(self, ctx, args, cancellation_manager)\u001b[0m\n\u001b[0;32m    502\u001b[0m   \u001b[1;32mdef\u001b[0m \u001b[0mname\u001b[0m\u001b[1;33m(\u001b[0m\u001b[0mself\u001b[0m\u001b[1;33m)\u001b[0m\u001b[1;33m:\u001b[0m\u001b[1;33m\u001b[0m\u001b[1;33m\u001b[0m\u001b[0m\n\u001b[0;32m    503\u001b[0m     \u001b[1;32mreturn\u001b[0m \u001b[0mself\u001b[0m\u001b[1;33m.\u001b[0m\u001b[0m_name\u001b[0m\u001b[1;33m\u001b[0m\u001b[1;33m\u001b[0m\u001b[0m\n\u001b[1;32m--> 504\u001b[1;33m \u001b[1;33m\u001b[0m\u001b[0m\n\u001b[0m\u001b[0;32m    505\u001b[0m   \u001b[1;33m@\u001b[0m\u001b[0mproperty\u001b[0m\u001b[1;33m\u001b[0m\u001b[1;33m\u001b[0m\u001b[0m\n\u001b[0;32m    506\u001b[0m   \u001b[1;32mdef\u001b[0m \u001b[0mstateful_ops\u001b[0m\u001b[1;33m(\u001b[0m\u001b[0mself\u001b[0m\u001b[1;33m)\u001b[0m\u001b[1;33m:\u001b[0m\u001b[1;33m\u001b[0m\u001b[1;33m\u001b[0m\u001b[0m\n",
      "\u001b[1;32mD:\\Anacondas\\envs\\newenv\\lib\\site-packages\\tensorflow\\python\\eager\\execute.py\u001b[0m in \u001b[0;36mquick_execute\u001b[1;34m(op_name, num_outputs, inputs, attrs, ctx, name)\u001b[0m\n\u001b[0;32m     53\u001b[0m     \u001b[0mAn\u001b[0m \u001b[0mexception\u001b[0m \u001b[0mon\u001b[0m \u001b[0merror\u001b[0m\u001b[1;33m.\u001b[0m\u001b[1;33m\u001b[0m\u001b[1;33m\u001b[0m\u001b[0m\n\u001b[0;32m     54\u001b[0m   \"\"\"\n\u001b[1;32m---> 55\u001b[1;33m   \u001b[0mdevice_name\u001b[0m \u001b[1;33m=\u001b[0m \u001b[0mctx\u001b[0m\u001b[1;33m.\u001b[0m\u001b[0mdevice_name\u001b[0m\u001b[1;33m\u001b[0m\u001b[1;33m\u001b[0m\u001b[0m\n\u001b[0m\u001b[0;32m     56\u001b[0m   \u001b[1;31m# pylint: disable=protected-access\u001b[0m\u001b[1;33m\u001b[0m\u001b[1;33m\u001b[0m\u001b[1;33m\u001b[0m\u001b[0m\n\u001b[0;32m     57\u001b[0m   \u001b[1;32mtry\u001b[0m\u001b[1;33m:\u001b[0m\u001b[1;33m\u001b[0m\u001b[1;33m\u001b[0m\u001b[0m\n",
      "\u001b[1;31mKeyboardInterrupt\u001b[0m: "
     ]
    }
   ],
   "source": [
    "model.compile(loss='sparse_categorical_crossentropy', optimizer='adam', metrics=['accuracy'])\n",
    "\n",
    "# Define early stopping callback\n",
    "early_stopping = tf.keras.callbacks.EarlyStopping(monitor='val_loss', patience=3, restore_best_weights=True)\n",
    "\n",
    "# Assuming X_train, y_train, X_val, y_val are your training and validation datasets\n",
    "history = model.fit(training_padded, traindata['num_label'], epochs=20, batch_size=32, validation_data=(validation_padded, valdata['num_label']))"
   ]
  },
  {
   "cell_type": "code",
   "execution_count": 65,
   "id": "0e02400e",
   "metadata": {
    "id": "0e02400e",
    "outputId": "0f4a4d5e-0f3a-4262-c4dd-9f3fa692b7ed"
   },
   "outputs": [
    {
     "data": {
      "image/png": "[encoded data removed]",
      "text/plain": [
       "<Figure size 640x480 with 1 Axes>"
      ]
     },
     "metadata": {},
     "output_type": "display_data"
    },
    {
     "data": {
      "image/png": "[encoded data removed]",
      "text/plain": [
       "<Figure size 640x480 with 1 Axes>"
      ]
     },
     "metadata": {},
     "output_type": "display_data"
    }
   ],
   "source": [
    "import matplotlib.pyplot as plt\n",
    "\n",
    "# Plot utility\n",
    "def plot_graphs(history, string):\n",
    "  plt.plot(history.history[string])\n",
    "  plt.plot(history.history['val_'+string])\n",
    "  plt.xlabel(\"Epochs\")\n",
    "  plt.ylabel(string)\n",
    "  plt.legend([string, 'val_'+string])\n",
    "  plt.show()\n",
    "\n",
    "# Plot the accuracy and loss\n",
    "plot_graphs(history, \"accuracy\")\n",
    "plot_graphs(history, \"loss\")"
   ]
  },
  {
   "cell_type": "markdown",
   "id": "cb8e3af7",
   "metadata": {},
   "source": [
    "## Predicting"
   ]
  },
  {
   "cell_type": "code",
   "execution_count": 66,
   "id": "07015ad9",
   "metadata": {},
   "outputs": [
    {
     "data": {
      "text/plain": [
       "'Brosis, hari ini gue lagi on the way ke kampus bareng pacar, tiba-tiba ada anjing yang ngejar-ngejar gue, bikin deg-degan banget, ya Allah! Trus pas nyampe kampus, parkiran full banget, sampe gue sama pacar muter-muter gak dapet-dapet tempat parkir. Akhirnya, kita berdua telat masuk kelas deh! Pas udah masuk, dosen langsung nyerocos ngomel-ngomel gara-gara telat. Capek banget hari ini, apalagi sama pacar.'"
      ]
     },
     "execution_count": 66,
     "metadata": {},
     "output_type": "execute_result"
    }
   ],
   "source": [
    "text = ''\"Brosis, hari ini gue lagi on the way ke kampus bareng pacar, tiba-tiba ada anjing yang ngejar-ngejar gue, bikin deg-degan banget, ya Allah! Trus pas nyampe kampus, parkiran full banget, sampe gue sama pacar muter-muter gak dapet-dapet tempat parkir. Akhirnya, kita berdua telat masuk kelas deh! Pas udah masuk, dosen langsung nyerocos ngomel-ngomel gara-gara telat. Capek banget hari ini, apalagi sama pacar.\"\n",
    "text"
   ]
  },
  {
   "cell_type": "code",
   "execution_count": 67,
   "id": "db1fdeb2",
   "metadata": {},
   "outputs": [],
   "source": [
    "#data test preprocessing\n",
    "\n",
    "def prep_test(review):\n",
    "    review = lowercase(review)\n",
    "    review = remove_url(review)\n",
    "    review = remove_irrelevant(review)\n",
    "    review = remove_space(review)\n",
    "    review = remove_emoji(review)\n",
    "    review = repeat_char(review)\n",
    "    review = remove_stopwords(review)\n",
    "    text = [review]\n",
    "    inference_sequences = tokenizer.texts_to_sequences(text)\n",
    "    inference_padded = pad_sequences(inference_sequences, padding=padding_type, maxlen=max_length)\n",
    "    return inference_padded"
   ]
  },
  {
   "cell_type": "code",
   "execution_count": 68,
   "id": "849f0473",
   "metadata": {},
   "outputs": [
    {
     "data": {
      "text/plain": [
       "array([[   1,    5,  711,  189, 2793, 1351,  407,  280,  276, 3836, 3836,\n",
       "           5,   40,  702, 1418,    8,    7,   71,    1,   43,    1, 1351,\n",
       "        3507, 2729,    8, 2649,    5,  280, 2722, 2722, 1465,    1,    1,\n",
       "        1407,  672, 1043,   79,  136,   48,   43, 1574,   79, 2034,   87,\n",
       "           1, 2679, 2679,  152,  152, 1043,  810,    8,  280,    0,    0,\n",
       "           0,    0,    0,    0,    0,    0,    0,    0,    0,    0,    0,\n",
       "           0,    0,    0,    0,    0,    0,    0,    0,    0,    0,    0,\n",
       "           0,    0,    0,    0,    0,    0,    0,    0,    0,    0,    0,\n",
       "           0,    0,    0,    0,    0,    0,    0,    0,    0,    0,    0,\n",
       "           0,    0,    0,    0,    0,    0,    0,    0,    0,    0,    0,\n",
       "           0,    0,    0,    0,    0,    0,    0,    0,    0,    0,    0,\n",
       "           0,    0,    0,    0,    0,    0,    0,    0,    0,    0,    0,\n",
       "           0,    0,    0,    0,    0,    0,    0,    0,    0,    0,    0,\n",
       "           0,    0,    0,    0,    0,    0,    0,    0,    0,    0,    0,\n",
       "           0,    0,    0,    0,    0,    0,    0,    0,    0,    0,    0,\n",
       "           0,    0,    0,    0,    0,    0,    0,    0,    0,    0,    0,\n",
       "           0,    0,    0,    0,    0,    0,    0,    0,    0,    0,    0,\n",
       "           0,    0,    0,    0,    0,    0,    0,    0,    0,    0,    0,\n",
       "           0,    0,    0,    0,    0,    0,    0,    0,    0,    0,    0,\n",
       "           0,    0,    0,    0,    0,    0,    0,    0,    0,    0,    0,\n",
       "           0,    0,    0,    0,    0,    0,    0,    0,    0,    0,    0,\n",
       "           0,    0,    0,    0,    0,    0,    0,    0,    0,    0,    0,\n",
       "           0,    0,    0,    0,    0,    0,    0,    0,    0,    0,    0,\n",
       "           0,    0,    0,    0,    0,    0,    0,    0,    0,    0,    0,\n",
       "           0,    0,    0,    0,    0,    0,    0,    0,    0,    0,    0,\n",
       "           0,    0,    0,    0,    0,    0,    0,    0,    0,    0,    0,\n",
       "           0,    0,    0,    0,    0,    0,    0,    0,    0,    0,    0,\n",
       "           0,    0,    0,    0,    0,    0,    0,    0,    0,    0,    0,\n",
       "           0,    0,    0,    0,    0,    0,    0,    0,    0,    0,    0,\n",
       "           0,    0,    0,    0,    0,    0,    0,    0,    0,    0,    0,\n",
       "           0,    0,    0,    0,    0,    0,    0,    0,    0,    0,    0,\n",
       "           0,    0,    0,    0,    0,    0,    0,    0,    0,    0,    0,\n",
       "           0,    0,    0,    0,    0,    0,    0,    0,    0,    0,    0,\n",
       "           0,    0,    0,    0,    0,    0,    0,    0,    0,    0,    0,\n",
       "           0,    0,    0,    0,    0,    0,    0,    0,    0,    0,    0,\n",
       "           0,    0,    0,    0,    0,    0,    0,    0,    0,    0,    0,\n",
       "           0,    0,    0,    0,    0,    0,    0,    0,    0,    0,    0,\n",
       "           0,    0,    0,    0,    0,    0,    0,    0,    0,    0,    0,\n",
       "           0,    0,    0,    0,    0,    0,    0,    0,    0,    0,    0,\n",
       "           0,    0,    0,    0,    0,    0,    0,    0,    0,    0,    0,\n",
       "           0,    0,    0,    0,    0,    0,    0,    0,    0,    0,    0,\n",
       "           0,    0,    0,    0,    0,    0,    0,    0,    0,    0,    0,\n",
       "           0,    0,    0,    0,    0,    0,    0,    0,    0,    0,    0,\n",
       "           0,    0,    0,    0,    0,    0,    0,    0,    0,    0,    0,\n",
       "           0,    0,    0,    0,    0,    0,    0,    0,    0,    0,    0,\n",
       "           0,    0,    0,    0,    0]])"
      ]
     },
     "execution_count": 68,
     "metadata": {},
     "output_type": "execute_result"
    }
   ],
   "source": [
    "test_padded = prep_test(text)\n",
    "test_padded"
   ]
  },
  {
   "cell_type": "code",
   "execution_count": 69,
   "id": "055fafab",
   "metadata": {},
   "outputs": [],
   "source": [
    "def prediction(test):\n",
    "    label = [\"anger\", \"fear\", \"joy\", \"sadness\"]\n",
    "    result = model.predict(test)\n",
    "    index = np.argmax(result)\n",
    "    hasil = label[index]\n",
    "    return hasil"
   ]
  },
  {
   "cell_type": "code",
   "execution_count": 70,
   "id": "39335f5e",
   "metadata": {},
   "outputs": [
    {
     "name": "stdout",
     "output_type": "stream",
     "text": [
      "1/1 [==============================] - 2s 2s/step\n"
     ]
    },
    {
     "data": {
      "text/plain": [
       "'anger'"
      ]
     },
     "execution_count": 70,
     "metadata": {},
     "output_type": "execute_result"
    }
   ],
   "source": [
    "prediction(test_padded)"
   ]
  },
  {
   "cell_type": "code",
   "execution_count": 71,
   "id": "723cf74e",
   "metadata": {},
   "outputs": [
    {
     "name": "stdout",
     "output_type": "stream",
     "text": [
      "1/1 [==============================] - 0s 47ms/step\n"
     ]
    },
    {
     "data": {
      "text/plain": [
       "array([[9.82033968e-01, 5.59152151e-03, 2.85112066e-04, 1.20894285e-02]],\n",
       "      dtype=float32)"
      ]
     },
     "execution_count": 71,
     "metadata": {},
     "output_type": "execute_result"
    }
   ],
   "source": [
    "model.predict(test_padded)"
   ]
  },
  {
   "cell_type": "code",
   "execution_count": null,
   "id": "e325592d",
   "metadata": {},
   "outputs": [],
   "source": []
  },
  {
   "cell_type": "code",
   "execution_count": 72,
   "id": "15230aac",
   "metadata": {},
   "outputs": [],
   "source": [
    "validation_sequences = tokenizer.texts_to_sequences(valdata['filtering'])\n",
    "validation_padded = pad_sequences(validation_sequences, maxlen=max_length, padding=padding_type, truncating=trunc_type)"
   ]
  },
  {
   "cell_type": "code",
   "execution_count": 73,
   "id": "0f289e5d",
   "metadata": {},
   "outputs": [
    {
     "data": {
      "text/plain": [
       "array([[ 159,  323,  909, ...,    0,    0,    0],\n",
       "       [   3,   28,  466, ...,    0,    0,    0],\n",
       "       [2011,   70,  144, ...,    0,    0,    0],\n",
       "       ...,\n",
       "       [   1,   27,    1, ...,    0,    0,    0],\n",
       "       [ 396,    4,    1, ...,    0,    0,    0],\n",
       "       [   6,  181,  632, ...,    0,    0,    0]])"
      ]
     },
     "execution_count": 73,
     "metadata": {},
     "output_type": "execute_result"
    }
   ],
   "source": [
    "validation_padded"
   ]
  },
  {
   "cell_type": "code",
   "execution_count": 74,
   "id": "5a9659d9",
   "metadata": {},
   "outputs": [
    {
     "name": "stdout",
     "output_type": "stream",
     "text": [
      "133/133 [==============================] - 9s 66ms/step\n"
     ]
    }
   ],
   "source": [
    "result = model.predict(validation_padded)"
   ]
  },
  {
   "cell_type": "code",
   "execution_count": 75,
   "id": "c77938b1",
   "metadata": {},
   "outputs": [
    {
     "data": {
      "text/plain": [
       "array([[1.5580925e-08, 1.2760960e-07, 9.9994487e-01, 5.4962646e-05],\n",
       "       [9.5451277e-01, 1.2390492e-02, 2.1515999e-03, 3.0945159e-02],\n",
       "       [5.4235119e-05, 1.5666430e-04, 9.9516398e-01, 4.6250126e-03],\n",
       "       ...,\n",
       "       [1.4460502e-05, 3.0573294e-05, 9.9847633e-01, 1.4786959e-03],\n",
       "       [8.9037674e-04, 9.9488407e-01, 1.5154277e-03, 2.7101596e-03],\n",
       "       [2.9904072e-07, 1.8549039e-06, 9.9970239e-01, 2.9539410e-04]],\n",
       "      dtype=float32)"
      ]
     },
     "execution_count": 75,
     "metadata": {},
     "output_type": "execute_result"
    }
   ],
   "source": [
    "result"
   ]
  },
  {
   "cell_type": "code",
   "execution_count": 76,
   "id": "35467706",
   "metadata": {},
   "outputs": [
    {
     "data": {
      "text/plain": [
       "array([2, 0, 2, ..., 2, 1, 2], dtype=int64)"
      ]
     },
     "execution_count": 76,
     "metadata": {},
     "output_type": "execute_result"
    }
   ],
   "source": [
    "# Get the index of the maximum probability for each row\n",
    "predicted_labels = np.argmax(result, axis=1)\n",
    "predicted_labels"
   ]
  },
  {
   "cell_type": "code",
   "execution_count": 3,
   "id": "1a2b64ac",
   "metadata": {},
   "outputs": [
    {
     "ename": "NameError",
     "evalue": "name 'np' is not defined",
     "output_type": "error",
     "traceback": [
      "\u001b[1;31m---------------------------------------------------------------------------\u001b[0m",
      "\u001b[1;31mNameError\u001b[0m                                 Traceback (most recent call last)",
      "\u001b[1;32m~\\AppData\\Local\\Temp\\ipykernel_58356\\38654676.py\u001b[0m in \u001b[0;36m<module>\u001b[1;34m\u001b[0m\n\u001b[0;32m      5\u001b[0m \u001b[1;31m# Assuming y_true contains the true labels and y_pred contains the predicted labels\u001b[0m\u001b[1;33m\u001b[0m\u001b[1;33m\u001b[0m\u001b[1;33m\u001b[0m\u001b[0m\n\u001b[0;32m      6\u001b[0m \u001b[1;31m# Replace y_true and y_pred with your actual data\u001b[0m\u001b[1;33m\u001b[0m\u001b[1;33m\u001b[0m\u001b[1;33m\u001b[0m\u001b[0m\n\u001b[1;32m----> 7\u001b[1;33m \u001b[0my_true\u001b[0m \u001b[1;33m=\u001b[0m \u001b[0mnp\u001b[0m\u001b[1;33m.\u001b[0m\u001b[0marray\u001b[0m\u001b[1;33m(\u001b[0m\u001b[0mvaldata\u001b[0m\u001b[1;33m[\u001b[0m\u001b[1;34m'num_label'\u001b[0m\u001b[1;33m]\u001b[0m\u001b[1;33m)\u001b[0m \u001b[1;31m# True labels\u001b[0m\u001b[1;33m\u001b[0m\u001b[1;33m\u001b[0m\u001b[0m\n\u001b[0m\u001b[0;32m      8\u001b[0m \u001b[0my_pred\u001b[0m \u001b[1;33m=\u001b[0m \u001b[0mpredicted_labels\u001b[0m  \u001b[1;31m# Predicted labels\u001b[0m\u001b[1;33m\u001b[0m\u001b[1;33m\u001b[0m\u001b[0m\n\u001b[0;32m      9\u001b[0m \u001b[1;33m\u001b[0m\u001b[0m\n",
      "\u001b[1;31mNameError\u001b[0m: name 'np' is not defined"
     ]
    }
   ],
   "source": [
    "from sklearn.metrics import confusion_matrix\n",
    "import matplotlib.pyplot as plt\n",
    "import seaborn as sns\n",
    "\n",
    "# Assuming y_true contains the true labels and y_pred contains the predicted labels\n",
    "# Replace y_true and y_pred with your actual data\n",
    "y_true = np.array(valdata['num_label']) # True labels\n",
    "y_pred = predicted_labels  # Predicted labels\n",
    "\n",
    "# Create the confusion matrix\n",
    "label = [\"anger\", \"fear\", \"joy\", \"sadness\"]\n",
    "conf_matrix = confusion_matrix(y_true, y_pred)\n",
    "sns.heatmap(conf_matrix, cmap=\"Blues\", annot = True, fmt='d', xticklabels=label, yticklabels=label)\n",
    "plt.xlabel('Predicted labels')\n",
    "plt.ylabel('True labels')\n",
    "plt.title('Confusion Matrix')\n",
    "plt.show()\n"
   ]
  },
  {
   "cell_type": "code",
   "execution_count": 2,
   "id": "e695bff4",
   "metadata": {},
   "outputs": [
    {
     "ename": "NameError",
     "evalue": "name 'y_true' is not defined",
     "output_type": "error",
     "traceback": [
      "\u001b[1;31m---------------------------------------------------------------------------\u001b[0m",
      "\u001b[1;31mNameError\u001b[0m                                 Traceback (most recent call last)",
      "\u001b[1;32m~\\AppData\\Local\\Temp\\ipykernel_58356\\3167546270.py\u001b[0m in \u001b[0;36m<module>\u001b[1;34m\u001b[0m\n\u001b[0;32m      4\u001b[0m \u001b[1;33m\u001b[0m\u001b[0m\n\u001b[0;32m      5\u001b[0m \u001b[1;31m# Calculate accuracy\u001b[0m\u001b[1;33m\u001b[0m\u001b[1;33m\u001b[0m\u001b[1;33m\u001b[0m\u001b[0m\n\u001b[1;32m----> 6\u001b[1;33m \u001b[0maccuracy\u001b[0m \u001b[1;33m=\u001b[0m \u001b[0maccuracy_score\u001b[0m\u001b[1;33m(\u001b[0m\u001b[0my_true\u001b[0m\u001b[1;33m,\u001b[0m \u001b[0my_pred\u001b[0m\u001b[1;33m)\u001b[0m\u001b[1;33m\u001b[0m\u001b[1;33m\u001b[0m\u001b[0m\n\u001b[0m\u001b[0;32m      7\u001b[0m \u001b[1;33m\u001b[0m\u001b[0m\n\u001b[0;32m      8\u001b[0m \u001b[1;31m# Print accuracy\u001b[0m\u001b[1;33m\u001b[0m\u001b[1;33m\u001b[0m\u001b[1;33m\u001b[0m\u001b[0m\n",
      "\u001b[1;31mNameError\u001b[0m: name 'y_true' is not defined"
     ]
    }
   ],
   "source": [
    "# Assuming you have true labels stored in 'true_labels' and predicted labels stored in 'predicted_labels'\n",
    "\n",
    "from sklearn.metrics import accuracy_score\n",
    "\n",
    "# Calculate accuracy\n",
    "accuracy = accuracy_score(y_true, y_pred)\n",
    "\n",
    "# Print accuracy\n",
    "print(\"Accuracy:\", accuracy)\n"
   ]
  },
  {
   "cell_type": "code",
   "execution_count": null,
   "id": "cf94d542",
   "metadata": {},
   "outputs": [],
   "source": []
  },
  {
   "cell_type": "code",
   "execution_count": null,
   "id": "d29a100b",
   "metadata": {},
   "outputs": [],
   "source": []
  },
  {
   "cell_type": "code",
   "execution_count": null,
   "id": "80c005bd",
   "metadata": {},
   "outputs": [],
   "source": []
  },
  {
   "cell_type": "code",
   "execution_count": null,
   "id": "2752f623",
   "metadata": {},
   "outputs": [],
   "source": []
  },
  {
   "cell_type": "code",
   "execution_count": null,
   "id": "3e6a161d",
   "metadata": {},
   "outputs": [],
   "source": []
  },
  {
   "cell_type": "code",
   "execution_count": null,
   "id": "cfbe06ae",
   "metadata": {},
   "outputs": [],
   "source": []
  },
  {
   "cell_type": "code",
   "execution_count": null,
   "id": "23973f46",
   "metadata": {},
   "outputs": [],
   "source": []
  },
  {
   "cell_type": "code",
   "execution_count": null,
   "id": "31a4c610",
   "metadata": {},
   "outputs": [],
   "source": []
  },
  {
   "cell_type": "code",
   "execution_count": null,
   "id": "bd1f4a52",
   "metadata": {},
   "outputs": [],
   "source": []
  },
  {
   "cell_type": "code",
   "execution_count": null,
   "id": "75c706c1",
   "metadata": {},
   "outputs": [],
   "source": []
  },
  {
   "cell_type": "code",
   "execution_count": 97,
   "id": "988ddc89",
   "metadata": {},
   "outputs": [
    {
     "ename": "AttributeError",
     "evalue": "'Sequential' object has no attribute 'pred'",
     "output_type": "error",
     "traceback": [
      "\u001b[1;31m---------------------------------------------------------------------------\u001b[0m",
      "\u001b[1;31mAttributeError\u001b[0m                            Traceback (most recent call last)",
      "\u001b[1;32m~\\AppData\\Local\\Temp\\ipykernel_7492\\858295374.py\u001b[0m in \u001b[0;36m<module>\u001b[1;34m\u001b[0m\n\u001b[1;32m----> 1\u001b[1;33m \u001b[0mmodel\u001b[0m\u001b[1;33m.\u001b[0m\u001b[0mpred\u001b[0m\u001b[1;33m(\u001b[0m\u001b[1;33m)\u001b[0m\u001b[1;33m\u001b[0m\u001b[1;33m\u001b[0m\u001b[0m\n\u001b[0m",
      "\u001b[1;31mAttributeError\u001b[0m: 'Sequential' object has no attribute 'pred'"
     ]
    }
   ],
   "source": [
    "model.pred()"
   ]
  },
  {
   "cell_type": "code",
   "execution_count": 86,
   "id": "c53750d1",
   "metadata": {},
   "outputs": [],
   "source": [
    "# Generate and pad the validation sequences\n",
    "all_sequences = tokenizer.texts_to_sequences(train['filtering'])\n",
    "all_padded = pad_sequences(all_sequences, maxlen=max_length, padding=padding_type, truncating=trunc_type)\n",
    "\n",
    "\n",
    "\n"
   ]
  },
  {
   "cell_type": "code",
   "execution_count": 87,
   "id": "e86fc436",
   "metadata": {},
   "outputs": [
    {
     "name": "stdout",
     "output_type": "stream",
     "text": [
      "661/661 [==============================] - 46s 69ms/step\n"
     ]
    },
    {
     "data": {
      "text/plain": [
       "array([[2.6782489e-04, 9.9903399e-01, 9.5507108e-05, 6.0260203e-04],\n",
       "       [1.5154089e-03, 1.8960432e-03, 2.3063920e-03, 9.9428213e-01],\n",
       "       [1.0464153e-06, 3.8747753e-06, 9.9960274e-01, 3.9243384e-04],\n",
       "       ...,\n",
       "       [1.4460502e-05, 3.0573294e-05, 9.9847633e-01, 1.4786959e-03],\n",
       "       [8.9037674e-04, 9.9488407e-01, 1.5154277e-03, 2.7101596e-03],\n",
       "       [2.9904072e-07, 1.8549039e-06, 9.9970239e-01, 2.9539410e-04]],\n",
       "      dtype=float32)"
      ]
     },
     "execution_count": 87,
     "metadata": {},
     "output_type": "execute_result"
    }
   ],
   "source": [
    "hasil = model.predict(all_padded)\n",
    "hasil"
   ]
  },
  {
   "cell_type": "code",
   "execution_count": 88,
   "id": "93565f1f",
   "metadata": {},
   "outputs": [
    {
     "data": {
      "text/plain": [
       "array([1, 3, 2, ..., 2, 1, 2], dtype=int64)"
      ]
     },
     "execution_count": 88,
     "metadata": {},
     "output_type": "execute_result"
    }
   ],
   "source": [
    "# Get the index of the maximum probability for each row\n",
    "predicted_labels_all = np.argmax(hasil, axis=1)\n",
    "predicted_labels_all"
   ]
  },
  {
   "cell_type": "code",
   "execution_count": 89,
   "id": "91e68d97",
   "metadata": {},
   "outputs": [],
   "source": [
    "datas = train[['filtering',\"num_label\"]]"
   ]
  },
  {
   "cell_type": "code",
   "execution_count": 105,
   "id": "4eb41208",
   "metadata": {},
   "outputs": [
    {
     "ename": "NameError",
     "evalue": "name 'df1' is not defined",
     "output_type": "error",
     "traceback": [
      "\u001b[1;31m---------------------------------------------------------------------------\u001b[0m",
      "\u001b[1;31mNameError\u001b[0m                                 Traceback (most recent call last)",
      "\u001b[1;32m~\\AppData\\Local\\Temp\\ipykernel_36432\\3729601537.py\u001b[0m in \u001b[0;36m<module>\u001b[1;34m\u001b[0m\n\u001b[1;32m----> 1\u001b[1;33m \u001b[0mmerged_df\u001b[0m \u001b[1;33m=\u001b[0m \u001b[0mpd\u001b[0m\u001b[1;33m.\u001b[0m\u001b[0mconcat\u001b[0m\u001b[1;33m(\u001b[0m\u001b[1;33m[\u001b[0m\u001b[0mdf1\u001b[0m\u001b[1;33m,\u001b[0m \u001b[0mdf2\u001b[0m\u001b[1;33m]\u001b[0m\u001b[1;33m,\u001b[0m \u001b[0maxis\u001b[0m\u001b[1;33m=\u001b[0m\u001b[1;36m1\u001b[0m\u001b[1;33m)\u001b[0m\u001b[1;33m\u001b[0m\u001b[1;33m\u001b[0m\u001b[0m\n\u001b[0m",
      "\u001b[1;31mNameError\u001b[0m: name 'df1' is not defined"
     ]
    }
   ],
   "source": [
    "label_pred = pd.DataFrame(predicted_labels_all)\n",
    "label_pred"
   ]
  },
  {
   "cell_type": "code",
   "execution_count": 107,
   "id": "d1986c9b",
   "metadata": {},
   "outputs": [
    {
     "data": {
      "text/html": [
       "<div>\n",
       "<style scoped>\n",
       "    .dataframe tbody tr th:only-of-type {\n",
       "        vertical-align: middle;\n",
       "    }\n",
       "\n",
       "    .dataframe tbody tr th {\n",
       "        vertical-align: top;\n",
       "    }\n",
       "\n",
       "    .dataframe thead th {\n",
       "        text-align: right;\n",
       "    }\n",
       "</style>\n",
       "<table border=\"1\" class=\"dataframe\">\n",
       "  <thead>\n",
       "    <tr style=\"text-align: right;\">\n",
       "      <th></th>\n",
       "      <th>filtering</th>\n",
       "      <th>num_label</th>\n",
       "      <th>0</th>\n",
       "    </tr>\n",
       "  </thead>\n",
       "  <tbody>\n",
       "    <tr>\n",
       "      <th>0</th>\n",
       "      <td>username dikasih tau kalbis kayak praktikum ny...</td>\n",
       "      <td>1</td>\n",
       "      <td>1</td>\n",
       "    </tr>\n",
       "    <tr>\n",
       "      <th>1</th>\n",
       "      <td>berguna berdaya hancur</td>\n",
       "      <td>3</td>\n",
       "      <td>3</td>\n",
       "    </tr>\n",
       "    <tr>\n",
       "      <th>2</th>\n",
       "      <td>menenggak pizza jamur kendi bir berbudi luhur</td>\n",
       "      <td>2</td>\n",
       "      <td>2</td>\n",
       "    </tr>\n",
       "    <tr>\n",
       "      <th>3</th>\n",
       "      <td>titik menempatkan putra penitipan anak menerus...</td>\n",
       "      <td>3</td>\n",
       "      <td>3</td>\n",
       "    </tr>\n",
       "    <tr>\n",
       "      <th>4</th>\n",
       "      <td>teknik lumayan aneh banget pas inter passing s...</td>\n",
       "      <td>3</td>\n",
       "      <td>3</td>\n",
       "    </tr>\n",
       "    <tr>\n",
       "      <th>...</th>\n",
       "      <td>...</td>\n",
       "      <td>...</td>\n",
       "      <td>...</td>\n",
       "    </tr>\n",
       "    <tr>\n",
       "      <th>21128</th>\n",
       "      <td>mengambil pindah republik ceko chris mengirimi...</td>\n",
       "      <td>3</td>\n",
       "      <td>3</td>\n",
       "    </tr>\n",
       "    <tr>\n",
       "      <th>21129</th>\n",
       "      <td>anak habis perpisahan wisuda sekolah foto bare...</td>\n",
       "      <td>3</td>\n",
       "      <td>3</td>\n",
       "    </tr>\n",
       "    <tr>\n",
       "      <th>21130</th>\n",
       "      <td>gapaham salah aespa bts fan bts alias army suk...</td>\n",
       "      <td>0</td>\n",
       "      <td>2</td>\n",
       "    </tr>\n",
       "    <tr>\n",
       "      <th>21131</th>\n",
       "      <td>melawan takut membesar conqueringgrowingfear</td>\n",
       "      <td>1</td>\n",
       "      <td>1</td>\n",
       "    </tr>\n",
       "    <tr>\n",
       "      <th>21132</th>\n",
       "      <td>perasaan hubungan produktif</td>\n",
       "      <td>2</td>\n",
       "      <td>2</td>\n",
       "    </tr>\n",
       "  </tbody>\n",
       "</table>\n",
       "<p>21133 rows × 3 columns</p>\n",
       "</div>"
      ],
      "text/plain": [
       "                                               filtering  num_label  0\n",
       "0      username dikasih tau kalbis kayak praktikum ny...          1  1\n",
       "1                                 berguna berdaya hancur          3  3\n",
       "2          menenggak pizza jamur kendi bir berbudi luhur          2  2\n",
       "3      titik menempatkan putra penitipan anak menerus...          3  3\n",
       "4      teknik lumayan aneh banget pas inter passing s...          3  3\n",
       "...                                                  ...        ... ..\n",
       "21128  mengambil pindah republik ceko chris mengirimi...          3  3\n",
       "21129  anak habis perpisahan wisuda sekolah foto bare...          3  3\n",
       "21130  gapaham salah aespa bts fan bts alias army suk...          0  2\n",
       "21131       melawan takut membesar conqueringgrowingfear          1  1\n",
       "21132                        perasaan hubungan produktif          2  2\n",
       "\n",
       "[21133 rows x 3 columns]"
      ]
     },
     "execution_count": 107,
     "metadata": {},
     "output_type": "execute_result"
    }
   ],
   "source": [
    "merged_df = pd.concat([datas, label_pred], axis=1)\n",
    "merged_df"
   ]
  },
  {
   "cell_type": "code",
   "execution_count": 113,
   "id": "cb9aa1c3",
   "metadata": {},
   "outputs": [],
   "source": [
    "aw = merged_df[merged_df['num_label']!=merged_df[0]]\n",
    "aw.to_csv(\"dataxx.csv\",index=False)"
   ]
  },
  {
   "cell_type": "code",
   "execution_count": 108,
   "id": "0619afa1",
   "metadata": {},
   "outputs": [
    {
     "name": "stdout",
     "output_type": "stream",
     "text": [
      "                                           filtering  num_label  hasil\n",
      "0  username dikasih tau kalbis kayak praktikum ny...          1      1\n",
      "1                             berguna berdaya hancur          3      3\n",
      "2      menenggak pizza jamur kendi bir berbudi luhur          2      2\n",
      "3  titik menempatkan putra penitipan anak menerus...          3      3\n",
      "4  teknik lumayan aneh banget pas inter passing s...          3      3\n"
     ]
    }
   ],
   "source": [
    "# Example DataFrame and array\n",
    "# datas = pd.DataFrame({\n",
    "#     'filtering': [...],\n",
    "#     'num_label': [...]\n",
    "# })\n",
    "\n",
    "# hasil = model.predict(all_padded)\n",
    "\n",
    "# Convert hasil to a pandas Series (if it's not already in the correct format)\n",
    "hasil_series = pd.Series(predicted_labels_all, name='hasil')\n",
    "\n",
    "# Concatenate the DataFrame and the Series\n",
    "datas_with_hasil = pd.concat([datas.reset_index(drop=True), hasil_series], axis=1)\n",
    "\n",
    "# Now, datas_with_hasil contains the original datas with an additional column 'hasil'\n",
    "print(datas_with_hasil.head())\n"
   ]
  },
  {
   "cell_type": "code",
   "execution_count": 85,
   "id": "e5de5bdf",
   "metadata": {},
   "outputs": [
    {
     "data": {
      "text/html": [
       "<div>\n",
       "<style scoped>\n",
       "    .dataframe tbody tr th:only-of-type {\n",
       "        vertical-align: middle;\n",
       "    }\n",
       "\n",
       "    .dataframe tbody tr th {\n",
       "        vertical-align: top;\n",
       "    }\n",
       "\n",
       "    .dataframe thead th {\n",
       "        text-align: right;\n",
       "    }\n",
       "</style>\n",
       "<table border=\"1\" class=\"dataframe\">\n",
       "  <thead>\n",
       "    <tr style=\"text-align: right;\">\n",
       "      <th></th>\n",
       "      <th>filtering</th>\n",
       "      <th>num_label</th>\n",
       "      <th>hasil</th>\n",
       "    </tr>\n",
       "  </thead>\n",
       "  <tbody>\n",
       "    <tr>\n",
       "      <th>0</th>\n",
       "      <td>username dikasih tau kalbis kayak praktikum ny...</td>\n",
       "      <td>1</td>\n",
       "      <td>2.0</td>\n",
       "    </tr>\n",
       "    <tr>\n",
       "      <th>1</th>\n",
       "      <td>berguna berdaya hancur</td>\n",
       "      <td>3</td>\n",
       "      <td>0.0</td>\n",
       "    </tr>\n",
       "    <tr>\n",
       "      <th>2</th>\n",
       "      <td>menenggak pizza jamur kendi bir berbudi luhur</td>\n",
       "      <td>2</td>\n",
       "      <td>2.0</td>\n",
       "    </tr>\n",
       "    <tr>\n",
       "      <th>3</th>\n",
       "      <td>titik menempatkan putra penitipan anak menerus...</td>\n",
       "      <td>3</td>\n",
       "      <td>2.0</td>\n",
       "    </tr>\n",
       "    <tr>\n",
       "      <th>4</th>\n",
       "      <td>teknik lumayan aneh banget pas inter passing s...</td>\n",
       "      <td>3</td>\n",
       "      <td>0.0</td>\n",
       "    </tr>\n",
       "    <tr>\n",
       "      <th>...</th>\n",
       "      <td>...</td>\n",
       "      <td>...</td>\n",
       "      <td>...</td>\n",
       "    </tr>\n",
       "    <tr>\n",
       "      <th>21128</th>\n",
       "      <td>mengambil pindah republik ceko chris mengirimi...</td>\n",
       "      <td>3</td>\n",
       "      <td>NaN</td>\n",
       "    </tr>\n",
       "    <tr>\n",
       "      <th>21129</th>\n",
       "      <td>anak habis perpisahan wisuda sekolah foto bare...</td>\n",
       "      <td>3</td>\n",
       "      <td>NaN</td>\n",
       "    </tr>\n",
       "    <tr>\n",
       "      <th>21130</th>\n",
       "      <td>gapaham salah aespa bts fan bts alias army suk...</td>\n",
       "      <td>0</td>\n",
       "      <td>NaN</td>\n",
       "    </tr>\n",
       "    <tr>\n",
       "      <th>21131</th>\n",
       "      <td>melawan takut membesar conqueringgrowingfear</td>\n",
       "      <td>1</td>\n",
       "      <td>NaN</td>\n",
       "    </tr>\n",
       "    <tr>\n",
       "      <th>21132</th>\n",
       "      <td>perasaan hubungan produktif</td>\n",
       "      <td>2</td>\n",
       "      <td>NaN</td>\n",
       "    </tr>\n",
       "  </tbody>\n",
       "</table>\n",
       "<p>21133 rows × 3 columns</p>\n",
       "</div>"
      ],
      "text/plain": [
       "                                               filtering  num_label  hasil\n",
       "0      username dikasih tau kalbis kayak praktikum ny...          1    2.0\n",
       "1                                 berguna berdaya hancur          3    0.0\n",
       "2          menenggak pizza jamur kendi bir berbudi luhur          2    2.0\n",
       "3      titik menempatkan putra penitipan anak menerus...          3    2.0\n",
       "4      teknik lumayan aneh banget pas inter passing s...          3    0.0\n",
       "...                                                  ...        ...    ...\n",
       "21128  mengambil pindah republik ceko chris mengirimi...          3    NaN\n",
       "21129  anak habis perpisahan wisuda sekolah foto bare...          3    NaN\n",
       "21130  gapaham salah aespa bts fan bts alias army suk...          0    NaN\n",
       "21131       melawan takut membesar conqueringgrowingfear          1    NaN\n",
       "21132                        perasaan hubungan produktif          2    NaN\n",
       "\n",
       "[21133 rows x 3 columns]"
      ]
     },
     "execution_count": 85,
     "metadata": {},
     "output_type": "execute_result"
    }
   ],
   "source": [
    "datas_with_hasil"
   ]
  },
  {
   "cell_type": "code",
   "execution_count": null,
   "id": "c0dfdecb",
   "metadata": {},
   "outputs": [],
   "source": []
  }
 ],
 "metadata": {
  "colab": {
   "provenance": []
  },
  "kernelspec": {
   "display_name": "Python 3 (ipykernel)",
   "language": "python",
   "name": "python3"
  },
  "language_info": {
   "codemirror_mode": {
    "name": "ipython",
    "version": 3
   },
   "file_extension": ".py",
   "mimetype": "text/x-python",
   "name": "python",
   "nbconvert_exporter": "python",
   "pygments_lexer": "ipython3",
   "version": "3.7.1"
  }
 },
 "nbformat": 4,
 "nbformat_minor": 5
}
